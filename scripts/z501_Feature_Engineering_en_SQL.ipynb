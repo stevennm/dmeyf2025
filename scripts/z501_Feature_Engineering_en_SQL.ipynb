{
 "cells": [
  {
   "cell_type": "markdown",
   "metadata": {
    "id": "azY5Q6Mko4Sm"
   },
   "source": [
    "# Feature Engineering en SQL\n",
    "\n",
    "A continuación, veremos cómo calcular diferentes variables para el feature engineering utilizando SQL.\n"
   ]
  },
  {
   "cell_type": "code",
   "execution_count": 25,
   "metadata": {
    "colab": {
     "base_uri": "https://localhost:8080/"
    },
    "executionInfo": {
     "elapsed": 5,
     "status": "ok",
     "timestamp": 1756847850614,
     "user": {
      "displayName": "Alejandro Bolaños",
      "userId": "15513030842131101305"
     },
     "user_tz": 180
    },
    "id": "id9aIXnzqYJz",
    "outputId": "68161c06-52d5-4f3a-c88d-432543b1e250"
   },
   "outputs": [
    {
     "name": "stdout",
     "output_type": "stream",
     "text": [
      "The sql extension is already loaded. To reload it, use:\n",
      "  %reload_ext sql\n"
     ]
    }
   ],
   "source": [
    "import duckdb\n",
    "import pandas as pd\n",
    "\n",
    "%load_ext sql\n",
    "%config SqlMagic.autopandas = True\n",
    "%config SqlMagic.feedback = False\n",
    "%config SqlMagic.displaycon = False\n",
    "%config SqlMagic.named_parameters=\"enabled\"\n",
    "%sql duckdb://"
   ]
  },
  {
   "cell_type": "code",
   "execution_count": 2,
   "metadata": {
    "executionInfo": {
     "elapsed": 4,
     "status": "ok",
     "timestamp": 1756847855240,
     "user": {
      "displayName": "Alejandro Bolaños",
      "userId": "15513030842131101305"
     },
     "user_tz": 180
    },
    "id": "N0RgV3r1q_iY"
   },
   "outputs": [],
   "source": [
    "base_path = 'D:/Steven/Facultad/MAESTRIA/DMEyF/segmentacion/'\n",
    "dataset_path = base_path + 'datos/'\n",
    "modelos_path = base_path + 'modelos/'\n",
    "db_path = base_path + 'db/'\n",
    "dataset_file = 'competencia_01_clase_ternaria.csv'"
   ]
  },
  {
   "cell_type": "code",
   "execution_count": null,
   "metadata": {
    "colab": {
     "base_uri": "https://localhost:8080/",
     "height": 85,
     "referenced_widgets": [
      "cb2587b6a62044359b708ff0cff456f2",
      "bd86fc68727243e8899e967370282359",
      "e9aedf07ee9b46a09d29ed2df7776c53"
     ]
    },
    "executionInfo": {
     "elapsed": 21886,
     "status": "ok",
     "timestamp": 1756847878541,
     "user": {
      "displayName": "Alejandro Bolaños",
      "userId": "15513030842131101305"
     },
     "user_tz": 180
    },
    "id": "9HTjzrU5rEa6",
    "outputId": "b60992ab-8566-41a1-a751-975b9c8a281c"
   },
   "outputs": [],
   "source": [
    "%%sql\n",
    "create or replace table competencia_01 as\n",
    "select\n",
    "    *\n",
    "from read_csv_auto(\"{{dataset_path + dataset_file}}\")"
   ]
  },
  {
   "cell_type": "code",
   "execution_count": 41,
   "metadata": {},
   "outputs": [
    {
     "data": {
      "application/vnd.microsoft.datawrangler.viewer.v0+json": {
       "columns": [
        {
         "name": "index",
         "rawType": "int64",
         "type": "integer"
        },
        {
         "name": "Success",
         "rawType": "bool",
         "type": "boolean"
        }
       ],
       "ref": "317fcf96-2105-4054-9f25-330e1b539947",
       "rows": [],
       "shape": {
        "columns": 1,
        "rows": 0
       }
      },
      "text/html": [
       "<div>\n",
       "<style scoped>\n",
       "    .dataframe tbody tr th:only-of-type {\n",
       "        vertical-align: middle;\n",
       "    }\n",
       "\n",
       "    .dataframe tbody tr th {\n",
       "        vertical-align: top;\n",
       "    }\n",
       "\n",
       "    .dataframe thead th {\n",
       "        text-align: right;\n",
       "    }\n",
       "</style>\n",
       "<table border=\"1\" class=\"dataframe\">\n",
       "  <thead>\n",
       "    <tr style=\"text-align: right;\">\n",
       "      <th></th>\n",
       "      <th>Success</th>\n",
       "    </tr>\n",
       "  </thead>\n",
       "  <tbody>\n",
       "  </tbody>\n",
       "</table>\n",
       "</div>"
      ],
      "text/plain": [
       "Empty DataFrame\n",
       "Columns: [Success]\n",
       "Index: []"
      ]
     },
     "execution_count": 41,
     "metadata": {},
     "output_type": "execute_result"
    }
   ],
   "source": [
    "%%sql\n",
    "CREATE OR REPLACE MACRO ratio_seguro(n, d) AS (\n",
    "  CASE\n",
    "    WHEN d IS NULL OR d = 0 THEN NULL\n",
    "    ELSE CAST(n AS DOUBLE) / CAST(d AS DOUBLE)\n",
    "  END\n",
    ");\n",
    "\n",
    "-- Porcentaje seguro (0–100)\n",
    "CREATE OR REPLACE MACRO ratio_pct_seguro(n, d) AS (\n",
    "  CASE\n",
    "    WHEN d IS NULL OR d = 0 THEN NULL\n",
    "    ELSE 100.0 * CAST(n AS DOUBLE) / CAST(d AS DOUBLE)\n",
    "  END\n",
    ");\n",
    "\n",
    "-- Helper: división segura (reutilizable)\n",
    "CREATE OR REPLACE MACRO div_segura(n, d) AS (\n",
    "  CASE\n",
    "    WHEN d IS NULL OR d = 0 THEN NULL\n",
    "    ELSE CAST(n AS DOUBLE) / CAST(d AS DOUBLE)\n",
    "  END\n",
    ");\n",
    "\n",
    "-- log1p(segura) con epsilon para evitar -1 por rounding\n",
    "-- Si el ratio <= -1 + 1e-12 -> NULL (evita log(0) y nums negativos)\n",
    "CREATE OR REPLACE MACRO ratio_log1p_seguro(n, d) AS (\n",
    "  CASE\n",
    "    WHEN n IS NULL OR d IS NULL OR d = 0 THEN NULL\n",
    "    WHEN div_segura(n, d) IS NULL THEN NULL\n",
    "    WHEN div_segura(n, d) <= (-1.0 + 1e-12) THEN NULL\n",
    "    ELSE log10(div_segura(n, d))\n",
    "  END\n",
    ");\n"
   ]
  },
  {
   "cell_type": "code",
   "execution_count": 44,
   "metadata": {},
   "outputs": [
    {
     "data": {
      "application/vnd.microsoft.datawrangler.viewer.v0+json": {
       "columns": [
        {
         "name": "index",
         "rawType": "int64",
         "type": "integer"
        },
        {
         "name": "Success",
         "rawType": "bool",
         "type": "boolean"
        }
       ],
       "ref": "8ae38e12-51d6-4183-b8cb-cbc788185367",
       "rows": [],
       "shape": {
        "columns": 1,
        "rows": 0
       }
      },
      "text/html": [
       "<div>\n",
       "<style scoped>\n",
       "    .dataframe tbody tr th:only-of-type {\n",
       "        vertical-align: middle;\n",
       "    }\n",
       "\n",
       "    .dataframe tbody tr th {\n",
       "        vertical-align: top;\n",
       "    }\n",
       "\n",
       "    .dataframe thead th {\n",
       "        text-align: right;\n",
       "    }\n",
       "</style>\n",
       "<table border=\"1\" class=\"dataframe\">\n",
       "  <thead>\n",
       "    <tr style=\"text-align: right;\">\n",
       "      <th></th>\n",
       "      <th>Success</th>\n",
       "    </tr>\n",
       "  </thead>\n",
       "  <tbody>\n",
       "  </tbody>\n",
       "</table>\n",
       "</div>"
      ],
      "text/plain": [
       "Empty DataFrame\n",
       "Columns: [Success]\n",
       "Index: []"
      ]
     },
     "execution_count": 44,
     "metadata": {},
     "output_type": "execute_result"
    }
   ],
   "source": [
    "%%sql\n",
    "ROLLBACK; -- por si acaso"
   ]
  },
  {
   "cell_type": "code",
   "execution_count": 45,
   "metadata": {},
   "outputs": [
    {
     "data": {
      "application/vnd.microsoft.datawrangler.viewer.v0+json": {
       "columns": [
        {
         "name": "index",
         "rawType": "int64",
         "type": "integer"
        },
        {
         "name": "Success",
         "rawType": "bool",
         "type": "boolean"
        }
       ],
       "ref": "ca766234-1b7c-44dd-abb7-ca6f0ff38d5d",
       "rows": [],
       "shape": {
        "columns": 1,
        "rows": 0
       }
      },
      "text/html": [
       "<div>\n",
       "<style scoped>\n",
       "    .dataframe tbody tr th:only-of-type {\n",
       "        vertical-align: middle;\n",
       "    }\n",
       "\n",
       "    .dataframe tbody tr th {\n",
       "        vertical-align: top;\n",
       "    }\n",
       "\n",
       "    .dataframe thead th {\n",
       "        text-align: right;\n",
       "    }\n",
       "</style>\n",
       "<table border=\"1\" class=\"dataframe\">\n",
       "  <thead>\n",
       "    <tr style=\"text-align: right;\">\n",
       "      <th></th>\n",
       "      <th>Success</th>\n",
       "    </tr>\n",
       "  </thead>\n",
       "  <tbody>\n",
       "  </tbody>\n",
       "</table>\n",
       "</div>"
      ],
      "text/plain": [
       "Empty DataFrame\n",
       "Columns: [Success]\n",
       "Index: []"
      ]
     },
     "execution_count": 45,
     "metadata": {},
     "output_type": "execute_result"
    }
   ],
   "source": [
    "%%sql\n",
    "CREATE TABLE dataset_202104_con_ratios AS\n",
    "SELECT\n",
    "  t.*,\n",
    "\n",
    "  -- ---- Uso de crédito\n",
    "  ratio_pct_seguro(\n",
    "    COALESCE(Visa_msaldototal, 0) + COALESCE(Master_msaldototal, 0),\n",
    "    NULLIF(COALESCE(Visa_mlimitecompra, 0) + COALESCE(Master_mlimitecompra, 0), 0)\n",
    "  )                                                   AS pct_util_limite_tc,\n",
    "\n",
    "  ratio_pct_seguro(Visa_mpagominimo, NULLIF(Visa_msaldopesos, 0))\n",
    "                                                    AS pct_pago_min_vs_saldo_visa,\n",
    "\n",
    "  ratio_seguro(\n",
    "    COALESCE(mtarjeta_visa_consumo, 0) + COALESCE(mtarjeta_master_consumo, 0),\n",
    "    mcuentas_saldo\n",
    "  )                                                   AS gasto_tc_vs_saldo,\n",
    "\n",
    "  -- ---- Liquidez / sueldo\n",
    "  ratio_seguro(mcaja_ahorro, mpayroll)               AS caja_vs_sueldo,\n",
    "  ratio_seguro(mcuentas_saldo, mpayroll)             AS saldo_vs_sueldo,\n",
    "\n",
    "  -- ---- Actividad transaccional\n",
    "  ratio_seguro(ctarjeta_debito_transacciones, ctrx_quarter)\n",
    "                                                     AS share_trx_debito,\n",
    "  ratio_seguro(\n",
    "    COALESCE(ctarjeta_visa_transacciones, 0) + COALESCE(ctarjeta_master_transacciones, 0),\n",
    "    ctrx_quarter\n",
    "  )                                                   AS share_trx_credito,\n",
    "  ratio_seguro(\n",
    "    COALESCE(chomebanking_transacciones, 0) + COALESCE(cmobile_app_trx, 0),\n",
    "    ctrx_quarter\n",
    "  )                                                   AS share_trx_digital,\n",
    "\n",
    "  -- ---- Transferencias\n",
    "  ratio_seguro(mtransferencias_emitidas, mtransferencias_recibidas)\n",
    "                                                     AS ratio_out_in_monto,\n",
    "  ratio_seguro(ctransferencias_emitidas, ctrx_quarter)\n",
    "                                                     AS share_trx_out,\n",
    "\n",
    "  -- ---- Estructura financiera\n",
    "  ratio_seguro(mpasivos_margen, mactivos_margen)     AS pasivos_sobre_activos_margen,\n",
    "  ratio_seguro(mcuenta_corriente, mcuentas_saldo)    AS ccorriente_vs_saldo,\n",
    "\n",
    "\n",
    "\n",
    "FROM competencia_01 AS t\n",
    "WHERE foto_mes = 202104;"
   ]
  },
  {
   "cell_type": "markdown",
   "metadata": {
    "id": "ZL2Ui5fDI3lu"
   },
   "source": [
    "TAREA: Escriba una macro para hacer un ratio de dos variables que sea seguro, donde no solo hay campos con null, también esta el problema de la división por cero. Como es costumbre comparta su solución por este canal. Lea https://duckdb.org/docs/sql/functions/numeric.html para referencias de funciones que puede usar.\n",
    "\n",
    "---\n",
    "\n",
    "\"Claro!\" me dirá, mientras lee esto con un mate en la mano, \"para cosas fáciles usar SQL alcanza, pero para algo más complicado como crear campos contra el data drifting es difícil\".... elija su medicina:"
   ]
  },
  {
   "cell_type": "code",
   "execution_count": null,
   "metadata": {
    "colab": {
     "base_uri": "https://localhost:8080/",
     "height": 424
    },
    "executionInfo": {
     "elapsed": 2618,
     "status": "ok",
     "timestamp": 1756847931371,
     "user": {
      "displayName": "Alejandro Bolaños",
      "userId": "15513030842131101305"
     },
     "user_tz": 180
    },
    "id": "lwFjk5_9JAhC",
    "outputId": "602069c7-c5f5-46ef-8e73-f44126add532"
   },
   "outputs": [
    {
     "name": "stderr",
     "output_type": "stream",
     "text": [
      "RuntimeError: If using snippets, you may pass the --with argument explicitly.\n",
      "For more details please refer: https://jupysql.ploomber.io/en/latest/compose.html#with-argument\n",
      "\n",
      "\n",
      "Original error message from DB driver:\n",
      "(duckdb.duckdb.CatalogException) Catalog Error: Table with name dataset_enriquecido does not exist!\n",
      "Did you mean \"pg_sequence\"?\n",
      "\n",
      "LINE 34: FROM dataset_enriquecido\n",
      "              ^\n",
      "[SQL: CREATE OR REPLACE VIEW v_ratios_202104 AS\n",
      "SELECT\n",
      "  numero_de_cliente,\n",
      "  foto_mes,\n",
      "\n",
      "\n",
      "  ratio_pct_seguro(Visa_msaldototal + Master_msaldototal,\n",
      "                   NULLIF(Visa_mlimitecompra,0) + NULLIF(Master_mlimitecompra,0)) AS pct_util_limite_tc,\n",
      "  ratio_pct_seguro(Visa_mpagominimo, NULLIF(Visa_msaldopesos,0))                 AS pct_pago_min_vs_saldo_visa,\n",
      "  ratio_seguro(mtarjeta_visa_consumo + mtarjeta_master_consumo, mcuentas_saldo)  AS gasto_tc_vs_saldo,\n",
      "\n",
      "\n",
      "  ratio_seguro(mcaja_ahorro, mpayroll)                                           AS caja_vs_sueldo,\n",
      "  ratio_seguro(mcuentas_saldo, mpayroll)                                         AS saldo_vs_sueldo,\n",
      "\n",
      "\n",
      "  ratio_seguro(ctarjeta_debito_transacciones, ctrx_quarter)                      AS share_trx_debito,\n",
      "  ratio_seguro(ctarjeta_visa_transacciones + ctarjeta_master_transacciones,\n",
      "               ctrx_quarter)                                                     AS share_trx_credito,\n",
      "  ratio_seguro(chomebanking_transacciones + cmobile_app_trx, ctrx_quarter)       AS share_trx_digital,\n",
      "\n",
      "\n",
      "  ratio_seguro(mtransferencias_emitidas, mtransferencias_recibidas)              AS ratio_out_in_monto,\n",
      "  ratio_seguro(ctransferencias_emitidas, ctrx_quarter)                           AS share_trx_out,\n",
      "\n",
      "\n",
      "  ratio_seguro(mpasivos_margen, mactivos_margen)                                 AS pasivos_sobre_activos_margen,\n",
      "  ratio_seguro(mcuenta_corriente, mcuentas_saldo)                                AS ccorriente_vs_saldo,\n",
      "\n",
      "\n",
      "  ratio_log1p_seguro(mtarjeta_visa_consumo + mtarjeta_master_consumo, mcuentas_saldo) AS log1p_gasto_tc_vs_saldo,\n",
      "  ratio_log1p_seguro(chomebanking_transacciones + cmobile_app_trx, ctrx_quarter)      AS log1p_share_trx_digital\n",
      "\n",
      "FROM dataset_enriquecido\n",
      "WHERE foto_mes = 202104;]\n",
      "(Background on this error at: https://sqlalche.me/e/20/f405)\n",
      "\n"
     ]
    }
   ],
   "source": [
    "%%sql\n",
    "select\n",
    "    foto_mes\n",
    "    , numero_de_cliente\n",
    "    , cliente_antiguedad\n",
    "    , row_number() over (partition by numero_de_cliente order by foto_mes) as cliente_antiguedad_2\n",
    "    , percent_rank() over (partition by foto_mes order by cliente_antiguedad) as cliente_antiguedad_3\n",
    "    , cume_dist() over (partition by foto_mes order by cliente_antiguedad) as cliente_antiguedad_4\n",
    "    , ntile(4) over (partition by foto_mes order by cliente_antiguedad) as cliente_antiguedad_5\n",
    "    , ntile(10) over (partition by foto_mes order by cliente_antiguedad) as cliente_antiguedad_6\n",
    "from competencia_01\n",
    "order by numero_de_cliente, cliente_antiguedad\n"
   ]
  },
  {
   "cell_type": "markdown",
   "metadata": {
    "id": "weXY2U2oLHFd"
   },
   "source": [
    "Qué paso? use las hermosas funciones analíticas de SQL. Al campo cliente_antiguedad (que no sufre de data drifting, solo esta para dar el ejemplo) para cada período (partition by foto_mes) la ordeno (order by cliente_antiguedad) y luego calculo las métricas de orden que pueden encontrar acá https://duckdb.org/docs/sql/window_functions.html#general-purpose-window-functions.\n",
    "\n",
    "Seguiremos usando las funciones analíticas de SQL, esta vez para calcular features que utilizan valores del pasado.\n",
    "\n",
    "Qué pasa si quiero agregar un feature que muestre el valor del periodo anterior?\n"
   ]
  },
  {
   "cell_type": "code",
   "execution_count": null,
   "metadata": {
    "colab": {
     "base_uri": "https://localhost:8080/",
     "height": 363
    },
    "executionInfo": {
     "elapsed": 644,
     "status": "ok",
     "timestamp": 1756847943532,
     "user": {
      "displayName": "Alejandro Bolaños",
      "userId": "15513030842131101305"
     },
     "user_tz": 180
    },
    "id": "PeE8H0BZLF4q",
    "outputId": "b9dda3e7-ee28-48b3-c1fc-a5ce4a2dc8c6"
   },
   "outputs": [],
   "source": [
    "%%sql\n",
    "select\n",
    "  numero_de_cliente\n",
    "  , foto_mes\n",
    "  , ctrx_quarter\n",
    "  , lag(ctrx_quarter, 1) over (partition by numero_de_cliente order by foto_mes) as lag_1_ctrx_quarter\n",
    "from competencia_01\n",
    "limit 10\n"
   ]
  },
  {
   "cell_type": "markdown",
   "metadata": {
    "id": "YArVBpb8LSGL"
   },
   "source": [
    "Podemos calcular el delta (diferencia) entre el valor pasado y el presente, para uno o varios meses\n"
   ]
  },
  {
   "cell_type": "code",
   "execution_count": null,
   "metadata": {
    "colab": {
     "base_uri": "https://localhost:8080/",
     "height": 363
    },
    "executionInfo": {
     "elapsed": 357,
     "status": "ok",
     "timestamp": 1756847946967,
     "user": {
      "displayName": "Alejandro Bolaños",
      "userId": "15513030842131101305"
     },
     "user_tz": 180
    },
    "id": "3fzJHwWsLU2u",
    "outputId": "f4209e7e-bce9-4edd-9911-a8c295b8d57d"
   },
   "outputs": [],
   "source": [
    "%%sql\n",
    "select\n",
    "  numero_de_cliente\n",
    "  , foto_mes\n",
    "  , ctrx_quarter\n",
    "  , lag(ctrx_quarter, 1) over (partition by numero_de_cliente order by foto_mes) as lag_1_ctrx_quarter\n",
    "  , ctrx_quarter - lag_1_ctrx_quarter as delta_1_ctrx_quarter\n",
    "  , ctrx_quarter - lag(ctrx_quarter, 2) over (partition by numero_de_cliente order by foto_mes) as lag_2_ctrx_quarter\n",
    "from competencia_01\n",
    "limit 10\n"
   ]
  },
  {
   "cell_type": "markdown",
   "metadata": {
    "id": "5_sDG_hmLdh6"
   },
   "source": [
    "Si necesitamos ya no solo traer un valor del pasado, sino una secuencia de valores, por ejemplo para calcular la media móvil con los últimos 3 meses anteriores? se puede hacer fácilmente\n"
   ]
  },
  {
   "cell_type": "code",
   "execution_count": null,
   "metadata": {
    "colab": {
     "base_uri": "https://localhost:8080/",
     "height": 363
    },
    "executionInfo": {
     "elapsed": 794,
     "status": "ok",
     "timestamp": 1756847952677,
     "user": {
      "displayName": "Alejandro Bolaños",
      "userId": "15513030842131101305"
     },
     "user_tz": 180
    },
    "id": "c_qtb1HzLXn5",
    "outputId": "66a28a18-93ed-4096-a608-b0e17efb2b2b"
   },
   "outputs": [],
   "source": [
    "%%sql\n",
    "select\n",
    "  numero_de_cliente\n",
    "  , foto_mes\n",
    "  , ctrx_quarter\n",
    "  , lag(ctrx_quarter, 1) over (partition by numero_de_cliente order by foto_mes) as lag_1_ctrx_quarter\n",
    "  , lag(ctrx_quarter, 2) over (partition by numero_de_cliente order by foto_mes) as lag_2_ctrx_quarter\n",
    "  , lag(ctrx_quarter, 3) over (partition by numero_de_cliente order by foto_mes) as lag_3_ctrx_quarter\n",
    "  , avg(ctrx_quarter) over (partition by numero_de_cliente\n",
    "                            order by foto_mes\n",
    "                            rows between 3 preceding and current row) as avg_3_ctrx_quarter\n",
    "from competencia_01\n",
    "order by numero_de_cliente, foto_mes desc\n",
    "limit 10\n"
   ]
  },
  {
   "cell_type": "markdown",
   "metadata": {
    "id": "_dRgwDh-Mml8"
   },
   "source": [
    "Si embargo puede resultar incómodo escribir constantemente el over partition sobre todo si se buscan aplicar muchas veces para distintas funciones. Para reducir el código se puede usar la siguiente sintaxis\n",
    "\n"
   ]
  },
  {
   "cell_type": "code",
   "execution_count": null,
   "metadata": {
    "colab": {
     "base_uri": "https://localhost:8080/",
     "height": 363
    },
    "executionInfo": {
     "elapsed": 589,
     "status": "ok",
     "timestamp": 1756847961579,
     "user": {
      "displayName": "Alejandro Bolaños",
      "userId": "15513030842131101305"
     },
     "user_tz": 180
    },
    "id": "-w7q2f9DMkqy",
    "outputId": "701a8f33-1b63-4a94-b395-1403676cd66c"
   },
   "outputs": [],
   "source": [
    "%%sql\n",
    "select\n",
    "  numero_de_cliente\n",
    "  , foto_mes\n",
    "  , ctrx_quarter\n",
    "  , avg(ctrx_quarter) over ventana_3 as ctrx_quarter_media_3\n",
    "  , max(ctrx_quarter) over ventana_3 as ctrx_quarter_max_3\n",
    "  , min(ctrx_quarter) over ventana_3 as ctrx_quarter_min_3\n",
    "from competencia_01\n",
    "window ventana_3 as (partition by numero_de_cliente order by foto_mes rows between 3 preceding and current row)\n",
    "limit 10\n"
   ]
  },
  {
   "cell_type": "markdown",
   "metadata": {
    "id": "t1cd9CbqMzNy"
   },
   "source": [
    "Para saber más que funciones tenemos disponibles, recomiendo ver los siguientes links:\n",
    "\n",
    "https://duckdb.org/docs/archive/0.8.1/sql/window_functions\n",
    "https://duckdb.org/docs/archive/0.8.1/sql/aggregates\n",
    "Un caso más, que ni me voy a molestar en explicar que significa...\n"
   ]
  },
  {
   "cell_type": "code",
   "execution_count": null,
   "metadata": {
    "colab": {
     "base_uri": "https://localhost:8080/",
     "height": 363
    },
    "executionInfo": {
     "elapsed": 738,
     "status": "ok",
     "timestamp": 1756847969258,
     "user": {
      "displayName": "Alejandro Bolaños",
      "userId": "15513030842131101305"
     },
     "user_tz": 180
    },
    "id": "8_y8BipcM18A",
    "outputId": "7814f1ca-feac-4600-86c2-adca321b22bf"
   },
   "outputs": [],
   "source": [
    "%%sql\n",
    "select\n",
    "  numero_de_cliente\n",
    "  , foto_mes\n",
    "  , ctrx_quarter\n",
    "  ,regr_slope(ctrx_quarter, cliente_antiguedad) over ventana_3 as ctrx_quarter_slope_3\n",
    "from competencia_01\n",
    "window ventana_3 as (partition by numero_de_cliente order by foto_mes rows between 3 preceding and current row)\n",
    "limit 10\n"
   ]
  },
  {
   "cell_type": "markdown",
   "metadata": {
    "id": "RbJ3KvPONDaM"
   },
   "source": [
    "... Alguno dirá \"tenemos que escribir todo esto a mano? Son muchas variables!\". Bueno no, use los conocimientos de programación para que la computadora trabaje para usted. Si tenemos una lista de campos\n"
   ]
  },
  {
   "cell_type": "code",
   "execution_count": null,
   "metadata": {
    "executionInfo": {
     "elapsed": 36,
     "status": "ok",
     "timestamp": 1756847992759,
     "user": {
      "displayName": "Alejandro Bolaños",
      "userId": "15513030842131101305"
     },
     "user_tz": 180
    },
    "id": "h1IVd_8wNJnY"
   },
   "outputs": [],
   "source": [
    "campos = ['active_quarter', 'cliente_vip', 'internet', 'cliente_edad', 'cliente_antiguedad', 'mrentabilidad']\n"
   ]
  },
  {
   "cell_type": "markdown",
   "metadata": {
    "id": "TgxdmjPcPiT5"
   },
   "source": [
    "Podemos hacer un script muy sencillo que nos genere el texto que hay que poner en una query para generar esas variables\n"
   ]
  },
  {
   "cell_type": "code",
   "execution_count": null,
   "metadata": {
    "colab": {
     "base_uri": "https://localhost:8080/"
    },
    "executionInfo": {
     "elapsed": 6,
     "status": "ok",
     "timestamp": 1756847998329,
     "user": {
      "displayName": "Alejandro Bolaños",
      "userId": "15513030842131101305"
     },
     "user_tz": 180
    },
    "id": "FRj7or7LPk6i",
    "outputId": "95c5c65d-fc64-41cf-ce8e-49242ee38eb4"
   },
   "outputs": [],
   "source": [
    "nuevos_features = \"\"\n",
    "for campo in campos:\n",
    "  nuevos_features += f\"\\n, regr_slope({campo}, cliente_antiguedad) over ventana_3 as ctrx_{campo}_slope_3\"\n",
    "print(nuevos_features)\n"
   ]
  },
  {
   "cell_type": "markdown",
   "metadata": {
    "id": "K1UYXVfrRYd7"
   },
   "source": []
  },
  {
   "cell_type": "markdown",
   "metadata": {
    "id": "uViiql3Kp4jr"
   },
   "source": [
    "\n",
    "\n",
    "\n",
    "Con la salida de esa celda, arme la query agregando las nuevas líneas y la ejecuta.\n",
    "\n",
    "Lo que acabamos de hacer de manera muy simple es como \"funcionan\" sistemas como **dbt** que están tan de moda en el mundo de los datos.\n",
    "\n",
    "La última reflexión, la creación de nuevas features es un proceso computacionalmente rápido pero intenso. Si ejecutó lo anterior pudo haber visto que en poco minutos tenía sus nuevas variables. Pero, también pudo haberle fallado por temas de recursos. Miles de variables necesitan los recursos adecuados. Use la nube, una máquina grande, al menos que sepa bien como optimizar las queries.\n"
   ]
  },
  {
   "cell_type": "markdown",
   "metadata": {
    "id": "8kpwYKQzRaU7"
   },
   "source": [
    "Y a no olvidarse guardar las nueva tabla"
   ]
  },
  {
   "cell_type": "code",
   "execution_count": 47,
   "metadata": {
    "id": "pTQNkXCxRQc5"
   },
   "outputs": [
    {
     "data": {
      "application/vnd.microsoft.datawrangler.viewer.v0+json": {
       "columns": [
        {
         "name": "index",
         "rawType": "int64",
         "type": "integer"
        },
        {
         "name": "Success",
         "rawType": "bool",
         "type": "boolean"
        }
       ],
       "ref": "613d7625-66d6-4533-8e59-77bdcf426f87",
       "rows": [],
       "shape": {
        "columns": 1,
        "rows": 0
       }
      },
      "text/html": [
       "<div>\n",
       "<style scoped>\n",
       "    .dataframe tbody tr th:only-of-type {\n",
       "        vertical-align: middle;\n",
       "    }\n",
       "\n",
       "    .dataframe tbody tr th {\n",
       "        vertical-align: top;\n",
       "    }\n",
       "\n",
       "    .dataframe thead th {\n",
       "        text-align: right;\n",
       "    }\n",
       "</style>\n",
       "<table border=\"1\" class=\"dataframe\">\n",
       "  <thead>\n",
       "    <tr style=\"text-align: right;\">\n",
       "      <th></th>\n",
       "      <th>Success</th>\n",
       "    </tr>\n",
       "  </thead>\n",
       "  <tbody>\n",
       "  </tbody>\n",
       "</table>\n",
       "</div>"
      ],
      "text/plain": [
       "Empty DataFrame\n",
       "Columns: [Success]\n",
       "Index: []"
      ]
     },
     "execution_count": 47,
     "metadata": {},
     "output_type": "execute_result"
    }
   ],
   "source": [
    "%%sql\n",
    "COPY dataset_202104_con_ratios TO '{dataset_path}competencia_01_fe.csv' (FORMAT CSV, HEADER TRUE);\n"
   ]
  }
 ],
 "metadata": {
  "colab": {
   "authorship_tag": "ABX9TyOrr1gmuTpdsmnrIF4V7UP8",
   "mount_file_id": "114JJwqGN5DdisFvxLOF9e09Evl78-2IQ",
   "provenance": []
  },
  "kernelspec": {
   "display_name": "segmentacion",
   "language": "python",
   "name": "python3"
  },
  "language_info": {
   "codemirror_mode": {
    "name": "ipython",
    "version": 3
   },
   "file_extension": ".py",
   "mimetype": "text/x-python",
   "name": "python",
   "nbconvert_exporter": "python",
   "pygments_lexer": "ipython3",
   "version": "3.11.13"
  },
  "widgets": {
   "application/vnd.jupyter.widget-state+json": {
    "bd86fc68727243e8899e967370282359": {
     "model_module": "@jupyter-widgets/base",
     "model_module_version": "1.2.0",
     "model_name": "LayoutModel",
     "state": {
      "_model_module": "@jupyter-widgets/base",
      "_model_module_version": "1.2.0",
      "_model_name": "LayoutModel",
      "_view_count": null,
      "_view_module": "@jupyter-widgets/base",
      "_view_module_version": "1.2.0",
      "_view_name": "LayoutView",
      "align_content": null,
      "align_items": null,
      "align_self": null,
      "border": null,
      "bottom": null,
      "display": null,
      "flex": null,
      "flex_flow": null,
      "grid_area": null,
      "grid_auto_columns": null,
      "grid_auto_flow": null,
      "grid_auto_rows": null,
      "grid_column": null,
      "grid_gap": null,
      "grid_row": null,
      "grid_template_areas": null,
      "grid_template_columns": null,
      "grid_template_rows": null,
      "height": null,
      "justify_content": null,
      "justify_items": null,
      "left": null,
      "margin": null,
      "max_height": null,
      "max_width": null,
      "min_height": null,
      "min_width": null,
      "object_fit": null,
      "object_position": null,
      "order": null,
      "overflow": null,
      "overflow_x": null,
      "overflow_y": null,
      "padding": null,
      "right": null,
      "top": null,
      "visibility": null,
      "width": "auto"
     }
    },
    "cb2587b6a62044359b708ff0cff456f2": {
     "model_module": "@jupyter-widgets/controls",
     "model_module_version": "1.5.0",
     "model_name": "FloatProgressModel",
     "state": {
      "_dom_classes": [],
      "_model_module": "@jupyter-widgets/controls",
      "_model_module_version": "1.5.0",
      "_model_name": "FloatProgressModel",
      "_view_count": null,
      "_view_module": "@jupyter-widgets/controls",
      "_view_module_version": "1.5.0",
      "_view_name": "ProgressView",
      "bar_style": "",
      "description": "",
      "description_tooltip": null,
      "layout": "IPY_MODEL_bd86fc68727243e8899e967370282359",
      "max": 100,
      "min": 0,
      "orientation": "horizontal",
      "style": "IPY_MODEL_e9aedf07ee9b46a09d29ed2df7776c53",
      "value": 100
     }
    },
    "e9aedf07ee9b46a09d29ed2df7776c53": {
     "model_module": "@jupyter-widgets/controls",
     "model_module_version": "1.5.0",
     "model_name": "ProgressStyleModel",
     "state": {
      "_model_module": "@jupyter-widgets/controls",
      "_model_module_version": "1.5.0",
      "_model_name": "ProgressStyleModel",
      "_view_count": null,
      "_view_module": "@jupyter-widgets/base",
      "_view_module_version": "1.2.0",
      "_view_name": "StyleView",
      "bar_color": "black",
      "description_width": ""
     }
    }
   }
  }
 },
 "nbformat": 4,
 "nbformat_minor": 0
}
