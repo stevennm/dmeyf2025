{
 "cells": [
  {
   "cell_type": "markdown",
   "metadata": {
    "id": "FX-Vq4mgJS_t"
   },
   "source": [
    "# Segmentando clientes\n",
    "\n",
    "En esta notebook se verá una forma sobre como segmentar a los clientes, cuando cuenta con una gran cantidad de estos sobre una base de datos de una gran (?) cantidad de dimensiones.\n",
    "\n",
    "Empezaremos cargando el entorno e instalando los requerimentos necesarios."
   ]
  },
  {
   "cell_type": "code",
   "execution_count": null,
   "metadata": {
    "executionInfo": {
     "elapsed": 3,
     "status": "ok",
     "timestamp": 1756861630841,
     "user": {
      "displayName": "Alejandro Bolaños",
      "userId": "15513030842131101305"
     },
     "user_tz": 180
    },
    "id": "CqrQIDd8JRlJ"
   },
   "outputs": [],
   "source": [
    "# %pip install umap-learn"
   ]
  },
  {
   "cell_type": "code",
   "execution_count": null,
   "metadata": {},
   "outputs": [],
   "source": [
    "#!pip install --upgrade jupyter ipywidgets"
   ]
  },
  {
   "cell_type": "code",
   "execution_count": null,
   "metadata": {},
   "outputs": [],
   "source": [
    "#%jupyter nbextension enable --py widgetsnbextension # removed !pip on the recommendation of a comment."
   ]
  },
  {
   "cell_type": "code",
   "execution_count": 1,
   "metadata": {
    "executionInfo": {
     "elapsed": 13,
     "status": "ok",
     "timestamp": 1756861630860,
     "user": {
      "displayName": "Alejandro Bolaños",
      "userId": "15513030842131101305"
     },
     "user_tz": 180
    },
    "id": "T8x1jAl_kqFt"
   },
   "outputs": [
    {
     "name": "stderr",
     "output_type": "stream",
     "text": [
      "d:\\Steven\\Facultad\\MAESTRIA\\DMEyF\\segmentacion\\.venv\\Lib\\site-packages\\tqdm\\auto.py:21: TqdmWarning: IProgress not found. Please update jupyter and ipywidgets. See https://ipywidgets.readthedocs.io/en/stable/user_install.html\n",
      "  from .autonotebook import tqdm as notebook_tqdm\n"
     ]
    }
   ],
   "source": [
    "import pandas as pd\n",
    "import numpy as np\n",
    "import seaborn as sns\n",
    "import optuna\n",
    "from optuna.visualization import plot_optimization_history, plot_param_importances, plot_slice, plot_contour\n",
    "import pickle\n",
    "\n",
    "from umap import UMAP\n",
    "import matplotlib.pyplot as plt\n",
    "from sklearn.cluster import DBSCAN\n",
    "from sklearn.ensemble import  RandomForestClassifier\n",
    "from sklearn.impute import SimpleImputer"
   ]
  },
  {
   "cell_type": "code",
   "execution_count": 2,
   "metadata": {
    "executionInfo": {
     "elapsed": 11,
     "status": "ok",
     "timestamp": 1756861630870,
     "user": {
      "displayName": "Alejandro Bolaños",
      "userId": "15513030842131101305"
     },
     "user_tz": 180
    },
    "id": "R58qDmLYtVXk"
   },
   "outputs": [],
   "source": [
    "base_path = 'D:/Steven/Facultad/MAESTRIA/DMEyF/segmentacion/'\n",
    "dataset_path = base_path + 'datos/'\n",
    "modelos_path = base_path + 'modelos/'\n",
    "db_path = base_path + 'db/'\n",
    "dataset_file = 'competencia_01_clase_ternaria.csv'\n",
    "\n",
    "ganancia_acierto = 780000\n",
    "costo_estimulo = 20000"
   ]
  },
  {
   "cell_type": "code",
   "execution_count": 3,
   "metadata": {
    "executionInfo": {
     "elapsed": 24457,
     "status": "ok",
     "timestamp": 1756861655328,
     "user": {
      "displayName": "Alejandro Bolaños",
      "userId": "15513030842131101305"
     },
     "user_tz": 180
    },
    "id": "bpzFTT_HkzLx"
   },
   "outputs": [],
   "source": [
    "df_train = pd.read_csv(dataset_path + dataset_file)"
   ]
  },
  {
   "cell_type": "markdown",
   "metadata": {
    "id": "AEDRaksFthSF"
   },
   "source": [
    "Solo segmentaremos a los clientes de abril, dado que necesitaremos variables en algún momento agregar variables históricas para entender su comportamiento previo a la **baja**"
   ]
  },
  {
   "cell_type": "code",
   "execution_count": 4,
   "metadata": {
    "executionInfo": {
     "elapsed": 411,
     "status": "ok",
     "timestamp": 1756861655755,
     "user": {
      "displayName": "Alejandro Bolaños",
      "userId": "15513030842131101305"
     },
     "user_tz": 180
    },
    "id": "MNZ1Vrg4k9r8"
   },
   "outputs": [],
   "source": [
    "df_train = df_train[df_train['foto_mes']==202104]"
   ]
  },
  {
   "cell_type": "markdown",
   "metadata": {
    "id": "yR9XFSG4t5We"
   },
   "source": [
    "A su vez, nos concentraremos en el fenómeno de la **baja**. No importa si es en un mes o si es en dos."
   ]
  },
  {
   "cell_type": "code",
   "execution_count": 5,
   "metadata": {
    "executionInfo": {
     "elapsed": 167,
     "status": "ok",
     "timestamp": 1756861655925,
     "user": {
      "displayName": "Alejandro Bolaños",
      "userId": "15513030842131101305"
     },
     "user_tz": 180
    },
    "id": "sXUD6rxyk7VJ"
   },
   "outputs": [],
   "source": [
    "Xtrain = df_train\n",
    "ytrain = Xtrain[\"clase_ternaria\"].map(lambda x: 0 if x == \"CONTINUA\" else 1)\n",
    "Xtrain = Xtrain.drop(\"clase_ternaria\", axis=1)\n",
    "\n",
    "del(df_train)"
   ]
  },
  {
   "cell_type": "markdown",
   "metadata": {
    "id": "5FR1cavzuEaB"
   },
   "source": [
    "Lo primero que necesitamos es saber cuando un cliente es parecido a otro. Todos los clientes que son parecidos los juntaremos en un **segmento** y sobre esos segmentos haremos perfilados o profiles para entender que los caracteriza.\n",
    "\n",
    "Saber cuando un cliente es parecido a otro no es algo tan simple en un problema de alta dimensionalidad, lo que se suele llamar **curse of dimensionality**. Las cosas no son lo mismo más allá de nuestras 3 escasas dimensiones. Para muestra, un botón: https://www.youtube.com/watch?v=mceaM2_zQd8\n",
    "\n",
    "Por esto, es conveniente usar herramientas que nos ayuden a no tener que hacer distancias euclídeas.\n",
    "\n",
    "Empecemos con una ayuda con nos dan nuestros amigos, los **rf** con una original matriz de distancias (https://en.wikipedia.org/wiki/Distance_matrix)"
   ]
  },
  {
   "cell_type": "markdown",
   "metadata": {
    "id": "r3_HXJFymRN3"
   },
   "source": [
    "La **Random Forest Distance** es una matriz derivada del algoritmo Random Forest,\n",
    "\n",
    "+ Se utiliza para medir la similitud entre pares de puntos de datos. Esta métrica se basa en la idea de cuántas veces dos puntos de datos terminan en la misma hoja de un árbol en un **rf**, entre los múltiples árboles que se generan.\n",
    "\n",
    "+ Cómo se Calcula?\n",
    "\n",
    " 1. Se entrena un **rf**.\n",
    " 2. Para cada par de clientes $c_i$ y $c_j$, se observa cuántas veces caen en la misma hoja a través de todos los árboles del bosque. Luego se agrega en la posición $i$, $j$ de una matriz el número de veces que coincidieron esos dos clientes en un nodo terminal.\n",
    " 3. Se calcula la matriz de distancia como **1 - proporción de veces que caen en la misma hoja**. Ejemplo: Si caen en la misma hoja el 90% de las veces, su distancia será 0.1. Si nunca caen en la misma hoja, la distancia es 1.\n",
    "\n",
    "Veamoslo aplicado en nuestro caso"
   ]
  },
  {
   "cell_type": "markdown",
   "metadata": {
    "id": "G9omJU4KnsVE"
   },
   "source": [
    "Para trabajar con este algoritmo no vamos a trabajar con todos los datos. Usted decida con cuantos trabajar. En este caso, tomaremos todos los **baja** y unos 2000 **continua**, ya que queremos como interactuan los segmentos de clientes que se van con los que se quedan.\n"
   ]
  },
  {
   "cell_type": "code",
   "execution_count": 6,
   "metadata": {
    "executionInfo": {
     "elapsed": 56,
     "status": "ok",
     "timestamp": 1756861655984,
     "user": {
      "displayName": "Alejandro Bolaños",
      "userId": "15513030842131101305"
     },
     "user_tz": 180
    },
    "id": "4aqKBvj2nnrM"
   },
   "outputs": [],
   "source": [
    "np.random.seed(17)\n",
    "continua_sample = ytrain[ytrain == 0].sample(2000).index\n",
    "bajas_1_2 = ytrain[ytrain == 1].index\n",
    "rf_index = continua_sample.union(bajas_1_2)\n",
    "\n",
    "Xtrain_rf = Xtrain.loc[rf_index]\n",
    "ytrain_rf = ytrain.loc[rf_index]"
   ]
  },
  {
   "cell_type": "markdown",
   "metadata": {
    "id": "CFTvRro4yv2C"
   },
   "source": [
    "Entrenamos un simple **rf**, despliegue sus herramientas aprendidas para contar con un buen modelo\n"
   ]
  },
  {
   "cell_type": "code",
   "execution_count": 7,
   "metadata": {},
   "outputs": [],
   "source": [
    "imp_mean = SimpleImputer(missing_values=np.nan, strategy='median')\n",
    "Xtrain_rf_imp = imp_mean.fit_transform(Xtrain_rf)"
   ]
  },
  {
   "cell_type": "code",
   "execution_count": null,
   "metadata": {},
   "outputs": [],
   "source": [
    "\"\"\" def ganancia_prob(y_hat, y, prop=1, class_index=1, threshold=0.025):\n",
    "  @np.vectorize\n",
    "  def ganancia_row(predicted, actual, threshold=threshold):\n",
    "    return  (predicted >= threshold) * (ganancia_acierto if actual == \"BAJA+2\" else -costo_estimulo)\n",
    "\n",
    "  return ganancia_row(y_hat[:,class_index], y).sum() / prop \"\"\""
   ]
  },
  {
   "cell_type": "code",
   "execution_count": null,
   "metadata": {},
   "outputs": [],
   "source": [
    "\"\"\" def objective(trial):\n",
    "    max_depth = trial.suggest_int('max_depth', 2, 50)\n",
    "    min_samples_split = trial.suggest_int('min_samples_split', 2, 2000)\n",
    "    min_samples_leaf = trial.suggest_int('min_samples_leaf', 1, 200)\n",
    "    max_features = trial.suggest_float('max_features', 0.05, 0.7)\n",
    "\n",
    "    model = RandomForestClassifier(\n",
    "        n_estimators=100,\n",
    "        max_depth=max_depth,\n",
    "        min_samples_split=min_samples_split,\n",
    "        min_samples_leaf=min_samples_leaf,\n",
    "        max_features=max_features,\n",
    "        max_samples=0.7,\n",
    "        random_state=17,\n",
    "        n_jobs=-1,\n",
    "        oob_score=True\n",
    "    )\n",
    "\n",
    "    model.fit(Xtrain_rf_imp, ytrain_rf)\n",
    "\n",
    "    return ganancia_prob(model.oob_decision_function_, ytrain_rf)\n",
    "\n",
    "storage_name = \"sqlite:///\" + db_path + \"optimization_tree.db\"\n",
    "study_name = \"exp_206_random-forest-opt\"\n",
    "\n",
    "\n",
    "# optuna.delete_study(study_name=study_name, storage=storage_name)\n",
    "study = optuna.create_study(\n",
    "    direction=\"maximize\",\n",
    "    study_name=study_name,\n",
    "    storage=storage_name,\n",
    "    load_if_exists=True,\n",
    ") \"\"\""
   ]
  },
  {
   "cell_type": "code",
   "execution_count": null,
   "metadata": {},
   "outputs": [],
   "source": [
    "study.optimize(objective, n_trials=500)"
   ]
  },
  {
   "cell_type": "code",
   "execution_count": null,
   "metadata": {},
   "outputs": [],
   "source": [
    "study.best_params"
   ]
  },
  {
   "cell_type": "code",
   "execution_count": null,
   "metadata": {},
   "outputs": [],
   "source": [
    "optuna.visualization.plot_optimization_history(study)"
   ]
  },
  {
   "cell_type": "code",
   "execution_count": null,
   "metadata": {},
   "outputs": [],
   "source": [
    "plot_param_importances(study)"
   ]
  },
  {
   "cell_type": "code",
   "execution_count": null,
   "metadata": {},
   "outputs": [],
   "source": [
    "plot_slice(study)"
   ]
  },
  {
   "cell_type": "code",
   "execution_count": null,
   "metadata": {},
   "outputs": [],
   "source": [
    "plot_contour(study)"
   ]
  },
  {
   "cell_type": "code",
   "execution_count": null,
   "metadata": {},
   "outputs": [],
   "source": [
    "plot_contour(study, params=[\"max_depth\", \"min_samples_split\"])"
   ]
  },
  {
   "cell_type": "code",
   "execution_count": 8,
   "metadata": {
    "colab": {
     "base_uri": "https://localhost:8080/",
     "height": 80
    },
    "executionInfo": {
     "elapsed": 840,
     "status": "ok",
     "timestamp": 1756861656823,
     "user": {
      "displayName": "Alejandro Bolaños",
      "userId": "15513030842131101305"
     },
     "user_tz": 180
    },
    "id": "FQ1pNFwmzOc5",
    "outputId": "6b417200-b6a6-4f77-8f76-ae973b13fea6"
   },
   "outputs": [
    {
     "data": {
      "text/html": [
       "<style>#sk-container-id-1 {\n",
       "  /* Definition of color scheme common for light and dark mode */\n",
       "  --sklearn-color-text: #000;\n",
       "  --sklearn-color-text-muted: #666;\n",
       "  --sklearn-color-line: gray;\n",
       "  /* Definition of color scheme for unfitted estimators */\n",
       "  --sklearn-color-unfitted-level-0: #fff5e6;\n",
       "  --sklearn-color-unfitted-level-1: #f6e4d2;\n",
       "  --sklearn-color-unfitted-level-2: #ffe0b3;\n",
       "  --sklearn-color-unfitted-level-3: chocolate;\n",
       "  /* Definition of color scheme for fitted estimators */\n",
       "  --sklearn-color-fitted-level-0: #f0f8ff;\n",
       "  --sklearn-color-fitted-level-1: #d4ebff;\n",
       "  --sklearn-color-fitted-level-2: #b3dbfd;\n",
       "  --sklearn-color-fitted-level-3: cornflowerblue;\n",
       "\n",
       "  /* Specific color for light theme */\n",
       "  --sklearn-color-text-on-default-background: var(--sg-text-color, var(--theme-code-foreground, var(--jp-content-font-color1, black)));\n",
       "  --sklearn-color-background: var(--sg-background-color, var(--theme-background, var(--jp-layout-color0, white)));\n",
       "  --sklearn-color-border-box: var(--sg-text-color, var(--theme-code-foreground, var(--jp-content-font-color1, black)));\n",
       "  --sklearn-color-icon: #696969;\n",
       "\n",
       "  @media (prefers-color-scheme: dark) {\n",
       "    /* Redefinition of color scheme for dark theme */\n",
       "    --sklearn-color-text-on-default-background: var(--sg-text-color, var(--theme-code-foreground, var(--jp-content-font-color1, white)));\n",
       "    --sklearn-color-background: var(--sg-background-color, var(--theme-background, var(--jp-layout-color0, #111)));\n",
       "    --sklearn-color-border-box: var(--sg-text-color, var(--theme-code-foreground, var(--jp-content-font-color1, white)));\n",
       "    --sklearn-color-icon: #878787;\n",
       "  }\n",
       "}\n",
       "\n",
       "#sk-container-id-1 {\n",
       "  color: var(--sklearn-color-text);\n",
       "}\n",
       "\n",
       "#sk-container-id-1 pre {\n",
       "  padding: 0;\n",
       "}\n",
       "\n",
       "#sk-container-id-1 input.sk-hidden--visually {\n",
       "  border: 0;\n",
       "  clip: rect(1px 1px 1px 1px);\n",
       "  clip: rect(1px, 1px, 1px, 1px);\n",
       "  height: 1px;\n",
       "  margin: -1px;\n",
       "  overflow: hidden;\n",
       "  padding: 0;\n",
       "  position: absolute;\n",
       "  width: 1px;\n",
       "}\n",
       "\n",
       "#sk-container-id-1 div.sk-dashed-wrapped {\n",
       "  border: 1px dashed var(--sklearn-color-line);\n",
       "  margin: 0 0.4em 0.5em 0.4em;\n",
       "  box-sizing: border-box;\n",
       "  padding-bottom: 0.4em;\n",
       "  background-color: var(--sklearn-color-background);\n",
       "}\n",
       "\n",
       "#sk-container-id-1 div.sk-container {\n",
       "  /* jupyter's `normalize.less` sets `[hidden] { display: none; }`\n",
       "     but bootstrap.min.css set `[hidden] { display: none !important; }`\n",
       "     so we also need the `!important` here to be able to override the\n",
       "     default hidden behavior on the sphinx rendered scikit-learn.org.\n",
       "     See: https://github.com/scikit-learn/scikit-learn/issues/21755 */\n",
       "  display: inline-block !important;\n",
       "  position: relative;\n",
       "}\n",
       "\n",
       "#sk-container-id-1 div.sk-text-repr-fallback {\n",
       "  display: none;\n",
       "}\n",
       "\n",
       "div.sk-parallel-item,\n",
       "div.sk-serial,\n",
       "div.sk-item {\n",
       "  /* draw centered vertical line to link estimators */\n",
       "  background-image: linear-gradient(var(--sklearn-color-text-on-default-background), var(--sklearn-color-text-on-default-background));\n",
       "  background-size: 2px 100%;\n",
       "  background-repeat: no-repeat;\n",
       "  background-position: center center;\n",
       "}\n",
       "\n",
       "/* Parallel-specific style estimator block */\n",
       "\n",
       "#sk-container-id-1 div.sk-parallel-item::after {\n",
       "  content: \"\";\n",
       "  width: 100%;\n",
       "  border-bottom: 2px solid var(--sklearn-color-text-on-default-background);\n",
       "  flex-grow: 1;\n",
       "}\n",
       "\n",
       "#sk-container-id-1 div.sk-parallel {\n",
       "  display: flex;\n",
       "  align-items: stretch;\n",
       "  justify-content: center;\n",
       "  background-color: var(--sklearn-color-background);\n",
       "  position: relative;\n",
       "}\n",
       "\n",
       "#sk-container-id-1 div.sk-parallel-item {\n",
       "  display: flex;\n",
       "  flex-direction: column;\n",
       "}\n",
       "\n",
       "#sk-container-id-1 div.sk-parallel-item:first-child::after {\n",
       "  align-self: flex-end;\n",
       "  width: 50%;\n",
       "}\n",
       "\n",
       "#sk-container-id-1 div.sk-parallel-item:last-child::after {\n",
       "  align-self: flex-start;\n",
       "  width: 50%;\n",
       "}\n",
       "\n",
       "#sk-container-id-1 div.sk-parallel-item:only-child::after {\n",
       "  width: 0;\n",
       "}\n",
       "\n",
       "/* Serial-specific style estimator block */\n",
       "\n",
       "#sk-container-id-1 div.sk-serial {\n",
       "  display: flex;\n",
       "  flex-direction: column;\n",
       "  align-items: center;\n",
       "  background-color: var(--sklearn-color-background);\n",
       "  padding-right: 1em;\n",
       "  padding-left: 1em;\n",
       "}\n",
       "\n",
       "\n",
       "/* Toggleable style: style used for estimator/Pipeline/ColumnTransformer box that is\n",
       "clickable and can be expanded/collapsed.\n",
       "- Pipeline and ColumnTransformer use this feature and define the default style\n",
       "- Estimators will overwrite some part of the style using the `sk-estimator` class\n",
       "*/\n",
       "\n",
       "/* Pipeline and ColumnTransformer style (default) */\n",
       "\n",
       "#sk-container-id-1 div.sk-toggleable {\n",
       "  /* Default theme specific background. It is overwritten whether we have a\n",
       "  specific estimator or a Pipeline/ColumnTransformer */\n",
       "  background-color: var(--sklearn-color-background);\n",
       "}\n",
       "\n",
       "/* Toggleable label */\n",
       "#sk-container-id-1 label.sk-toggleable__label {\n",
       "  cursor: pointer;\n",
       "  display: flex;\n",
       "  width: 100%;\n",
       "  margin-bottom: 0;\n",
       "  padding: 0.5em;\n",
       "  box-sizing: border-box;\n",
       "  text-align: center;\n",
       "  align-items: start;\n",
       "  justify-content: space-between;\n",
       "  gap: 0.5em;\n",
       "}\n",
       "\n",
       "#sk-container-id-1 label.sk-toggleable__label .caption {\n",
       "  font-size: 0.6rem;\n",
       "  font-weight: lighter;\n",
       "  color: var(--sklearn-color-text-muted);\n",
       "}\n",
       "\n",
       "#sk-container-id-1 label.sk-toggleable__label-arrow:before {\n",
       "  /* Arrow on the left of the label */\n",
       "  content: \"▸\";\n",
       "  float: left;\n",
       "  margin-right: 0.25em;\n",
       "  color: var(--sklearn-color-icon);\n",
       "}\n",
       "\n",
       "#sk-container-id-1 label.sk-toggleable__label-arrow:hover:before {\n",
       "  color: var(--sklearn-color-text);\n",
       "}\n",
       "\n",
       "/* Toggleable content - dropdown */\n",
       "\n",
       "#sk-container-id-1 div.sk-toggleable__content {\n",
       "  display: none;\n",
       "  text-align: left;\n",
       "  /* unfitted */\n",
       "  background-color: var(--sklearn-color-unfitted-level-0);\n",
       "}\n",
       "\n",
       "#sk-container-id-1 div.sk-toggleable__content.fitted {\n",
       "  /* fitted */\n",
       "  background-color: var(--sklearn-color-fitted-level-0);\n",
       "}\n",
       "\n",
       "#sk-container-id-1 div.sk-toggleable__content pre {\n",
       "  margin: 0.2em;\n",
       "  border-radius: 0.25em;\n",
       "  color: var(--sklearn-color-text);\n",
       "  /* unfitted */\n",
       "  background-color: var(--sklearn-color-unfitted-level-0);\n",
       "}\n",
       "\n",
       "#sk-container-id-1 div.sk-toggleable__content.fitted pre {\n",
       "  /* unfitted */\n",
       "  background-color: var(--sklearn-color-fitted-level-0);\n",
       "}\n",
       "\n",
       "#sk-container-id-1 input.sk-toggleable__control:checked~div.sk-toggleable__content {\n",
       "  /* Expand drop-down */\n",
       "  display: block;\n",
       "  width: 100%;\n",
       "  overflow: visible;\n",
       "}\n",
       "\n",
       "#sk-container-id-1 input.sk-toggleable__control:checked~label.sk-toggleable__label-arrow:before {\n",
       "  content: \"▾\";\n",
       "}\n",
       "\n",
       "/* Pipeline/ColumnTransformer-specific style */\n",
       "\n",
       "#sk-container-id-1 div.sk-label input.sk-toggleable__control:checked~label.sk-toggleable__label {\n",
       "  color: var(--sklearn-color-text);\n",
       "  background-color: var(--sklearn-color-unfitted-level-2);\n",
       "}\n",
       "\n",
       "#sk-container-id-1 div.sk-label.fitted input.sk-toggleable__control:checked~label.sk-toggleable__label {\n",
       "  background-color: var(--sklearn-color-fitted-level-2);\n",
       "}\n",
       "\n",
       "/* Estimator-specific style */\n",
       "\n",
       "/* Colorize estimator box */\n",
       "#sk-container-id-1 div.sk-estimator input.sk-toggleable__control:checked~label.sk-toggleable__label {\n",
       "  /* unfitted */\n",
       "  background-color: var(--sklearn-color-unfitted-level-2);\n",
       "}\n",
       "\n",
       "#sk-container-id-1 div.sk-estimator.fitted input.sk-toggleable__control:checked~label.sk-toggleable__label {\n",
       "  /* fitted */\n",
       "  background-color: var(--sklearn-color-fitted-level-2);\n",
       "}\n",
       "\n",
       "#sk-container-id-1 div.sk-label label.sk-toggleable__label,\n",
       "#sk-container-id-1 div.sk-label label {\n",
       "  /* The background is the default theme color */\n",
       "  color: var(--sklearn-color-text-on-default-background);\n",
       "}\n",
       "\n",
       "/* On hover, darken the color of the background */\n",
       "#sk-container-id-1 div.sk-label:hover label.sk-toggleable__label {\n",
       "  color: var(--sklearn-color-text);\n",
       "  background-color: var(--sklearn-color-unfitted-level-2);\n",
       "}\n",
       "\n",
       "/* Label box, darken color on hover, fitted */\n",
       "#sk-container-id-1 div.sk-label.fitted:hover label.sk-toggleable__label.fitted {\n",
       "  color: var(--sklearn-color-text);\n",
       "  background-color: var(--sklearn-color-fitted-level-2);\n",
       "}\n",
       "\n",
       "/* Estimator label */\n",
       "\n",
       "#sk-container-id-1 div.sk-label label {\n",
       "  font-family: monospace;\n",
       "  font-weight: bold;\n",
       "  display: inline-block;\n",
       "  line-height: 1.2em;\n",
       "}\n",
       "\n",
       "#sk-container-id-1 div.sk-label-container {\n",
       "  text-align: center;\n",
       "}\n",
       "\n",
       "/* Estimator-specific */\n",
       "#sk-container-id-1 div.sk-estimator {\n",
       "  font-family: monospace;\n",
       "  border: 1px dotted var(--sklearn-color-border-box);\n",
       "  border-radius: 0.25em;\n",
       "  box-sizing: border-box;\n",
       "  margin-bottom: 0.5em;\n",
       "  /* unfitted */\n",
       "  background-color: var(--sklearn-color-unfitted-level-0);\n",
       "}\n",
       "\n",
       "#sk-container-id-1 div.sk-estimator.fitted {\n",
       "  /* fitted */\n",
       "  background-color: var(--sklearn-color-fitted-level-0);\n",
       "}\n",
       "\n",
       "/* on hover */\n",
       "#sk-container-id-1 div.sk-estimator:hover {\n",
       "  /* unfitted */\n",
       "  background-color: var(--sklearn-color-unfitted-level-2);\n",
       "}\n",
       "\n",
       "#sk-container-id-1 div.sk-estimator.fitted:hover {\n",
       "  /* fitted */\n",
       "  background-color: var(--sklearn-color-fitted-level-2);\n",
       "}\n",
       "\n",
       "/* Specification for estimator info (e.g. \"i\" and \"?\") */\n",
       "\n",
       "/* Common style for \"i\" and \"?\" */\n",
       "\n",
       ".sk-estimator-doc-link,\n",
       "a:link.sk-estimator-doc-link,\n",
       "a:visited.sk-estimator-doc-link {\n",
       "  float: right;\n",
       "  font-size: smaller;\n",
       "  line-height: 1em;\n",
       "  font-family: monospace;\n",
       "  background-color: var(--sklearn-color-background);\n",
       "  border-radius: 1em;\n",
       "  height: 1em;\n",
       "  width: 1em;\n",
       "  text-decoration: none !important;\n",
       "  margin-left: 0.5em;\n",
       "  text-align: center;\n",
       "  /* unfitted */\n",
       "  border: var(--sklearn-color-unfitted-level-1) 1pt solid;\n",
       "  color: var(--sklearn-color-unfitted-level-1);\n",
       "}\n",
       "\n",
       ".sk-estimator-doc-link.fitted,\n",
       "a:link.sk-estimator-doc-link.fitted,\n",
       "a:visited.sk-estimator-doc-link.fitted {\n",
       "  /* fitted */\n",
       "  border: var(--sklearn-color-fitted-level-1) 1pt solid;\n",
       "  color: var(--sklearn-color-fitted-level-1);\n",
       "}\n",
       "\n",
       "/* On hover */\n",
       "div.sk-estimator:hover .sk-estimator-doc-link:hover,\n",
       ".sk-estimator-doc-link:hover,\n",
       "div.sk-label-container:hover .sk-estimator-doc-link:hover,\n",
       ".sk-estimator-doc-link:hover {\n",
       "  /* unfitted */\n",
       "  background-color: var(--sklearn-color-unfitted-level-3);\n",
       "  color: var(--sklearn-color-background);\n",
       "  text-decoration: none;\n",
       "}\n",
       "\n",
       "div.sk-estimator.fitted:hover .sk-estimator-doc-link.fitted:hover,\n",
       ".sk-estimator-doc-link.fitted:hover,\n",
       "div.sk-label-container:hover .sk-estimator-doc-link.fitted:hover,\n",
       ".sk-estimator-doc-link.fitted:hover {\n",
       "  /* fitted */\n",
       "  background-color: var(--sklearn-color-fitted-level-3);\n",
       "  color: var(--sklearn-color-background);\n",
       "  text-decoration: none;\n",
       "}\n",
       "\n",
       "/* Span, style for the box shown on hovering the info icon */\n",
       ".sk-estimator-doc-link span {\n",
       "  display: none;\n",
       "  z-index: 9999;\n",
       "  position: relative;\n",
       "  font-weight: normal;\n",
       "  right: .2ex;\n",
       "  padding: .5ex;\n",
       "  margin: .5ex;\n",
       "  width: min-content;\n",
       "  min-width: 20ex;\n",
       "  max-width: 50ex;\n",
       "  color: var(--sklearn-color-text);\n",
       "  box-shadow: 2pt 2pt 4pt #999;\n",
       "  /* unfitted */\n",
       "  background: var(--sklearn-color-unfitted-level-0);\n",
       "  border: .5pt solid var(--sklearn-color-unfitted-level-3);\n",
       "}\n",
       "\n",
       ".sk-estimator-doc-link.fitted span {\n",
       "  /* fitted */\n",
       "  background: var(--sklearn-color-fitted-level-0);\n",
       "  border: var(--sklearn-color-fitted-level-3);\n",
       "}\n",
       "\n",
       ".sk-estimator-doc-link:hover span {\n",
       "  display: block;\n",
       "}\n",
       "\n",
       "/* \"?\"-specific style due to the `<a>` HTML tag */\n",
       "\n",
       "#sk-container-id-1 a.estimator_doc_link {\n",
       "  float: right;\n",
       "  font-size: 1rem;\n",
       "  line-height: 1em;\n",
       "  font-family: monospace;\n",
       "  background-color: var(--sklearn-color-background);\n",
       "  border-radius: 1rem;\n",
       "  height: 1rem;\n",
       "  width: 1rem;\n",
       "  text-decoration: none;\n",
       "  /* unfitted */\n",
       "  color: var(--sklearn-color-unfitted-level-1);\n",
       "  border: var(--sklearn-color-unfitted-level-1) 1pt solid;\n",
       "}\n",
       "\n",
       "#sk-container-id-1 a.estimator_doc_link.fitted {\n",
       "  /* fitted */\n",
       "  border: var(--sklearn-color-fitted-level-1) 1pt solid;\n",
       "  color: var(--sklearn-color-fitted-level-1);\n",
       "}\n",
       "\n",
       "/* On hover */\n",
       "#sk-container-id-1 a.estimator_doc_link:hover {\n",
       "  /* unfitted */\n",
       "  background-color: var(--sklearn-color-unfitted-level-3);\n",
       "  color: var(--sklearn-color-background);\n",
       "  text-decoration: none;\n",
       "}\n",
       "\n",
       "#sk-container-id-1 a.estimator_doc_link.fitted:hover {\n",
       "  /* fitted */\n",
       "  background-color: var(--sklearn-color-fitted-level-3);\n",
       "}\n",
       "\n",
       ".estimator-table summary {\n",
       "    padding: .5rem;\n",
       "    font-family: monospace;\n",
       "    cursor: pointer;\n",
       "}\n",
       "\n",
       ".estimator-table details[open] {\n",
       "    padding-left: 0.1rem;\n",
       "    padding-right: 0.1rem;\n",
       "    padding-bottom: 0.3rem;\n",
       "}\n",
       "\n",
       ".estimator-table .parameters-table {\n",
       "    margin-left: auto !important;\n",
       "    margin-right: auto !important;\n",
       "}\n",
       "\n",
       ".estimator-table .parameters-table tr:nth-child(odd) {\n",
       "    background-color: #fff;\n",
       "}\n",
       "\n",
       ".estimator-table .parameters-table tr:nth-child(even) {\n",
       "    background-color: #f6f6f6;\n",
       "}\n",
       "\n",
       ".estimator-table .parameters-table tr:hover {\n",
       "    background-color: #e0e0e0;\n",
       "}\n",
       "\n",
       ".estimator-table table td {\n",
       "    border: 1px solid rgba(106, 105, 104, 0.232);\n",
       "}\n",
       "\n",
       ".user-set td {\n",
       "    color:rgb(255, 94, 0);\n",
       "    text-align: left;\n",
       "}\n",
       "\n",
       ".user-set td.value pre {\n",
       "    color:rgb(255, 94, 0) !important;\n",
       "    background-color: transparent !important;\n",
       "}\n",
       "\n",
       ".default td {\n",
       "    color: black;\n",
       "    text-align: left;\n",
       "}\n",
       "\n",
       ".user-set td i,\n",
       ".default td i {\n",
       "    color: black;\n",
       "}\n",
       "\n",
       ".copy-paste-icon {\n",
       "    background-image: url(data:image/svg+xml;base64,PHN2ZyB4bWxucz0iaHR0cDovL3d3dy53My5vcmcvMjAwMC9zdmciIHZpZXdCb3g9IjAgMCA0NDggNTEyIj48IS0tIUZvbnQgQXdlc29tZSBGcmVlIDYuNy4yIGJ5IEBmb250YXdlc29tZSAtIGh0dHBzOi8vZm9udGF3ZXNvbWUuY29tIExpY2Vuc2UgLSBodHRwczovL2ZvbnRhd2Vzb21lLmNvbS9saWNlbnNlL2ZyZWUgQ29weXJpZ2h0IDIwMjUgRm9udGljb25zLCBJbmMuLS0+PHBhdGggZD0iTTIwOCAwTDMzMi4xIDBjMTIuNyAwIDI0LjkgNS4xIDMzLjkgMTQuMWw2Ny45IDY3LjljOSA5IDE0LjEgMjEuMiAxNC4xIDMzLjlMNDQ4IDMzNmMwIDI2LjUtMjEuNSA0OC00OCA0OGwtMTkyIDBjLTI2LjUgMC00OC0yMS41LTQ4LTQ4bDAtMjg4YzAtMjYuNSAyMS41LTQ4IDQ4LTQ4ek00OCAxMjhsODAgMCAwIDY0LTY0IDAgMCAyNTYgMTkyIDAgMC0zMiA2NCAwIDAgNDhjMCAyNi41LTIxLjUgNDgtNDggNDhMNDggNTEyYy0yNi41IDAtNDgtMjEuNS00OC00OEwwIDE3NmMwLTI2LjUgMjEuNS00OCA0OC00OHoiLz48L3N2Zz4=);\n",
       "    background-repeat: no-repeat;\n",
       "    background-size: 14px 14px;\n",
       "    background-position: 0;\n",
       "    display: inline-block;\n",
       "    width: 14px;\n",
       "    height: 14px;\n",
       "    cursor: pointer;\n",
       "}\n",
       "</style><body><div id=\"sk-container-id-1\" class=\"sk-top-container\"><div class=\"sk-text-repr-fallback\"><pre>RandomForestClassifier(max_features=20, min_samples_leaf=400, random_state=17)</pre><b>In a Jupyter environment, please rerun this cell to show the HTML representation or trust the notebook. <br />On GitHub, the HTML representation is unable to render, please try loading this page with nbviewer.org.</b></div><div class=\"sk-container\" hidden><div class=\"sk-item\"><div class=\"sk-estimator fitted sk-toggleable\"><input class=\"sk-toggleable__control sk-hidden--visually\" id=\"sk-estimator-id-1\" type=\"checkbox\" checked><label for=\"sk-estimator-id-1\" class=\"sk-toggleable__label fitted sk-toggleable__label-arrow\"><div><div>RandomForestClassifier</div></div><div><a class=\"sk-estimator-doc-link fitted\" rel=\"noreferrer\" target=\"_blank\" href=\"https://scikit-learn.org/1.7/modules/generated/sklearn.ensemble.RandomForestClassifier.html\">?<span>Documentation for RandomForestClassifier</span></a><span class=\"sk-estimator-doc-link fitted\">i<span>Fitted</span></span></div></label><div class=\"sk-toggleable__content fitted\" data-param-prefix=\"\">\n",
       "        <div class=\"estimator-table\">\n",
       "            <details>\n",
       "                <summary>Parameters</summary>\n",
       "                <table class=\"parameters-table\">\n",
       "                  <tbody>\n",
       "                    \n",
       "        <tr class=\"default\">\n",
       "            <td><i class=\"copy-paste-icon\"\n",
       "                 onclick=\"copyToClipboard('n_estimators',\n",
       "                          this.parentElement.nextElementSibling)\"\n",
       "            ></i></td>\n",
       "            <td class=\"param\">n_estimators&nbsp;</td>\n",
       "            <td class=\"value\">100</td>\n",
       "        </tr>\n",
       "    \n",
       "\n",
       "        <tr class=\"default\">\n",
       "            <td><i class=\"copy-paste-icon\"\n",
       "                 onclick=\"copyToClipboard('criterion',\n",
       "                          this.parentElement.nextElementSibling)\"\n",
       "            ></i></td>\n",
       "            <td class=\"param\">criterion&nbsp;</td>\n",
       "            <td class=\"value\">&#x27;gini&#x27;</td>\n",
       "        </tr>\n",
       "    \n",
       "\n",
       "        <tr class=\"default\">\n",
       "            <td><i class=\"copy-paste-icon\"\n",
       "                 onclick=\"copyToClipboard('max_depth',\n",
       "                          this.parentElement.nextElementSibling)\"\n",
       "            ></i></td>\n",
       "            <td class=\"param\">max_depth&nbsp;</td>\n",
       "            <td class=\"value\">None</td>\n",
       "        </tr>\n",
       "    \n",
       "\n",
       "        <tr class=\"default\">\n",
       "            <td><i class=\"copy-paste-icon\"\n",
       "                 onclick=\"copyToClipboard('min_samples_split',\n",
       "                          this.parentElement.nextElementSibling)\"\n",
       "            ></i></td>\n",
       "            <td class=\"param\">min_samples_split&nbsp;</td>\n",
       "            <td class=\"value\">2</td>\n",
       "        </tr>\n",
       "    \n",
       "\n",
       "        <tr class=\"user-set\">\n",
       "            <td><i class=\"copy-paste-icon\"\n",
       "                 onclick=\"copyToClipboard('min_samples_leaf',\n",
       "                          this.parentElement.nextElementSibling)\"\n",
       "            ></i></td>\n",
       "            <td class=\"param\">min_samples_leaf&nbsp;</td>\n",
       "            <td class=\"value\">400</td>\n",
       "        </tr>\n",
       "    \n",
       "\n",
       "        <tr class=\"default\">\n",
       "            <td><i class=\"copy-paste-icon\"\n",
       "                 onclick=\"copyToClipboard('min_weight_fraction_leaf',\n",
       "                          this.parentElement.nextElementSibling)\"\n",
       "            ></i></td>\n",
       "            <td class=\"param\">min_weight_fraction_leaf&nbsp;</td>\n",
       "            <td class=\"value\">0.0</td>\n",
       "        </tr>\n",
       "    \n",
       "\n",
       "        <tr class=\"user-set\">\n",
       "            <td><i class=\"copy-paste-icon\"\n",
       "                 onclick=\"copyToClipboard('max_features',\n",
       "                          this.parentElement.nextElementSibling)\"\n",
       "            ></i></td>\n",
       "            <td class=\"param\">max_features&nbsp;</td>\n",
       "            <td class=\"value\">20</td>\n",
       "        </tr>\n",
       "    \n",
       "\n",
       "        <tr class=\"default\">\n",
       "            <td><i class=\"copy-paste-icon\"\n",
       "                 onclick=\"copyToClipboard('max_leaf_nodes',\n",
       "                          this.parentElement.nextElementSibling)\"\n",
       "            ></i></td>\n",
       "            <td class=\"param\">max_leaf_nodes&nbsp;</td>\n",
       "            <td class=\"value\">None</td>\n",
       "        </tr>\n",
       "    \n",
       "\n",
       "        <tr class=\"default\">\n",
       "            <td><i class=\"copy-paste-icon\"\n",
       "                 onclick=\"copyToClipboard('min_impurity_decrease',\n",
       "                          this.parentElement.nextElementSibling)\"\n",
       "            ></i></td>\n",
       "            <td class=\"param\">min_impurity_decrease&nbsp;</td>\n",
       "            <td class=\"value\">0.0</td>\n",
       "        </tr>\n",
       "    \n",
       "\n",
       "        <tr class=\"default\">\n",
       "            <td><i class=\"copy-paste-icon\"\n",
       "                 onclick=\"copyToClipboard('bootstrap',\n",
       "                          this.parentElement.nextElementSibling)\"\n",
       "            ></i></td>\n",
       "            <td class=\"param\">bootstrap&nbsp;</td>\n",
       "            <td class=\"value\">True</td>\n",
       "        </tr>\n",
       "    \n",
       "\n",
       "        <tr class=\"default\">\n",
       "            <td><i class=\"copy-paste-icon\"\n",
       "                 onclick=\"copyToClipboard('oob_score',\n",
       "                          this.parentElement.nextElementSibling)\"\n",
       "            ></i></td>\n",
       "            <td class=\"param\">oob_score&nbsp;</td>\n",
       "            <td class=\"value\">False</td>\n",
       "        </tr>\n",
       "    \n",
       "\n",
       "        <tr class=\"default\">\n",
       "            <td><i class=\"copy-paste-icon\"\n",
       "                 onclick=\"copyToClipboard('n_jobs',\n",
       "                          this.parentElement.nextElementSibling)\"\n",
       "            ></i></td>\n",
       "            <td class=\"param\">n_jobs&nbsp;</td>\n",
       "            <td class=\"value\">None</td>\n",
       "        </tr>\n",
       "    \n",
       "\n",
       "        <tr class=\"user-set\">\n",
       "            <td><i class=\"copy-paste-icon\"\n",
       "                 onclick=\"copyToClipboard('random_state',\n",
       "                          this.parentElement.nextElementSibling)\"\n",
       "            ></i></td>\n",
       "            <td class=\"param\">random_state&nbsp;</td>\n",
       "            <td class=\"value\">17</td>\n",
       "        </tr>\n",
       "    \n",
       "\n",
       "        <tr class=\"default\">\n",
       "            <td><i class=\"copy-paste-icon\"\n",
       "                 onclick=\"copyToClipboard('verbose',\n",
       "                          this.parentElement.nextElementSibling)\"\n",
       "            ></i></td>\n",
       "            <td class=\"param\">verbose&nbsp;</td>\n",
       "            <td class=\"value\">0</td>\n",
       "        </tr>\n",
       "    \n",
       "\n",
       "        <tr class=\"default\">\n",
       "            <td><i class=\"copy-paste-icon\"\n",
       "                 onclick=\"copyToClipboard('warm_start',\n",
       "                          this.parentElement.nextElementSibling)\"\n",
       "            ></i></td>\n",
       "            <td class=\"param\">warm_start&nbsp;</td>\n",
       "            <td class=\"value\">False</td>\n",
       "        </tr>\n",
       "    \n",
       "\n",
       "        <tr class=\"default\">\n",
       "            <td><i class=\"copy-paste-icon\"\n",
       "                 onclick=\"copyToClipboard('class_weight',\n",
       "                          this.parentElement.nextElementSibling)\"\n",
       "            ></i></td>\n",
       "            <td class=\"param\">class_weight&nbsp;</td>\n",
       "            <td class=\"value\">None</td>\n",
       "        </tr>\n",
       "    \n",
       "\n",
       "        <tr class=\"default\">\n",
       "            <td><i class=\"copy-paste-icon\"\n",
       "                 onclick=\"copyToClipboard('ccp_alpha',\n",
       "                          this.parentElement.nextElementSibling)\"\n",
       "            ></i></td>\n",
       "            <td class=\"param\">ccp_alpha&nbsp;</td>\n",
       "            <td class=\"value\">0.0</td>\n",
       "        </tr>\n",
       "    \n",
       "\n",
       "        <tr class=\"default\">\n",
       "            <td><i class=\"copy-paste-icon\"\n",
       "                 onclick=\"copyToClipboard('max_samples',\n",
       "                          this.parentElement.nextElementSibling)\"\n",
       "            ></i></td>\n",
       "            <td class=\"param\">max_samples&nbsp;</td>\n",
       "            <td class=\"value\">None</td>\n",
       "        </tr>\n",
       "    \n",
       "\n",
       "        <tr class=\"default\">\n",
       "            <td><i class=\"copy-paste-icon\"\n",
       "                 onclick=\"copyToClipboard('monotonic_cst',\n",
       "                          this.parentElement.nextElementSibling)\"\n",
       "            ></i></td>\n",
       "            <td class=\"param\">monotonic_cst&nbsp;</td>\n",
       "            <td class=\"value\">None</td>\n",
       "        </tr>\n",
       "    \n",
       "                  </tbody>\n",
       "                </table>\n",
       "            </details>\n",
       "        </div>\n",
       "    </div></div></div></div></div><script>function copyToClipboard(text, element) {\n",
       "    // Get the parameter prefix from the closest toggleable content\n",
       "    const toggleableContent = element.closest('.sk-toggleable__content');\n",
       "    const paramPrefix = toggleableContent ? toggleableContent.dataset.paramPrefix : '';\n",
       "    const fullParamName = paramPrefix ? `${paramPrefix}${text}` : text;\n",
       "\n",
       "    const originalStyle = element.style;\n",
       "    const computedStyle = window.getComputedStyle(element);\n",
       "    const originalWidth = computedStyle.width;\n",
       "    const originalHTML = element.innerHTML.replace('Copied!', '');\n",
       "\n",
       "    navigator.clipboard.writeText(fullParamName)\n",
       "        .then(() => {\n",
       "            element.style.width = originalWidth;\n",
       "            element.style.color = 'green';\n",
       "            element.innerHTML = \"Copied!\";\n",
       "\n",
       "            setTimeout(() => {\n",
       "                element.innerHTML = originalHTML;\n",
       "                element.style = originalStyle;\n",
       "            }, 2000);\n",
       "        })\n",
       "        .catch(err => {\n",
       "            console.error('Failed to copy:', err);\n",
       "            element.style.color = 'red';\n",
       "            element.innerHTML = \"Failed!\";\n",
       "            setTimeout(() => {\n",
       "                element.innerHTML = originalHTML;\n",
       "                element.style = originalStyle;\n",
       "            }, 2000);\n",
       "        });\n",
       "    return false;\n",
       "}\n",
       "\n",
       "document.querySelectorAll('.fa-regular.fa-copy').forEach(function(element) {\n",
       "    const toggleableContent = element.closest('.sk-toggleable__content');\n",
       "    const paramPrefix = toggleableContent ? toggleableContent.dataset.paramPrefix : '';\n",
       "    const paramName = element.parentElement.nextElementSibling.textContent.trim();\n",
       "    const fullParamName = paramPrefix ? `${paramPrefix}${paramName}` : paramName;\n",
       "\n",
       "    element.setAttribute('title', fullParamName);\n",
       "});\n",
       "</script></body>"
      ],
      "text/plain": [
       "RandomForestClassifier(max_features=20, min_samples_leaf=400, random_state=17)"
      ]
     },
     "execution_count": 8,
     "metadata": {},
     "output_type": "execute_result"
    }
   ],
   "source": [
    "\"\"\" model = RandomForestClassifier(\n",
    "        n_estimators=1000,\n",
    "        **study.best_params,\n",
    "        max_samples=0.7,\n",
    "        random_state=17,\n",
    "        n_jobs=-1,\n",
    "        oob_score=True\n",
    "    )\n",
    "model.fit(Xtrain_rf_imp, ytrain_rf) \"\"\"\n",
    "\n",
    "model = RandomForestClassifier(n_estimators=100, max_features=20, min_samples_leaf=400, random_state=17 )\n",
    "model.fit(Xtrain_rf_imp, ytrain_rf)"
   ]
  },
  {
   "cell_type": "markdown",
   "metadata": {},
   "source": [
    "# CARGAMOS MODELO"
   ]
  },
  {
   "cell_type": "code",
   "execution_count": null,
   "metadata": {},
   "outputs": [],
   "source": [
    "\"\"\" filename = modelos_path + 'exp_206_random_forest_model_100.sav'\n",
    "pickle.dump(model, open(filename, 'wb')) \"\"\""
   ]
  },
  {
   "cell_type": "code",
   "execution_count": null,
   "metadata": {},
   "outputs": [],
   "source": [
    "\"\"\" model = pickle.load(open(filename, 'rb'))\n",
    "model \"\"\""
   ]
  },
  {
   "cell_type": "code",
   "execution_count": null,
   "metadata": {},
   "outputs": [],
   "source": [
    "\"\"\" y_pred_rf = model.predict_proba(Xif)\n",
    "ganancias_rf = ganancia_prob(y_pred_rf, y_futuro)\n",
    "print(f\"Ganancia de modelo RF: {ganancias_rf}\") \"\"\""
   ]
  },
  {
   "cell_type": "markdown",
   "metadata": {
    "id": "3WkehiTNzRrL"
   },
   "source": [
    "Armamos (copiamos de internet) una función que nos calcule la matriz de distancias"
   ]
  },
  {
   "cell_type": "code",
   "execution_count": 9,
   "metadata": {
    "executionInfo": {
     "elapsed": 12206,
     "status": "ok",
     "timestamp": 1756861669027,
     "user": {
      "displayName": "Alejandro Bolaños",
      "userId": "15513030842131101305"
     },
     "user_tz": 180
    },
    "id": "Ab0UY9VAo1mj"
   },
   "outputs": [],
   "source": [
    "def distanceMatrix(model, X):\n",
    "\n",
    "    terminals = model.apply(X)\n",
    "    nTrees = terminals.shape[1]\n",
    "\n",
    "    a = terminals[:,0]\n",
    "    proxMat = 1*np.equal.outer(a, a)\n",
    "\n",
    "    for i in range(1, nTrees):\n",
    "        a = terminals[:,i]\n",
    "        proxMat += 1*np.equal.outer(a, a)\n",
    "\n",
    "    proxMat = proxMat / nTrees\n",
    "\n",
    "    return proxMat.max() - proxMat\n",
    "\n",
    "md = distanceMatrix(model, Xtrain_rf_imp)"
   ]
  },
  {
   "cell_type": "markdown",
   "metadata": {
    "id": "uBIZpRv4zfCu"
   },
   "source": [
    "Veamos como se ve. Recuerde que significa que un número esté cerca de 0 o que esté cerca de 1."
   ]
  },
  {
   "cell_type": "code",
   "execution_count": 10,
   "metadata": {
    "colab": {
     "base_uri": "https://localhost:8080/"
    },
    "executionInfo": {
     "elapsed": 22,
     "status": "ok",
     "timestamp": 1756861669046,
     "user": {
      "displayName": "Alejandro Bolaños",
      "userId": "15513030842131101305"
     },
     "user_tz": 180
    },
    "id": "jM0crgSQqC5x",
    "outputId": "14658565-68a1-4832-9502-c48fdbe99383"
   },
   "outputs": [
    {
     "data": {
      "text/plain": [
       "array([[0.  , 0.94, 0.73, ..., 0.92, 0.94, 0.92],\n",
       "       [0.94, 0.  , 0.67, ..., 0.48, 0.02, 0.08],\n",
       "       [0.73, 0.67, 0.  , ..., 0.66, 0.68, 0.67],\n",
       "       ...,\n",
       "       [0.92, 0.48, 0.66, ..., 0.  , 0.47, 0.49],\n",
       "       [0.94, 0.02, 0.68, ..., 0.47, 0.  , 0.06],\n",
       "       [0.92, 0.08, 0.67, ..., 0.49, 0.06, 0.  ]], shape=(4085, 4085))"
      ]
     },
     "execution_count": 10,
     "metadata": {},
     "output_type": "execute_result"
    }
   ],
   "source": [
    "md"
   ]
  },
  {
   "cell_type": "markdown",
   "metadata": {
    "id": "xrhE0O2nzodC"
   },
   "source": [
    "Para poder visualizar la matriz, utilizaremos un embedding. Los *embeddings* son representaciones vectoriales de datos en un espacio de menor dimensión\n",
    "\n",
    "Podría utilizar un **PCA** con ese fin, pero en los últimos años hay mejores algoritmos como **t-sne** o **umap**.\n",
    "\n",
    "UMAP (Uniform Manifold Approximation and Projection) es una técnica avanzada para la reducción de dimensionalidad y visualización de datos en espacios de menor dimensión, que busca mantener al máximo la estructura de los datos en alta dimensión.\n",
    "\n",
    "1. **Preservación de la Estructura Global y Local**:\n",
    "   - Intenta preservar tanto la estructura local (relaciones cercanas) como la global (estructura general) de los datos al proyectarlos en un espacio de menor dimensión.\n",
    "\n",
    "2. **Basado en Manifold Learning**:\n",
    "   - UMAP asume que los datos de alta dimensión se encuentran en un espacio de menor dimensión (un \"manifold\") y busca proyectar esos datos de manera que se mantenga esa estructura subyacente.\n",
    "\n",
    "3. **Velocidad y Escalabilidad**:\n",
    "   - UMAP es más rápido y escalable en comparación con técnicas similares como t-SNE, especialmente en conjuntos de datos grandes.\n",
    "\n",
    "4. **Control sobre la Estructura**:\n",
    "   - UMAP permite al usuario ajustar parámetros que controlan la preservación de la estructura local y global, como el número de vecinos cercanos (n_neighbors) y la distancia mínima entre puntos (min_dist).\n",
    "\n",
    "Una característica adicional, es que cuenta con la posibilidad de recibir de entrada una matriz de distancia.\n",
    "\n",
    "Veamos los datos por primera vez:"
   ]
  },
  {
   "cell_type": "code",
   "execution_count": 11,
   "metadata": {
    "colab": {
     "base_uri": "https://localhost:8080/",
     "height": 539
    },
    "executionInfo": {
     "elapsed": 10078,
     "status": "ok",
     "timestamp": 1756861679125,
     "user": {
      "displayName": "Alejandro Bolaños",
      "userId": "15513030842131101305"
     },
     "user_tz": 180
    },
    "id": "5LRYIYv-rBb6",
    "outputId": "e75c6f54-40e0-4169-db53-6d4f0b47f654"
   },
   "outputs": [
    {
     "name": "stderr",
     "output_type": "stream",
     "text": [
      "d:\\Steven\\Facultad\\MAESTRIA\\DMEyF\\segmentacion\\.venv\\Lib\\site-packages\\umap\\umap_.py:1865: UserWarning: using precomputed metric; inverse_transform will be unavailable\n",
      "  warn(\"using precomputed metric; inverse_transform will be unavailable\")\n",
      "d:\\Steven\\Facultad\\MAESTRIA\\DMEyF\\segmentacion\\.venv\\Lib\\site-packages\\umap\\umap_.py:1952: UserWarning: n_jobs value 1 overridden to 1 by setting random_state. Use no seed for parallelism.\n",
      "  warn(\n"
     ]
    },
    {
     "data": {
      "text/plain": [
       "<matplotlib.collections.PathCollection at 0x105e18b1450>"
      ]
     },
     "execution_count": 11,
     "metadata": {},
     "output_type": "execute_result"
    },
    {
     "data": {
      "image/png": "[encoded data removed]",
      "text/plain": [
       "<Figure size 640x480 with 1 Axes>"
      ]
     },
     "metadata": {},
     "output_type": "display_data"
    }
   ],
   "source": [
    "embedding_rf = UMAP(\n",
    "  n_components=2,\n",
    "  n_neighbors=20,\n",
    "  min_dist=0.77,\n",
    "  learning_rate=0.05,\n",
    "  metric=\"precomputed\",\n",
    "  random_state=17,\n",
    ").fit_transform(md)\n",
    "\n",
    "plt.scatter(embedding_rf[:,0], embedding_rf[:,1])"
   ]
  },
  {
   "cell_type": "code",
   "execution_count": 12,
   "metadata": {},
   "outputs": [
    {
     "data": {
      "image/png": "[encoded data removed]",
      "text/plain": [
       "<Figure size 640x480 with 2 Axes>"
      ]
     },
     "metadata": {},
     "output_type": "display_data"
    }
   ],
   "source": [
    "plt.scatter(\n",
    "    embedding_rf[:, 0],\n",
    "    embedding_rf[:, 1],\n",
    "    c=ytrain_rf.values,\n",
    "    cmap='viridis',\n",
    "    s=1,\n",
    "    alpha=0.6\n",
    ")\n",
    "plt.colorbar(label='Clase Ternaria')\n",
    "plt.title('UMAP Projection (Colored by Target)')\n",
    "plt.show()"
   ]
  },
  {
   "cell_type": "markdown",
   "metadata": {
    "id": "r2StQEZK3Guh"
   },
   "source": [
    "Agreguemos la dimensión de la probabilidad de salida, para ver donde cree el modelo que se encuentran los **bajas**."
   ]
  },
  {
   "cell_type": "code",
   "execution_count": 13,
   "metadata": {
    "colab": {
     "base_uri": "https://localhost:8080/",
     "height": 430
    },
    "executionInfo": {
     "elapsed": 397,
     "status": "ok",
     "timestamp": 1756861679524,
     "user": {
      "displayName": "Alejandro Bolaños",
      "userId": "15513030842131101305"
     },
     "user_tz": 180
    },
    "id": "A1Rfhj7CTeLt",
    "outputId": "0b54671b-c11e-47e1-d21f-bc87b646b4ee"
   },
   "outputs": [
    {
     "data": {
      "image/png": "[encoded data removed]",
      "text/plain": [
       "<Figure size 640x480 with 2 Axes>"
      ]
     },
     "metadata": {},
     "output_type": "display_data"
    }
   ],
   "source": [
    "class_index = np.where(model.classes_ == 1)[0]\n",
    "prob_baja = model.predict_proba(Xtrain_rf_imp)[:,class_index]\n",
    "\n",
    "plt.scatter(embedding_rf[:,0], embedding_rf[:,1], c=prob_baja)\n",
    "plt.colorbar()\n",
    "plt.show()"
   ]
  },
  {
   "cell_type": "markdown",
   "metadata": {
    "id": "xpthaD3P3d4C"
   },
   "source": [
    "Vamos a partir de este embedding para segmentar a los clientes. Puede utilizar cualquier técnica, los datos ya son simples para cualquier algoritmo. Utilizaremos uno bastante estandar"
   ]
  },
  {
   "cell_type": "code",
   "execution_count": 14,
   "metadata": {
    "colab": {
     "base_uri": "https://localhost:8080/",
     "height": 682
    },
    "executionInfo": {
     "elapsed": 520,
     "status": "ok",
     "timestamp": 1756861680046,
     "user": {
      "displayName": "Alejandro Bolaños",
      "userId": "15513030842131101305"
     },
     "user_tz": 180
    },
    "id": "oEnFch8IenmK",
    "outputId": "6a8c73b8-9b2b-440f-fbe8-d59ccb201004"
   },
   "outputs": [
    {
     "data": {
      "image/png": "[encoded data removed]",
      "text/plain": [
       "<Figure size 1000x800 with 2 Axes>"
      ]
     },
     "metadata": {},
     "output_type": "display_data"
    }
   ],
   "source": [
    "from sklearn.cluster import KMeans\n",
    "\n",
    "kmeans = KMeans(n_clusters=15, random_state=17, n_init=10)\n",
    "clusters = kmeans.fit_predict(embedding_rf)\n",
    "\n",
    "\n",
    "plt.figure(figsize=(10, 8))\n",
    "plt.scatter(embedding_rf[:, 0], embedding_rf[:, 1], c=clusters, cmap='viridis')\n",
    "plt.colorbar(label='Cluster')\n",
    "\n",
    "for cluster_label in sorted(np.unique(clusters)):\n",
    "    cluster_points = embedding_rf[clusters == cluster_label]\n",
    "    centroid = cluster_points.mean(axis=0)\n",
    "    plt.text(centroid[0], centroid[1], str(cluster_label), fontsize=12, ha='center', va='center', color='black',\n",
    "             bbox=dict(boxstyle='round,pad=0.3', fc='white', alpha=0.5))\n",
    "\n",
    "plt.show()"
   ]
  },
  {
   "cell_type": "markdown",
   "metadata": {
    "id": "YbeNi254iwgG"
   },
   "source": [
    "Veamos cuales de los clientes de cada cluster son **bajas** y cuales **continuan** y la proba promedio del cluster"
   ]
  },
  {
   "cell_type": "code",
   "execution_count": 15,
   "metadata": {
    "colab": {
     "base_uri": "https://localhost:8080/"
    },
    "executionInfo": {
     "elapsed": 6,
     "status": "ok",
     "timestamp": 1756861680054,
     "user": {
      "displayName": "Alejandro Bolaños",
      "userId": "15513030842131101305"
     },
     "user_tz": 180
    },
    "id": "_4A1_JyuhlFi",
    "outputId": "fcbff7c7-5c49-45f3-f67f-e22e4c1e125e"
   },
   "outputs": [
    {
     "name": "stdout",
     "output_type": "stream",
     "text": [
      "Number of cases per class and average churn probability per cluster:\n",
      "original_class    0    1  average_prob_baja\n",
      "cluster                                    \n",
      "0                19  336           0.859054\n",
      "1               148   48           0.353304\n",
      "2               115   81           0.420178\n",
      "3                29  217           0.826799\n",
      "4                58  325           0.739716\n",
      "5               382   14           0.145082\n",
      "6               174   96           0.428110\n",
      "7               209   53           0.362911\n",
      "8               250   91           0.313733\n",
      "9               240   22           0.218235\n",
      "10              156    3           0.163007\n",
      "11               82  113           0.461574\n",
      "12               81  246           0.624006\n",
      "13               47  168           0.678552\n",
      "14               10  272           0.867521\n"
     ]
    }
   ],
   "source": [
    "cluster_class_df = pd.DataFrame({'cluster': clusters, 'original_class': ytrain_rf})\n",
    "\n",
    "class_distribution_by_cluster = cluster_class_df.groupby('cluster')['original_class'].value_counts().unstack(fill_value=0)\n",
    "cluster_prob_df = pd.DataFrame({'cluster': clusters, 'prob_baja': prob_baja.flatten()})\n",
    "average_prob_baja_by_cluster = cluster_prob_df.groupby('cluster')['prob_baja'].mean()\n",
    "class_distribution_by_cluster['average_prob_baja'] = average_prob_baja_by_cluster\n",
    "\n",
    "print(\"Number of cases per class and average churn probability per cluster:\")\n",
    "print(class_distribution_by_cluster)"
   ]
  },
  {
   "cell_type": "markdown",
   "metadata": {
    "id": "O4kSLegC4wXT"
   },
   "source": [
    "Por último necesitamos alguna forma de saber que hace a cada cluster distinto del otro. Para esto utilizaremos modelos (**rf**) que buscan separar los cluster uno a uno del resto de los datos.\n",
    "\n",
    "Por cada modelo, miraremos cuales son las variables más importantes que separan los datos para luego caracterizarlos:\n",
    "\n",
    "Manos a la obra:"
   ]
  },
  {
   "cell_type": "markdown",
   "metadata": {
    "id": "y7Mz0fa35llh"
   },
   "source": [
    "Y exploramos las diferencias entre los clusters usando las **n** variables más importantes, usando en este caso la mediana\n"
   ]
  },
  {
   "cell_type": "code",
   "execution_count": 22,
   "metadata": {
    "colab": {
     "base_uri": "https://localhost:8080/",
     "height": 400
    },
    "executionInfo": {
     "elapsed": 1496,
     "status": "ok",
     "timestamp": 1756861681551,
     "user": {
      "displayName": "Alejandro Bolaños",
      "userId": "15513030842131101305"
     },
     "user_tz": 180
    },
    "id": "lFWgNYFzlDog",
    "outputId": "9b17a564-3ee1-4f67-c3aa-354b4c601c43"
   },
   "outputs": [
    {
     "data": {
      "application/vnd.microsoft.datawrangler.viewer.v0+json": {
       "columns": [
        {
         "name": "index",
         "rawType": "object",
         "type": "string"
        },
        {
         "name": "Cluster 0",
         "rawType": "float64",
         "type": "float"
        },
        {
         "name": "Cluster 1",
         "rawType": "float64",
         "type": "float"
        },
        {
         "name": "Cluster 2",
         "rawType": "float64",
         "type": "float"
        },
        {
         "name": "Cluster 3",
         "rawType": "float64",
         "type": "float"
        },
        {
         "name": "Cluster 4",
         "rawType": "float64",
         "type": "float"
        },
        {
         "name": "Cluster 5",
         "rawType": "float64",
         "type": "float"
        },
        {
         "name": "Cluster 6",
         "rawType": "float64",
         "type": "float"
        },
        {
         "name": "Cluster 7",
         "rawType": "float64",
         "type": "float"
        },
        {
         "name": "Cluster 8",
         "rawType": "float64",
         "type": "float"
        },
        {
         "name": "Cluster 9",
         "rawType": "float64",
         "type": "float"
        },
        {
         "name": "Cluster 10",
         "rawType": "float64",
         "type": "float"
        },
        {
         "name": "Cluster 11",
         "rawType": "float64",
         "type": "float"
        },
        {
         "name": "Cluster 12",
         "rawType": "float64",
         "type": "float"
        },
        {
         "name": "Cluster 13",
         "rawType": "float64",
         "type": "float"
        },
        {
         "name": "Cluster 14",
         "rawType": "float64",
         "type": "float"
        }
       ],
       "ref": "f5239944-a518-431e-b680-06db994654f0",
       "rows": [
        [
         "ctrx_quarter",
         "6.0",
         "79.0",
         "90.5",
         "3.0",
         "21.0",
         "147.0",
         "78.5",
         "91.5",
         "145.0",
         "102.0",
         "136.0",
         "75.0",
         "32.0",
         "16.0",
         "3.0"
        ],
        [
         "mpasivos_margen",
         "0.01",
         "450.095",
         "794.0",
         "10.01",
         "40.29",
         "1000.4300000000001",
         "824.96",
         "99.275",
         "1097.01",
         "891.585",
         "978.91",
         "234.38",
         "96.19",
         "349.82",
         "3.435"
        ],
        [
         "cpayroll_trx",
         "0.0",
         "1.0",
         "0.0",
         "0.0",
         "0.0",
         "1.0",
         "0.0",
         "1.0",
         "0.0",
         "1.0",
         "1.0",
         "0.0",
         "0.0",
         "0.0",
         "0.0"
        ],
        [
         "mpayroll",
         "0.0",
         "54828.17",
         "0.0",
         "0.0",
         "0.0",
         "124029.79000000001",
         "0.0",
         "71714.28",
         "0.0",
         "98753.105",
         "90672.9",
         "0.0",
         "0.0",
         "0.0",
         "0.0"
        ],
        [
         "mautoservicio",
         "0.0",
         "0.0",
         "16636.355",
         "0.0",
         "0.0",
         "24752.135000000002",
         "0.0",
         "6803.455",
         "14289.83",
         "26866.5",
         "21220.52",
         "1818.2",
         "0.0",
         "0.0",
         "0.0"
        ],
        [
         "mcaja_ahorro",
         "0.0",
         "12588.904999999999",
         "40352.865000000005",
         "0.0",
         "1287.06",
         "41251.095",
         "17195.33",
         "6284.42",
         "31149.05",
         "52835.055",
         "42803.16",
         "1736.63",
         "965.07",
         "703.23",
         "0.0"
        ],
        [
         "mtarjeta_visa_consumo",
         "0.0",
         "21747.535",
         "2336.495",
         "0.0",
         "0.0",
         "31569.120000000003",
         "29499.095",
         "4217.8099999999995",
         "36794.26",
         "6126.79",
         "34466.79",
         "23384.68",
         "9164.81",
         "0.0",
         "0.0"
        ],
        [
         "ctarjeta_debito_transacciones",
         "0.0",
         "0.0",
         "7.0",
         "0.0",
         "0.0",
         "12.0",
         "0.0",
         "4.0",
         "6.0",
         "11.0",
         "10.0",
         "1.0",
         "0.0",
         "0.0",
         "0.0"
        ],
        [
         "ctarjeta_visa_transacciones",
         "0.0",
         "11.0",
         "2.0",
         "0.0",
         "0.0",
         "14.0",
         "12.0",
         "2.0",
         "14.0",
         "3.0",
         "15.0",
         "11.0",
         "4.0",
         "0.0",
         "0.0"
        ],
        [
         "Visa_msaldopesos",
         "0.0",
         "25561.49",
         "4249.14",
         "32557.815000000002",
         "665.94",
         "35441.31",
         "33884.95",
         "11203.675",
         "43251.06",
         "6266.02",
         "34880.39",
         "27205.61",
         "10805.48",
         "0.0",
         "0.0"
        ]
       ],
       "shape": {
        "columns": 15,
        "rows": 10
       }
      },
      "text/html": [
       "<div>\n",
       "<style scoped>\n",
       "    .dataframe tbody tr th:only-of-type {\n",
       "        vertical-align: middle;\n",
       "    }\n",
       "\n",
       "    .dataframe tbody tr th {\n",
       "        vertical-align: top;\n",
       "    }\n",
       "\n",
       "    .dataframe thead th {\n",
       "        text-align: right;\n",
       "    }\n",
       "</style>\n",
       "<table border=\"1\" class=\"dataframe\">\n",
       "  <thead>\n",
       "    <tr style=\"text-align: right;\">\n",
       "      <th></th>\n",
       "      <th>Cluster 0</th>\n",
       "      <th>Cluster 1</th>\n",
       "      <th>Cluster 2</th>\n",
       "      <th>Cluster 3</th>\n",
       "      <th>Cluster 4</th>\n",
       "      <th>Cluster 5</th>\n",
       "      <th>Cluster 6</th>\n",
       "      <th>Cluster 7</th>\n",
       "      <th>Cluster 8</th>\n",
       "      <th>Cluster 9</th>\n",
       "      <th>Cluster 10</th>\n",
       "      <th>Cluster 11</th>\n",
       "      <th>Cluster 12</th>\n",
       "      <th>Cluster 13</th>\n",
       "      <th>Cluster 14</th>\n",
       "    </tr>\n",
       "  </thead>\n",
       "  <tbody>\n",
       "    <tr>\n",
       "      <th>ctrx_quarter</th>\n",
       "      <td>6.00</td>\n",
       "      <td>79.000</td>\n",
       "      <td>90.500</td>\n",
       "      <td>3.000</td>\n",
       "      <td>21.00</td>\n",
       "      <td>147.000</td>\n",
       "      <td>78.500</td>\n",
       "      <td>91.500</td>\n",
       "      <td>145.00</td>\n",
       "      <td>102.000</td>\n",
       "      <td>136.00</td>\n",
       "      <td>75.00</td>\n",
       "      <td>32.00</td>\n",
       "      <td>16.00</td>\n",
       "      <td>3.000</td>\n",
       "    </tr>\n",
       "    <tr>\n",
       "      <th>mpasivos_margen</th>\n",
       "      <td>0.01</td>\n",
       "      <td>450.095</td>\n",
       "      <td>794.000</td>\n",
       "      <td>10.010</td>\n",
       "      <td>40.29</td>\n",
       "      <td>1000.430</td>\n",
       "      <td>824.960</td>\n",
       "      <td>99.275</td>\n",
       "      <td>1097.01</td>\n",
       "      <td>891.585</td>\n",
       "      <td>978.91</td>\n",
       "      <td>234.38</td>\n",
       "      <td>96.19</td>\n",
       "      <td>349.82</td>\n",
       "      <td>3.435</td>\n",
       "    </tr>\n",
       "    <tr>\n",
       "      <th>cpayroll_trx</th>\n",
       "      <td>0.00</td>\n",
       "      <td>1.000</td>\n",
       "      <td>0.000</td>\n",
       "      <td>0.000</td>\n",
       "      <td>0.00</td>\n",
       "      <td>1.000</td>\n",
       "      <td>0.000</td>\n",
       "      <td>1.000</td>\n",
       "      <td>0.00</td>\n",
       "      <td>1.000</td>\n",
       "      <td>1.00</td>\n",
       "      <td>0.00</td>\n",
       "      <td>0.00</td>\n",
       "      <td>0.00</td>\n",
       "      <td>0.000</td>\n",
       "    </tr>\n",
       "    <tr>\n",
       "      <th>mpayroll</th>\n",
       "      <td>0.00</td>\n",
       "      <td>54828.170</td>\n",
       "      <td>0.000</td>\n",
       "      <td>0.000</td>\n",
       "      <td>0.00</td>\n",
       "      <td>124029.790</td>\n",
       "      <td>0.000</td>\n",
       "      <td>71714.280</td>\n",
       "      <td>0.00</td>\n",
       "      <td>98753.105</td>\n",
       "      <td>90672.90</td>\n",
       "      <td>0.00</td>\n",
       "      <td>0.00</td>\n",
       "      <td>0.00</td>\n",
       "      <td>0.000</td>\n",
       "    </tr>\n",
       "    <tr>\n",
       "      <th>mautoservicio</th>\n",
       "      <td>0.00</td>\n",
       "      <td>0.000</td>\n",
       "      <td>16636.355</td>\n",
       "      <td>0.000</td>\n",
       "      <td>0.00</td>\n",
       "      <td>24752.135</td>\n",
       "      <td>0.000</td>\n",
       "      <td>6803.455</td>\n",
       "      <td>14289.83</td>\n",
       "      <td>26866.500</td>\n",
       "      <td>21220.52</td>\n",
       "      <td>1818.20</td>\n",
       "      <td>0.00</td>\n",
       "      <td>0.00</td>\n",
       "      <td>0.000</td>\n",
       "    </tr>\n",
       "    <tr>\n",
       "      <th>mcaja_ahorro</th>\n",
       "      <td>0.00</td>\n",
       "      <td>12588.905</td>\n",
       "      <td>40352.865</td>\n",
       "      <td>0.000</td>\n",
       "      <td>1287.06</td>\n",
       "      <td>41251.095</td>\n",
       "      <td>17195.330</td>\n",
       "      <td>6284.420</td>\n",
       "      <td>31149.05</td>\n",
       "      <td>52835.055</td>\n",
       "      <td>42803.16</td>\n",
       "      <td>1736.63</td>\n",
       "      <td>965.07</td>\n",
       "      <td>703.23</td>\n",
       "      <td>0.000</td>\n",
       "    </tr>\n",
       "    <tr>\n",
       "      <th>mtarjeta_visa_consumo</th>\n",
       "      <td>0.00</td>\n",
       "      <td>21747.535</td>\n",
       "      <td>2336.495</td>\n",
       "      <td>0.000</td>\n",
       "      <td>0.00</td>\n",
       "      <td>31569.120</td>\n",
       "      <td>29499.095</td>\n",
       "      <td>4217.810</td>\n",
       "      <td>36794.26</td>\n",
       "      <td>6126.790</td>\n",
       "      <td>34466.79</td>\n",
       "      <td>23384.68</td>\n",
       "      <td>9164.81</td>\n",
       "      <td>0.00</td>\n",
       "      <td>0.000</td>\n",
       "    </tr>\n",
       "    <tr>\n",
       "      <th>ctarjeta_debito_transacciones</th>\n",
       "      <td>0.00</td>\n",
       "      <td>0.000</td>\n",
       "      <td>7.000</td>\n",
       "      <td>0.000</td>\n",
       "      <td>0.00</td>\n",
       "      <td>12.000</td>\n",
       "      <td>0.000</td>\n",
       "      <td>4.000</td>\n",
       "      <td>6.00</td>\n",
       "      <td>11.000</td>\n",
       "      <td>10.00</td>\n",
       "      <td>1.00</td>\n",
       "      <td>0.00</td>\n",
       "      <td>0.00</td>\n",
       "      <td>0.000</td>\n",
       "    </tr>\n",
       "    <tr>\n",
       "      <th>ctarjeta_visa_transacciones</th>\n",
       "      <td>0.00</td>\n",
       "      <td>11.000</td>\n",
       "      <td>2.000</td>\n",
       "      <td>0.000</td>\n",
       "      <td>0.00</td>\n",
       "      <td>14.000</td>\n",
       "      <td>12.000</td>\n",
       "      <td>2.000</td>\n",
       "      <td>14.00</td>\n",
       "      <td>3.000</td>\n",
       "      <td>15.00</td>\n",
       "      <td>11.00</td>\n",
       "      <td>4.00</td>\n",
       "      <td>0.00</td>\n",
       "      <td>0.000</td>\n",
       "    </tr>\n",
       "    <tr>\n",
       "      <th>Visa_msaldopesos</th>\n",
       "      <td>0.00</td>\n",
       "      <td>25561.490</td>\n",
       "      <td>4249.140</td>\n",
       "      <td>32557.815</td>\n",
       "      <td>665.94</td>\n",
       "      <td>35441.310</td>\n",
       "      <td>33884.950</td>\n",
       "      <td>11203.675</td>\n",
       "      <td>43251.06</td>\n",
       "      <td>6266.020</td>\n",
       "      <td>34880.39</td>\n",
       "      <td>27205.61</td>\n",
       "      <td>10805.48</td>\n",
       "      <td>0.00</td>\n",
       "      <td>0.000</td>\n",
       "    </tr>\n",
       "  </tbody>\n",
       "</table>\n",
       "</div>"
      ],
      "text/plain": [
       "                               Cluster 0  Cluster 1  Cluster 2  Cluster 3  \\\n",
       "ctrx_quarter                        6.00     79.000     90.500      3.000   \n",
       "mpasivos_margen                     0.01    450.095    794.000     10.010   \n",
       "cpayroll_trx                        0.00      1.000      0.000      0.000   \n",
       "mpayroll                            0.00  54828.170      0.000      0.000   \n",
       "mautoservicio                       0.00      0.000  16636.355      0.000   \n",
       "mcaja_ahorro                        0.00  12588.905  40352.865      0.000   \n",
       "mtarjeta_visa_consumo               0.00  21747.535   2336.495      0.000   \n",
       "ctarjeta_debito_transacciones       0.00      0.000      7.000      0.000   \n",
       "ctarjeta_visa_transacciones         0.00     11.000      2.000      0.000   \n",
       "Visa_msaldopesos                    0.00  25561.490   4249.140  32557.815   \n",
       "\n",
       "                               Cluster 4   Cluster 5  Cluster 6  Cluster 7  \\\n",
       "ctrx_quarter                       21.00     147.000     78.500     91.500   \n",
       "mpasivos_margen                    40.29    1000.430    824.960     99.275   \n",
       "cpayroll_trx                        0.00       1.000      0.000      1.000   \n",
       "mpayroll                            0.00  124029.790      0.000  71714.280   \n",
       "mautoservicio                       0.00   24752.135      0.000   6803.455   \n",
       "mcaja_ahorro                     1287.06   41251.095  17195.330   6284.420   \n",
       "mtarjeta_visa_consumo               0.00   31569.120  29499.095   4217.810   \n",
       "ctarjeta_debito_transacciones       0.00      12.000      0.000      4.000   \n",
       "ctarjeta_visa_transacciones         0.00      14.000     12.000      2.000   \n",
       "Visa_msaldopesos                  665.94   35441.310  33884.950  11203.675   \n",
       "\n",
       "                               Cluster 8  Cluster 9  Cluster 10  Cluster 11  \\\n",
       "ctrx_quarter                      145.00    102.000      136.00       75.00   \n",
       "mpasivos_margen                  1097.01    891.585      978.91      234.38   \n",
       "cpayroll_trx                        0.00      1.000        1.00        0.00   \n",
       "mpayroll                            0.00  98753.105    90672.90        0.00   \n",
       "mautoservicio                   14289.83  26866.500    21220.52     1818.20   \n",
       "mcaja_ahorro                    31149.05  52835.055    42803.16     1736.63   \n",
       "mtarjeta_visa_consumo           36794.26   6126.790    34466.79    23384.68   \n",
       "ctarjeta_debito_transacciones       6.00     11.000       10.00        1.00   \n",
       "ctarjeta_visa_transacciones        14.00      3.000       15.00       11.00   \n",
       "Visa_msaldopesos                43251.06   6266.020    34880.39    27205.61   \n",
       "\n",
       "                               Cluster 12  Cluster 13  Cluster 14  \n",
       "ctrx_quarter                        32.00       16.00       3.000  \n",
       "mpasivos_margen                     96.19      349.82       3.435  \n",
       "cpayroll_trx                         0.00        0.00       0.000  \n",
       "mpayroll                             0.00        0.00       0.000  \n",
       "mautoservicio                        0.00        0.00       0.000  \n",
       "mcaja_ahorro                       965.07      703.23       0.000  \n",
       "mtarjeta_visa_consumo             9164.81        0.00       0.000  \n",
       "ctarjeta_debito_transacciones        0.00        0.00       0.000  \n",
       "ctarjeta_visa_transacciones          4.00        0.00       0.000  \n",
       "Visa_msaldopesos                 10805.48        0.00       0.000  "
      ]
     },
     "metadata": {},
     "output_type": "display_data"
    }
   ],
   "source": [
    "# sacar las features más importantes\n",
    "importances = model.feature_importances_\n",
    "feature_names = Xtrain_rf.columns\n",
    "feature_importance_series = pd.Series(importances, index=feature_names)\n",
    "\n",
    "feature_selected = feature_importance_series.sort_values(ascending=False)\n",
    "\n",
    "n_top = 10 # cantidad de variables a evaluar.\n",
    "top_overall_features = feature_selected.head(n_top).index.tolist()\n",
    "\n",
    "cluster_series_aligned = pd.Series(clusters, index=Xtrain_rf.index)\n",
    "\n",
    "cluster_median_values = {}\n",
    "\n",
    "for cluster in sorted(np.unique(clusters)):\n",
    "    cluster_indices = cluster_series_aligned[cluster_series_aligned == cluster].index\n",
    "    cluster_data = Xtrain_rf.loc[cluster_indices, top_overall_features]\n",
    "\n",
    "    # Usar el estadístico de su preferencia\n",
    "    values = cluster_data.median()\n",
    "    cluster_median_values[f'Cluster {cluster}'] = values\n",
    "\n",
    "top_overall_features_df = pd.DataFrame(cluster_median_values)\n",
    "display(top_overall_features_df)"
   ]
  },
  {
   "cell_type": "code",
   "execution_count": 20,
   "metadata": {
    "colab": {
     "base_uri": "https://localhost:8080/",
     "height": 444
    },
    "executionInfo": {
     "elapsed": 32,
     "status": "ok",
     "timestamp": 1756861681586,
     "user": {
      "displayName": "Alejandro Bolaños",
      "userId": "15513030842131101305"
     },
     "user_tz": 180
    },
    "id": "pRlHmcCuGNJV",
    "outputId": "28a0cc33-ef1b-419d-f403-2f017cbd2d7d"
   },
   "outputs": [
    {
     "data": {
      "application/vnd.microsoft.datawrangler.viewer.v0+json": {
       "columns": [
        {
         "name": "index",
         "rawType": "int64",
         "type": "integer"
        },
        {
         "name": "ctrx_quarter",
         "rawType": "int64",
         "type": "integer"
        },
        {
         "name": "mpasivos_margen",
         "rawType": "float64",
         "type": "float"
        },
        {
         "name": "cpayroll_trx",
         "rawType": "int64",
         "type": "integer"
        },
        {
         "name": "mpayroll",
         "rawType": "float64",
         "type": "float"
        },
        {
         "name": "mautoservicio",
         "rawType": "float64",
         "type": "float"
        },
        {
         "name": "mcaja_ahorro",
         "rawType": "float64",
         "type": "float"
        },
        {
         "name": "mtarjeta_visa_consumo",
         "rawType": "float64",
         "type": "float"
        },
        {
         "name": "ctarjeta_debito_transacciones",
         "rawType": "int64",
         "type": "integer"
        },
        {
         "name": "ctarjeta_visa_transacciones",
         "rawType": "int64",
         "type": "integer"
        },
        {
         "name": "Visa_msaldopesos",
         "rawType": "float64",
         "type": "float"
        }
       ],
       "ref": "0d56f29d-8f1b-4bcf-92c4-a30ceff0a8fa",
       "rows": [
        [
         "7405",
         "12",
         "2.91",
         "0",
         "0.0",
         "0.0",
         "31.77",
         "0.0",
         "0",
         "0",
         null
        ],
        [
         "7887",
         "0",
         "0.0",
         "0",
         "0.0",
         "0.0",
         "0.0",
         "0.0",
         "0",
         "0",
         null
        ],
        [
         "24356",
         "8",
         "4.9",
         "0",
         "0.0",
         "0.0",
         "386.45",
         "0.0",
         "0",
         "0",
         null
        ],
        [
         "28018",
         "4",
         "4.22",
         "0",
         "0.0",
         "0.0",
         "0.0",
         "0.0",
         "0",
         "0",
         null
        ],
        [
         "28431",
         "6",
         "113.23",
         "0",
         "0.0",
         "0.0",
         "0.0",
         "0.0",
         "0",
         "0",
         null
        ],
        [
         "30933",
         "0",
         "46.31",
         "0",
         "0.0",
         "0.0",
         "0.0",
         "0.0",
         "0",
         "0",
         null
        ],
        [
         "35428",
         "3",
         "89.48",
         "0",
         "0.0",
         "0.0",
         "61.77",
         "0.0",
         "0",
         "0",
         null
        ],
        [
         "37730",
         "9",
         "92.6",
         "0",
         "0.0",
         "0.0",
         "0.0",
         "0.0",
         "0",
         "0",
         null
        ],
        [
         "43160",
         "12",
         "22.3",
         "0",
         "0.0",
         "0.0",
         "0.0",
         "0.0",
         "0",
         "0",
         "2865.04"
        ],
        [
         "46226",
         "1",
         "28.01",
         "0",
         "0.0",
         "0.0",
         "0.0",
         "0.0",
         "0",
         "0",
         null
        ],
        [
         "51934",
         "5",
         "0.0",
         "0",
         "0.0",
         "0.0",
         "0.0",
         "0.0",
         "0",
         "0",
         null
        ],
        [
         "52471",
         "14",
         "31.19",
         "0",
         "0.0",
         "0.0",
         "0.0",
         "0.0",
         "0",
         "0",
         null
        ],
        [
         "52727",
         "0",
         "1.44",
         "0",
         "0.0",
         "0.0",
         "0.0",
         "0.0",
         "0",
         "0",
         null
        ],
        [
         "62002",
         "0",
         "13.07",
         "0",
         "0.0",
         "0.0",
         "0.0",
         "0.0",
         "0",
         "0",
         null
        ],
        [
         "65510",
         "0",
         "0.47",
         "0",
         "0.0",
         "0.0",
         "0.0",
         "0.0",
         "0",
         "0",
         null
        ],
        [
         "77147",
         "1",
         "5.63",
         "0",
         "0.0",
         "0.0",
         "56.82",
         "0.0",
         "0",
         "0",
         null
        ],
        [
         "88878",
         "3",
         "3.24",
         "0",
         "0.0",
         "0.0",
         "0.0",
         "0.0",
         "0",
         "0",
         null
        ],
        [
         "91664",
         "18",
         "0.01",
         "0",
         "0.0",
         "0.0",
         "0.5",
         "0.0",
         "0",
         "0",
         null
        ],
        [
         "96293",
         "0",
         "0.0",
         "0",
         "0.0",
         "0.0",
         "0.0",
         "0.0",
         "0",
         "0",
         null
        ],
        [
         "97732",
         "0",
         "0.32",
         "0",
         "0.0",
         "0.0",
         "0.0",
         "0.0",
         "0",
         "0",
         null
        ],
        [
         "104555",
         "21",
         "0.0",
         "0",
         "0.0",
         "0.0",
         "0.0",
         "0.0",
         "0",
         "0",
         "0.0"
        ],
        [
         "105852",
         "5",
         "10.8",
         "0",
         "0.0",
         "0.0",
         "76.67",
         "0.0",
         "0",
         "0",
         null
        ],
        [
         "106416",
         "13",
         "11.57",
         "0",
         "0.0",
         "0.0",
         "0.0",
         "0.0",
         "0",
         "0",
         null
        ],
        [
         "108858",
         "16",
         "0.15",
         "0",
         "0.0",
         "0.0",
         "0.0",
         "0.0",
         "0",
         "0",
         null
        ],
        [
         "117908",
         "0",
         "0.0",
         "0",
         "0.0",
         "0.0",
         "0.0",
         "0.0",
         "0",
         "0",
         "0.0"
        ],
        [
         "118311",
         "9",
         "76.97",
         "0",
         "0.0",
         "0.0",
         "0.0",
         "0.0",
         "0",
         "0",
         null
        ],
        [
         "120216",
         "17",
         "20.87",
         "0",
         "0.0",
         "0.0",
         "185.13",
         "0.0",
         "0",
         "0",
         null
        ],
        [
         "128765",
         "11",
         "8.63",
         "0",
         "0.0",
         "0.0",
         "636.16",
         "0.0",
         "0",
         "0",
         "-22.59"
        ],
        [
         "133109",
         "0",
         "63.04",
         "0",
         "0.0",
         "0.0",
         "0.0",
         "0.0",
         "0",
         "0",
         null
        ],
        [
         "136517",
         "0",
         "54.91",
         "0",
         "0.0",
         "0.0",
         "0.0",
         "0.0",
         "0",
         "0",
         null
        ],
        [
         "140897",
         "7",
         "2.13",
         "0",
         "0.0",
         "0.0",
         "168.47",
         "0.0",
         "0",
         "0",
         null
        ],
        [
         "146605",
         "0",
         "28.65",
         "0",
         "0.0",
         "0.0",
         "0.0",
         "0.0",
         "0",
         "0",
         null
        ],
        [
         "150389",
         "11",
         "6.61",
         "0",
         "0.0",
         "0.0",
         "522.33",
         "0.0",
         "0",
         "0",
         null
        ],
        [
         "151495",
         "1",
         "25.5",
         "0",
         "0.0",
         "0.0",
         "0.0",
         "0.0",
         "0",
         "0",
         null
        ],
        [
         "152072",
         "0",
         "169.7",
         "0",
         "0.0",
         "0.0",
         "0.0",
         "0.0",
         "0",
         "0",
         null
        ],
        [
         "155582",
         "4",
         "201.93",
         "0",
         "0.0",
         "0.0",
         "0.0",
         "0.0",
         "0",
         "0",
         null
        ],
        [
         "167756",
         "9",
         "71.6",
         "0",
         "0.0",
         "0.0",
         "0.0",
         "0.0",
         "0",
         "0",
         null
        ],
        [
         "174306",
         "0",
         "0.0",
         "0",
         "0.0",
         "0.0",
         "0.0",
         "0.0",
         "0",
         "0",
         null
        ],
        [
         "180029",
         "9",
         "4.68",
         "0",
         "0.0",
         "0.0",
         "0.0",
         "0.0",
         "0",
         "0",
         null
        ],
        [
         "189214",
         "1",
         "0.0",
         "0",
         "0.0",
         "0.0",
         "0.0",
         "0.0",
         "0",
         "0",
         null
        ],
        [
         "192741",
         "15",
         "1.56",
         "0",
         "0.0",
         "0.0",
         "0.0",
         "0.0",
         "0",
         "0",
         null
        ],
        [
         "212716",
         "0",
         "0.0",
         "0",
         "0.0",
         "0.0",
         "0.0",
         "0.0",
         "0",
         "0",
         null
        ],
        [
         "214500",
         "0",
         "136.76",
         "0",
         "0.0",
         "0.0",
         "0.0",
         "0.0",
         "0",
         "0",
         null
        ],
        [
         "218309",
         "0",
         "0.0",
         "0",
         "0.0",
         "0.0",
         "0.0",
         "0.0",
         "0",
         "0",
         "0.0"
        ],
        [
         "219764",
         "3",
         "24.87",
         "0",
         "0.0",
         "0.0",
         "0.0",
         "0.0",
         "0",
         "0",
         null
        ],
        [
         "220005",
         "6",
         "0.81",
         "0",
         "0.0",
         "0.0",
         "0.0",
         "0.0",
         "0",
         "0",
         null
        ],
        [
         "229754",
         "14",
         "7.86",
         "0",
         "0.0",
         "0.0",
         "0.0",
         "0.0",
         "0",
         "0",
         null
        ],
        [
         "237989",
         "27",
         "12.54",
         "0",
         "0.0",
         "0.0",
         "990.42",
         "0.0",
         "0",
         "0",
         null
        ],
        [
         "245479",
         "6",
         "0.0",
         "0",
         "0.0",
         "0.0",
         "0.0",
         "0.0",
         "0",
         "0",
         null
        ],
        [
         "250431",
         "0",
         "0.0",
         "0",
         "0.0",
         "0.0",
         "0.0",
         "0.0",
         "0",
         "0",
         "0.0"
        ]
       ],
       "shape": {
        "columns": 10,
        "rows": 282
       }
      },
      "text/html": [
       "<div>\n",
       "<style scoped>\n",
       "    .dataframe tbody tr th:only-of-type {\n",
       "        vertical-align: middle;\n",
       "    }\n",
       "\n",
       "    .dataframe tbody tr th {\n",
       "        vertical-align: top;\n",
       "    }\n",
       "\n",
       "    .dataframe thead th {\n",
       "        text-align: right;\n",
       "    }\n",
       "</style>\n",
       "<table border=\"1\" class=\"dataframe\">\n",
       "  <thead>\n",
       "    <tr style=\"text-align: right;\">\n",
       "      <th></th>\n",
       "      <th>ctrx_quarter</th>\n",
       "      <th>mpasivos_margen</th>\n",
       "      <th>cpayroll_trx</th>\n",
       "      <th>mpayroll</th>\n",
       "      <th>mautoservicio</th>\n",
       "      <th>mcaja_ahorro</th>\n",
       "      <th>mtarjeta_visa_consumo</th>\n",
       "      <th>ctarjeta_debito_transacciones</th>\n",
       "      <th>ctarjeta_visa_transacciones</th>\n",
       "      <th>Visa_msaldopesos</th>\n",
       "    </tr>\n",
       "  </thead>\n",
       "  <tbody>\n",
       "    <tr>\n",
       "      <th>7405</th>\n",
       "      <td>12</td>\n",
       "      <td>2.91</td>\n",
       "      <td>0</td>\n",
       "      <td>0.0</td>\n",
       "      <td>0.0</td>\n",
       "      <td>31.77</td>\n",
       "      <td>0.0</td>\n",
       "      <td>0</td>\n",
       "      <td>0</td>\n",
       "      <td>NaN</td>\n",
       "    </tr>\n",
       "    <tr>\n",
       "      <th>7887</th>\n",
       "      <td>0</td>\n",
       "      <td>0.00</td>\n",
       "      <td>0</td>\n",
       "      <td>0.0</td>\n",
       "      <td>0.0</td>\n",
       "      <td>0.00</td>\n",
       "      <td>0.0</td>\n",
       "      <td>0</td>\n",
       "      <td>0</td>\n",
       "      <td>NaN</td>\n",
       "    </tr>\n",
       "    <tr>\n",
       "      <th>24356</th>\n",
       "      <td>8</td>\n",
       "      <td>4.90</td>\n",
       "      <td>0</td>\n",
       "      <td>0.0</td>\n",
       "      <td>0.0</td>\n",
       "      <td>386.45</td>\n",
       "      <td>0.0</td>\n",
       "      <td>0</td>\n",
       "      <td>0</td>\n",
       "      <td>NaN</td>\n",
       "    </tr>\n",
       "    <tr>\n",
       "      <th>28018</th>\n",
       "      <td>4</td>\n",
       "      <td>4.22</td>\n",
       "      <td>0</td>\n",
       "      <td>0.0</td>\n",
       "      <td>0.0</td>\n",
       "      <td>0.00</td>\n",
       "      <td>0.0</td>\n",
       "      <td>0</td>\n",
       "      <td>0</td>\n",
       "      <td>NaN</td>\n",
       "    </tr>\n",
       "    <tr>\n",
       "      <th>28431</th>\n",
       "      <td>6</td>\n",
       "      <td>113.23</td>\n",
       "      <td>0</td>\n",
       "      <td>0.0</td>\n",
       "      <td>0.0</td>\n",
       "      <td>0.00</td>\n",
       "      <td>0.0</td>\n",
       "      <td>0</td>\n",
       "      <td>0</td>\n",
       "      <td>NaN</td>\n",
       "    </tr>\n",
       "    <tr>\n",
       "      <th>...</th>\n",
       "      <td>...</td>\n",
       "      <td>...</td>\n",
       "      <td>...</td>\n",
       "      <td>...</td>\n",
       "      <td>...</td>\n",
       "      <td>...</td>\n",
       "      <td>...</td>\n",
       "      <td>...</td>\n",
       "      <td>...</td>\n",
       "      <td>...</td>\n",
       "    </tr>\n",
       "    <tr>\n",
       "      <th>963937</th>\n",
       "      <td>0</td>\n",
       "      <td>33.03</td>\n",
       "      <td>0</td>\n",
       "      <td>0.0</td>\n",
       "      <td>0.0</td>\n",
       "      <td>0.00</td>\n",
       "      <td>0.0</td>\n",
       "      <td>0</td>\n",
       "      <td>0</td>\n",
       "      <td>NaN</td>\n",
       "    </tr>\n",
       "    <tr>\n",
       "      <th>964943</th>\n",
       "      <td>0</td>\n",
       "      <td>0.00</td>\n",
       "      <td>0</td>\n",
       "      <td>0.0</td>\n",
       "      <td>0.0</td>\n",
       "      <td>0.00</td>\n",
       "      <td>0.0</td>\n",
       "      <td>0</td>\n",
       "      <td>0</td>\n",
       "      <td>NaN</td>\n",
       "    </tr>\n",
       "    <tr>\n",
       "      <th>966153</th>\n",
       "      <td>4</td>\n",
       "      <td>5.84</td>\n",
       "      <td>0</td>\n",
       "      <td>0.0</td>\n",
       "      <td>0.0</td>\n",
       "      <td>0.00</td>\n",
       "      <td>0.0</td>\n",
       "      <td>0</td>\n",
       "      <td>0</td>\n",
       "      <td>NaN</td>\n",
       "    </tr>\n",
       "    <tr>\n",
       "      <th>969584</th>\n",
       "      <td>0</td>\n",
       "      <td>0.00</td>\n",
       "      <td>0</td>\n",
       "      <td>0.0</td>\n",
       "      <td>0.0</td>\n",
       "      <td>0.00</td>\n",
       "      <td>0.0</td>\n",
       "      <td>0</td>\n",
       "      <td>0</td>\n",
       "      <td>NaN</td>\n",
       "    </tr>\n",
       "    <tr>\n",
       "      <th>971174</th>\n",
       "      <td>0</td>\n",
       "      <td>60.92</td>\n",
       "      <td>0</td>\n",
       "      <td>0.0</td>\n",
       "      <td>0.0</td>\n",
       "      <td>0.00</td>\n",
       "      <td>0.0</td>\n",
       "      <td>0</td>\n",
       "      <td>0</td>\n",
       "      <td>NaN</td>\n",
       "    </tr>\n",
       "  </tbody>\n",
       "</table>\n",
       "<p>282 rows × 10 columns</p>\n",
       "</div>"
      ],
      "text/plain": [
       "        ctrx_quarter  mpasivos_margen  cpayroll_trx  mpayroll  mautoservicio  \\\n",
       "7405              12             2.91             0       0.0            0.0   \n",
       "7887               0             0.00             0       0.0            0.0   \n",
       "24356              8             4.90             0       0.0            0.0   \n",
       "28018              4             4.22             0       0.0            0.0   \n",
       "28431              6           113.23             0       0.0            0.0   \n",
       "...              ...              ...           ...       ...            ...   \n",
       "963937             0            33.03             0       0.0            0.0   \n",
       "964943             0             0.00             0       0.0            0.0   \n",
       "966153             4             5.84             0       0.0            0.0   \n",
       "969584             0             0.00             0       0.0            0.0   \n",
       "971174             0            60.92             0       0.0            0.0   \n",
       "\n",
       "        mcaja_ahorro  mtarjeta_visa_consumo  ctarjeta_debito_transacciones  \\\n",
       "7405           31.77                    0.0                              0   \n",
       "7887            0.00                    0.0                              0   \n",
       "24356         386.45                    0.0                              0   \n",
       "28018           0.00                    0.0                              0   \n",
       "28431           0.00                    0.0                              0   \n",
       "...              ...                    ...                            ...   \n",
       "963937          0.00                    0.0                              0   \n",
       "964943          0.00                    0.0                              0   \n",
       "966153          0.00                    0.0                              0   \n",
       "969584          0.00                    0.0                              0   \n",
       "971174          0.00                    0.0                              0   \n",
       "\n",
       "        ctarjeta_visa_transacciones  Visa_msaldopesos  \n",
       "7405                              0               NaN  \n",
       "7887                              0               NaN  \n",
       "24356                             0               NaN  \n",
       "28018                             0               NaN  \n",
       "28431                             0               NaN  \n",
       "...                             ...               ...  \n",
       "963937                            0               NaN  \n",
       "964943                            0               NaN  \n",
       "966153                            0               NaN  \n",
       "969584                            0               NaN  \n",
       "971174                            0               NaN  \n",
       "\n",
       "[282 rows x 10 columns]"
      ]
     },
     "execution_count": 20,
     "metadata": {},
     "output_type": "execute_result"
    }
   ],
   "source": [
    "cluster_data"
   ]
  },
  {
   "cell_type": "markdown",
   "metadata": {
    "id": "nBiE6leAptAS"
   },
   "source": [
    "Otra de forma de explorar es graficar uno contra todos"
   ]
  },
  {
   "cell_type": "code",
   "execution_count": 21,
   "metadata": {
    "colab": {
     "base_uri": "https://localhost:8080/",
     "height": 381
    },
    "executionInfo": {
     "elapsed": 33,
     "status": "ok",
     "timestamp": 1756861681618,
     "user": {
      "displayName": "Alejandro Bolaños",
      "userId": "15513030842131101305"
     },
     "user_tz": 180
    },
    "id": "InKni1zsqwTE",
    "outputId": "e3a8f5d2-8d6d-49b9-d874-0a4969b06b0c"
   },
   "outputs": [
    {
     "name": "stdout",
     "output_type": "stream",
     "text": [
      "'mcaja_ahorro' - Cluster 0 vs. Rest\n"
     ]
    },
    {
     "data": {
      "application/vnd.microsoft.datawrangler.viewer.v0+json": {
       "columns": [
        {
         "name": "index",
         "rawType": "object",
         "type": "string"
        },
        {
         "name": "Cluster 0",
         "rawType": "float64",
         "type": "float"
        },
        {
         "name": "Rest of Clusters",
         "rawType": "float64",
         "type": "float"
        }
       ],
       "ref": "bd3ae1f7-bfd6-46fc-b7bb-47cbad718897",
       "rows": [
        [
         "count",
         "355.0",
         "3730.0"
        ],
        [
         "mean",
         "74.94118309859155",
         "49939.37511796247"
        ],
        [
         "std",
         "275.7061538697444",
         "224648.90236515438"
        ],
        [
         "min",
         "0.0",
         "0.0"
        ],
        [
         "25%",
         "0.0",
         "138.9175"
        ],
        [
         "50%",
         "0.0",
         "7307.605"
        ],
        [
         "75%",
         "0.0",
         "35191.2375"
        ],
        [
         "max",
         "2749.58",
         "9495775.86"
        ],
        [
         "unique",
         "85.0",
         "2989.0"
        ],
        [
         "missing",
         "0.0",
         "0.0"
        ]
       ],
       "shape": {
        "columns": 2,
        "rows": 10
       }
      },
      "text/html": [
       "<div>\n",
       "<style scoped>\n",
       "    .dataframe tbody tr th:only-of-type {\n",
       "        vertical-align: middle;\n",
       "    }\n",
       "\n",
       "    .dataframe tbody tr th {\n",
       "        vertical-align: top;\n",
       "    }\n",
       "\n",
       "    .dataframe thead th {\n",
       "        text-align: right;\n",
       "    }\n",
       "</style>\n",
       "<table border=\"1\" class=\"dataframe\">\n",
       "  <thead>\n",
       "    <tr style=\"text-align: right;\">\n",
       "      <th></th>\n",
       "      <th>Cluster 0</th>\n",
       "      <th>Rest of Clusters</th>\n",
       "    </tr>\n",
       "  </thead>\n",
       "  <tbody>\n",
       "    <tr>\n",
       "      <th>count</th>\n",
       "      <td>355.000000</td>\n",
       "      <td>3.730000e+03</td>\n",
       "    </tr>\n",
       "    <tr>\n",
       "      <th>mean</th>\n",
       "      <td>74.941183</td>\n",
       "      <td>4.993938e+04</td>\n",
       "    </tr>\n",
       "    <tr>\n",
       "      <th>std</th>\n",
       "      <td>275.706154</td>\n",
       "      <td>2.246489e+05</td>\n",
       "    </tr>\n",
       "    <tr>\n",
       "      <th>min</th>\n",
       "      <td>0.000000</td>\n",
       "      <td>0.000000e+00</td>\n",
       "    </tr>\n",
       "    <tr>\n",
       "      <th>25%</th>\n",
       "      <td>0.000000</td>\n",
       "      <td>1.389175e+02</td>\n",
       "    </tr>\n",
       "    <tr>\n",
       "      <th>50%</th>\n",
       "      <td>0.000000</td>\n",
       "      <td>7.307605e+03</td>\n",
       "    </tr>\n",
       "    <tr>\n",
       "      <th>75%</th>\n",
       "      <td>0.000000</td>\n",
       "      <td>3.519124e+04</td>\n",
       "    </tr>\n",
       "    <tr>\n",
       "      <th>max</th>\n",
       "      <td>2749.580000</td>\n",
       "      <td>9.495776e+06</td>\n",
       "    </tr>\n",
       "    <tr>\n",
       "      <th>unique</th>\n",
       "      <td>85.000000</td>\n",
       "      <td>2.989000e+03</td>\n",
       "    </tr>\n",
       "    <tr>\n",
       "      <th>missing</th>\n",
       "      <td>0.000000</td>\n",
       "      <td>0.000000e+00</td>\n",
       "    </tr>\n",
       "  </tbody>\n",
       "</table>\n",
       "</div>"
      ],
      "text/plain": [
       "           Cluster 0  Rest of Clusters\n",
       "count     355.000000      3.730000e+03\n",
       "mean       74.941183      4.993938e+04\n",
       "std       275.706154      2.246489e+05\n",
       "min         0.000000      0.000000e+00\n",
       "25%         0.000000      1.389175e+02\n",
       "50%         0.000000      7.307605e+03\n",
       "75%         0.000000      3.519124e+04\n",
       "max      2749.580000      9.495776e+06\n",
       "unique     85.000000      2.989000e+03\n",
       "missing     0.000000      0.000000e+00"
      ]
     },
     "execution_count": 21,
     "metadata": {},
     "output_type": "execute_result"
    }
   ],
   "source": [
    "def compare_cluster_stats(data, clusters, variable_name, target_cluster):\n",
    "\n",
    "    cluster_series_aligned = pd.Series(clusters, index=data.index)\n",
    "\n",
    "    variable_data = data[variable_name]\n",
    "\n",
    "    target_cluster_indices = cluster_series_aligned[cluster_series_aligned == target_cluster].index\n",
    "    target_cluster_data = variable_data.loc[target_cluster_indices] # Keep NaNs for counting\n",
    "\n",
    "    rest_indices = cluster_series_aligned[cluster_series_aligned != target_cluster].index\n",
    "    rest_data = variable_data.loc[rest_indices] # Keep NaNs for counting\n",
    "\n",
    "    target_cluster_desc = target_cluster_data.dropna().describe()\n",
    "    rest_desc = rest_data.dropna().describe()\n",
    "\n",
    "    summary_df = pd.DataFrame({\n",
    "        f'Cluster {target_cluster}': target_cluster_desc,\n",
    "        f'Rest of Clusters': rest_desc\n",
    "    })\n",
    "\n",
    "    summary_df.loc['unique'] = [target_cluster_data.nunique(), rest_data.nunique()]\n",
    "    summary_df.loc['missing'] = [target_cluster_data.isnull().sum(), rest_data.isnull().sum()]\n",
    "\n",
    "    return summary_df\n",
    "\n",
    "print(f\"'mcaja_ahorro' - Cluster 0 vs. Rest\")\n",
    "compare_cluster_stats(Xtrain_rf, clusters, 'mcaja_ahorro', 0)"
   ]
  },
  {
   "cell_type": "markdown",
   "metadata": {
    "id": "eOc6CyrruMSK"
   },
   "source": [
    "Muy interesante... pero no hay una brújula que nos ayude a ver que variables comparar?\n",
    "\n",
    "Acá un salvavidas: Crea un modelo que busca separar los clusters del resto de los datos y nos devuelven las variables más importantes de esa separación"
   ]
  },
  {
   "cell_type": "code",
   "execution_count": 23,
   "metadata": {
    "colab": {
     "base_uri": "https://localhost:8080/"
    },
    "executionInfo": {
     "elapsed": 16129,
     "status": "ok",
     "timestamp": 1756861697755,
     "user": {
      "displayName": "Alejandro Bolaños",
      "userId": "15513030842131101305"
     },
     "user_tz": 180
    },
    "id": "1rtEi1B_uLG3",
    "outputId": "52734b9a-8a73-479b-9f14-c9d3f69d8123"
   },
   "outputs": [
    {
     "name": "stdout",
     "output_type": "stream",
     "text": [
      "Training model for Cluster 0 vs. Rest...\n",
      "Training model for Cluster 1 vs. Rest...\n",
      "Training model for Cluster 2 vs. Rest...\n",
      "Training model for Cluster 3 vs. Rest...\n",
      "Training model for Cluster 4 vs. Rest...\n",
      "Training model for Cluster 5 vs. Rest...\n",
      "Training model for Cluster 6 vs. Rest...\n",
      "Training model for Cluster 7 vs. Rest...\n",
      "Training model for Cluster 8 vs. Rest...\n",
      "Training model for Cluster 9 vs. Rest...\n",
      "Training model for Cluster 10 vs. Rest...\n",
      "Training model for Cluster 11 vs. Rest...\n",
      "Training model for Cluster 12 vs. Rest...\n",
      "Training model for Cluster 13 vs. Rest...\n",
      "Training model for Cluster 14 vs. Rest...\n"
     ]
    }
   ],
   "source": [
    "important_features_by_cluster = {}\n",
    "\n",
    "for cluster in sorted(np.unique(clusters)):\n",
    "    print(f\"Training model for Cluster {cluster} vs. Rest...\")\n",
    "    y_binary = (cluster_series_aligned == cluster).astype(int)\n",
    "\n",
    "    model = RandomForestClassifier(n_estimators=100, random_state=17, class_weight='balanced') # Added class_weight for imbalanced data\n",
    "    model.fit(Xtrain_rf_imp, y_binary)\n",
    "\n",
    "    importances = model.feature_importances_\n",
    "    feature_names = Xtrain_rf.columns\n",
    "\n",
    "    indices = np.argsort(importances)[::-1]\n",
    "\n",
    "    important_features_by_cluster[cluster] = [feature_names[i] for i in indices]\n"
   ]
  },
  {
   "cell_type": "markdown",
   "metadata": {
    "id": "uA4_gFQzu3AG"
   },
   "source": [
    "Vemos las más importantes para un cluster"
   ]
  },
  {
   "cell_type": "code",
   "execution_count": 24,
   "metadata": {
    "colab": {
     "base_uri": "https://localhost:8080/"
    },
    "executionInfo": {
     "elapsed": 12,
     "status": "ok",
     "timestamp": 1756861697770,
     "user": {
      "displayName": "Alejandro Bolaños",
      "userId": "15513030842131101305"
     },
     "user_tz": 180
    },
    "id": "P6V5T2f8u2NC",
    "outputId": "3d3ecdb5-212f-4930-a12b-060e1db5c45f"
   },
   "outputs": [
    {
     "name": "stdout",
     "output_type": "stream",
     "text": [
      "['mpasivos_margen', 'Visa_msaldototal', 'Visa_msaldopesos', 'Visa_mpagominimo', 'mcaja_ahorro', 'ctrx_quarter', 'mcuenta_corriente', 'mcuentas_saldo', 'mactivos_margen', 'mtarjeta_visa_consumo', 'ctarjeta_visa_transacciones', 'mautoservicio', 'ctarjeta_debito_transacciones', 'ccomisiones_mantenimiento', 'Visa_mpagospesos', 'mttarjeta_visa_debitos_automaticos', 'Visa_mconsumototal', 'mcomisiones_mantenimiento', 'mtransferencias_emitidas', 'mrentabilidad', 'ccomisiones_otras', 'mcomisiones_otras', 'Visa_fechaalta', 'chomebanking_transacciones', 'ctransferencias_emitidas', 'ctarjeta_visa', 'mtransferencias_recibidas', 'ctransferencias_recibidas', 'mrentabilidad_annual', 'mcomisiones', 'ctarjeta_visa_debitos_automaticos', 'cpayroll_trx', 'Visa_cconsumos', 'mpayroll', 'cproductos', 'Visa_mconsumospesos', 'Visa_Fvencimiento', 'Visa_mfinanciacion_limite', 'Master_fechaalta', 'Visa_mlimitecompra', 'numero_de_cliente', 'cliente_antiguedad', 'ctarjeta_master', 'mpagomiscuentas', 'Master_Fvencimiento', 'mextraccion_autoservicio', 'matm', 'cextraccion_autoservicio', 'cliente_edad', 'Master_mlimitecompra', 'cpagomiscuentas', 'ccuenta_debitos_automaticos', 'mcaja_ahorro_dolares', 'active_quarter', 'Master_mfinanciacion_limite', 'Master_msaldopesos', 'Visa_status', 'catm_trx', 'Master_status', 'mcuenta_debitos_automaticos', 'ccajas_transacciones', 'catm_trx_other', 'thomebanking', 'ctarjeta_debito', 'Master_msaldototal', 'ccajas_consultas', 'internet', 'cdescubierto_preacordado', 'Master_fultimo_cierre', 'Master_mpagospesos', 'Visa_fultimo_cierre', 'ccallcenter_transacciones', 'cmobile_app_trx', 'Visa_Finiciomora', 'ccajas_otras', 'ctarjeta_master_transacciones', 'matm_other', 'cprestamos_personales', 'Master_mconsumototal', 'Visa_delinquency', 'mplazo_fijo_dolares', 'mprestamos_personales', 'cplazo_fijo', 'tcuentas', 'Master_mpagominimo', 'cinversion1', 'cseguro_accidentes_personales', 'Master_cconsumos', 'ccaja_ahorro', 'Master_mpagado', 'minversion1_pesos', 'tcallcenter', 'Visa_mpagado', 'mttarjeta_master_debitos_automaticos', 'cseguro_vivienda', 'Master_mconsumospesos', 'Visa_msaldodolares', 'ctarjeta_master_debitos_automaticos', 'mcaja_ahorro_adicional', 'mtarjeta_master_consumo', 'Visa_mconsumosdolares', 'cseguro_vida', 'ccajas_extracciones', 'cinversion2', 'Visa_mpagosdolares', 'Master_mconsumosdolares', 'Master_delinquency', 'mplazo_fijo_pesos', 'tmobile_app', 'cprestamos_prendarios', 'minversion2', 'mcheques_depositados_rechazados', 'cprestamos_hipotecarios', 'mcuenta_corriente_adicional', 'ctarjeta_master_descuentos', 'cforex_sell', 'ccaja_seguridad', 'ccheques_emitidos', 'mforex_sell', 'ccajas_depositos', 'mprestamos_hipotecarios', 'cseguro_auto', 'Master_mpagosdolares', 'Master_msaldodolares', 'Master_Finiciomora', 'mpagodeservicios', 'ccheques_depositados', 'mcheques_emitidos', 'ccheques_depositados_rechazados', 'mtarjeta_visa_descuentos', 'cpagodeservicios', 'ccajeros_propios_descuentos', 'mtarjeta_master_descuentos', 'mpayroll2', 'cforex', 'mcheques_depositados', 'ctarjeta_visa_descuentos', 'mprestamos_prendarios', 'cpayroll2_trx', 'Visa_madelantopesos', 'Visa_cadelantosefectivo', 'Visa_madelantodolares', 'Master_cadelantosefectivo', 'mcheques_emitidos_rechazados', 'Master_madelantodolares', 'Master_madelantopesos', 'mcajeros_propios_descuentos', 'mforex_buy', 'cforex_buy', 'ccheques_emitidos_rechazados', 'minversion1_dolares', 'ccuenta_corriente', 'cliente_vip', 'foto_mes']\n"
     ]
    }
   ],
   "source": [
    "print(important_features_by_cluster[0])"
   ]
  },
  {
   "cell_type": "markdown",
   "metadata": {
    "id": "GApcw8q4u9FK"
   },
   "source": [
    "Y luego miramos los estadísticos"
   ]
  },
  {
   "cell_type": "code",
   "execution_count": 25,
   "metadata": {
    "colab": {
     "base_uri": "https://localhost:8080/",
     "height": 363
    },
    "executionInfo": {
     "elapsed": 37,
     "status": "ok",
     "timestamp": 1756861697808,
     "user": {
      "displayName": "Alejandro Bolaños",
      "userId": "15513030842131101305"
     },
     "user_tz": 180
    },
    "id": "3bFNVTOkvBLq",
    "outputId": "ddefad09-f601-44b7-d798-8225c5a74582"
   },
   "outputs": [
    {
     "data": {
      "application/vnd.microsoft.datawrangler.viewer.v0+json": {
       "columns": [
        {
         "name": "index",
         "rawType": "object",
         "type": "string"
        },
        {
         "name": "Cluster 1",
         "rawType": "float64",
         "type": "float"
        },
        {
         "name": "Rest of Clusters",
         "rawType": "float64",
         "type": "float"
        }
       ],
       "ref": "7dc03174-a339-44f3-aa5e-f43c185ba7e3",
       "rows": [
        [
         "count",
         "196.0",
         "3889.0"
        ],
        [
         "mean",
         "1083.0300510204083",
         "1002.8364489586011"
        ],
        [
         "std",
         "2317.8637358865485",
         "4688.964582369321"
        ],
        [
         "min",
         "-2278.04",
         "-25859.24"
        ],
        [
         "25%",
         "196.5975",
         "19.46"
        ],
        [
         "50%",
         "450.095",
         "207.66"
        ],
        [
         "75%",
         "1252.0925",
         "829.87"
        ],
        [
         "max",
         "24151.24",
         "160796.0"
        ],
        [
         "unique",
         "196.0",
         "3437.0"
        ],
        [
         "missing",
         "0.0",
         "0.0"
        ]
       ],
       "shape": {
        "columns": 2,
        "rows": 10
       }
      },
      "text/html": [
       "<div>\n",
       "<style scoped>\n",
       "    .dataframe tbody tr th:only-of-type {\n",
       "        vertical-align: middle;\n",
       "    }\n",
       "\n",
       "    .dataframe tbody tr th {\n",
       "        vertical-align: top;\n",
       "    }\n",
       "\n",
       "    .dataframe thead th {\n",
       "        text-align: right;\n",
       "    }\n",
       "</style>\n",
       "<table border=\"1\" class=\"dataframe\">\n",
       "  <thead>\n",
       "    <tr style=\"text-align: right;\">\n",
       "      <th></th>\n",
       "      <th>Cluster 1</th>\n",
       "      <th>Rest of Clusters</th>\n",
       "    </tr>\n",
       "  </thead>\n",
       "  <tbody>\n",
       "    <tr>\n",
       "      <th>count</th>\n",
       "      <td>196.000000</td>\n",
       "      <td>3889.000000</td>\n",
       "    </tr>\n",
       "    <tr>\n",
       "      <th>mean</th>\n",
       "      <td>1083.030051</td>\n",
       "      <td>1002.836449</td>\n",
       "    </tr>\n",
       "    <tr>\n",
       "      <th>std</th>\n",
       "      <td>2317.863736</td>\n",
       "      <td>4688.964582</td>\n",
       "    </tr>\n",
       "    <tr>\n",
       "      <th>min</th>\n",
       "      <td>-2278.040000</td>\n",
       "      <td>-25859.240000</td>\n",
       "    </tr>\n",
       "    <tr>\n",
       "      <th>25%</th>\n",
       "      <td>196.597500</td>\n",
       "      <td>19.460000</td>\n",
       "    </tr>\n",
       "    <tr>\n",
       "      <th>50%</th>\n",
       "      <td>450.095000</td>\n",
       "      <td>207.660000</td>\n",
       "    </tr>\n",
       "    <tr>\n",
       "      <th>75%</th>\n",
       "      <td>1252.092500</td>\n",
       "      <td>829.870000</td>\n",
       "    </tr>\n",
       "    <tr>\n",
       "      <th>max</th>\n",
       "      <td>24151.240000</td>\n",
       "      <td>160796.000000</td>\n",
       "    </tr>\n",
       "    <tr>\n",
       "      <th>unique</th>\n",
       "      <td>196.000000</td>\n",
       "      <td>3437.000000</td>\n",
       "    </tr>\n",
       "    <tr>\n",
       "      <th>missing</th>\n",
       "      <td>0.000000</td>\n",
       "      <td>0.000000</td>\n",
       "    </tr>\n",
       "  </tbody>\n",
       "</table>\n",
       "</div>"
      ],
      "text/plain": [
       "            Cluster 1  Rest of Clusters\n",
       "count      196.000000       3889.000000\n",
       "mean      1083.030051       1002.836449\n",
       "std       2317.863736       4688.964582\n",
       "min      -2278.040000     -25859.240000\n",
       "25%        196.597500         19.460000\n",
       "50%        450.095000        207.660000\n",
       "75%       1252.092500        829.870000\n",
       "max      24151.240000     160796.000000\n",
       "unique     196.000000       3437.000000\n",
       "missing      0.000000          0.000000"
      ]
     },
     "execution_count": 25,
     "metadata": {},
     "output_type": "execute_result"
    }
   ],
   "source": [
    "compare_cluster_stats(Xtrain_rf, clusters, 'mpasivos_margen', 1)"
   ]
  },
  {
   "cell_type": "markdown",
   "metadata": {
    "id": "boaeupnAvETq"
   },
   "source": [
    "Es perfecto? **NO** pero es orientativo"
   ]
  },
  {
   "cell_type": "markdown",
   "metadata": {
    "id": "h5WHCJDw53Pa"
   },
   "source": [
    "Luego resta, analizar los estadísticos de los datos de cada cluster para las variables importantes, comparar sus distribuciones con histogramas, boxplots, pivot tables, etc.\n"
   ]
  },
  {
   "cell_type": "markdown",
   "metadata": {
    "id": "Th9-1pcqMZeG"
   },
   "source": [
    "Junto con el diccionaro de datos, de sentido a lo que ve a través del análisis multivariado de datos.\n",
    "\n",
    "Obviamente, esto es apenas mas que una semilla. Agregue las variables históricas, juegue con los **rf** y genere una segmentación pro, que encante a Miranda\n"
   ]
  },
  {
   "cell_type": "code",
   "execution_count": 26,
   "metadata": {},
   "outputs": [
    {
     "data": {
      "image/png": "[encoded data removed]",
      "text/plain": [
       "<Figure size 640x480 with 1 Axes>"
      ]
     },
     "metadata": {},
     "output_type": "display_data"
    }
   ],
   "source": [
    "import seaborn as sns\n",
    "import matplotlib.pyplot as plt\n",
    "\n",
    "# Ejemplo: cluster 0 vs resto para 'mpasivos_margen'\n",
    "cluster_id = 0\n",
    "var = 'mpasivos_margen'\n",
    "\n",
    "data_plot = Xtrain_rf.copy()\n",
    "data_plot['cluster'] = cluster_series_aligned\n",
    "data_plot['in_cluster'] = (data_plot['cluster'] == cluster_id).astype(str)\n",
    "\n",
    "sns.boxplot(data=data_plot, x='in_cluster', y=var)\n",
    "plt.title(f\"{var} - Cluster {cluster_id} vs. Resto\")\n",
    "plt.show()"
   ]
  },
  {
   "cell_type": "code",
   "execution_count": 27,
   "metadata": {},
   "outputs": [
    {
     "data": {
      "image/png": "[encoded data removed]",
      "text/plain": [
       "<Figure size 640x480 with 1 Axes>"
      ]
     },
     "metadata": {},
     "output_type": "display_data"
    }
   ],
   "source": [
    "import matplotlib.pyplot as plt\n",
    "\n",
    "cluster_id = 0\n",
    "var = 'mpasivos_margen'\n",
    "\n",
    "in_cluster = Xtrain_rf.loc[cluster_series_aligned == cluster_id, var]\n",
    "out_cluster = Xtrain_rf.loc[cluster_series_aligned != cluster_id, var]\n",
    "\n",
    "plt.hist(in_cluster.dropna(), bins=50, alpha=0.5, label=f'Cluster {cluster_id}')\n",
    "plt.hist(out_cluster.dropna(), bins=50, alpha=0.5, label='Resto')\n",
    "plt.legend()\n",
    "plt.title(f'Distribución de {var} - Cluster {cluster_id} vs Resto')\n",
    "plt.show()"
   ]
  },
  {
   "cell_type": "code",
   "execution_count": 30,
   "metadata": {},
   "outputs": [
    {
     "data": {
      "image/png": "[encoded data removed]",
      "text/plain": [
       "<Figure size 640x480 with 1 Axes>"
      ]
     },
     "metadata": {},
     "output_type": "display_data"
    }
   ],
   "source": [
    "var = 'cliente_vip'\n",
    "sns.countplot(data=data_plot, x=var, hue='in_cluster')\n",
    "plt.title(f'{var} - Distribución por cluster')\n",
    "plt.show()"
   ]
  }
 ],
 "metadata": {
  "colab": {
   "authorship_tag": "ABX9TyOdDpVsewlavVF3ocYSlANq",
   "mount_file_id": "1vLX5GJBVvYumKwJY4yjLt2eststrUBy6",
   "provenance": []
  },
  "kernelspec": {
   "display_name": "segmentacion",
   "language": "python",
   "name": "python3"
  },
  "language_info": {
   "codemirror_mode": {
    "name": "ipython",
    "version": 3
   },
   "file_extension": ".py",
   "mimetype": "text/x-python",
   "name": "python",
   "nbconvert_exporter": "python",
   "pygments_lexer": "ipython3",
   "version": "3.11.13"
  }
 },
 "nbformat": 4,
 "nbformat_minor": 0
}
