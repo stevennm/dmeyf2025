{
 "cells": [
  {
   "cell_type": "markdown",
   "metadata": {
    "id": "FX-Vq4mgJS_t"
   },
   "source": [
    "# Segmentando clientes\n",
    "\n",
    "En esta notebook se verá una forma sobre como segmentar a los clientes, cuando cuenta con una gran cantidad de estos sobre una base de datos de una gran (?) cantidad de dimensiones.\n",
    "\n",
    "Empezaremos cargando el entorno e instalando los requerimentos necesarios."
   ]
  },
  {
   "cell_type": "code",
   "execution_count": null,
   "metadata": {
    "executionInfo": {
     "elapsed": 13,
     "status": "ok",
     "timestamp": 1756861630860,
     "user": {
      "displayName": "Alejandro Bolaños",
      "userId": "15513030842131101305"
     },
     "user_tz": 180
    },
    "id": "T8x1jAl_kqFt"
   },
   "outputs": [],
   "source": [
    "import pandas as pd\n",
    "import numpy as np\n",
    "import seaborn as sns\n",
    "import optuna\n",
    "from optuna.visualization import plot_optimization_history, plot_param_importances, plot_slice, plot_contour\n",
    "import pickle\n",
    "\n",
    "from umap import UMAP\n",
    "import matplotlib.pyplot as plt\n",
    "from sklearn.cluster import DBSCAN\n",
    "from sklearn.ensemble import  RandomForestClassifier\n",
    "from sklearn.impute import SimpleImputer"
   ]
  },
  {
   "cell_type": "code",
   "execution_count": null,
   "metadata": {
    "executionInfo": {
     "elapsed": 11,
     "status": "ok",
     "timestamp": 1756861630870,
     "user": {
      "displayName": "Alejandro Bolaños",
      "userId": "15513030842131101305"
     },
     "user_tz": 180
    },
    "id": "R58qDmLYtVXk"
   },
   "outputs": [],
   "source": [
    "base_path = 'D:/Steven/Facultad/MAESTRIA/DMEyF/segmentacion/'\n",
    "dataset_path = base_path + 'datos/'\n",
    "modelos_path = base_path + 'modelos/'\n",
    "db_path = base_path + 'db/'\n",
    "dataset_file = 'competencia_01_clase_ternaria.csv'\n",
    "\n",
    "ganancia_acierto = 780000\n",
    "costo_estimulo = 20000"
   ]
  },
  {
   "cell_type": "code",
   "execution_count": 3,
   "metadata": {
    "executionInfo": {
     "elapsed": 24457,
     "status": "ok",
     "timestamp": 1756861655328,
     "user": {
      "displayName": "Alejandro Bolaños",
      "userId": "15513030842131101305"
     },
     "user_tz": 180
    },
    "id": "bpzFTT_HkzLx"
   },
   "outputs": [],
   "source": [
    "df_train = pd.read_csv(dataset_path + dataset_file)"
   ]
  },
  {
   "cell_type": "markdown",
   "metadata": {
    "id": "AEDRaksFthSF"
   },
   "source": [
    "Solo segmentaremos a los clientes de abril, dado que necesitaremos variables en algún momento agregar variables históricas para entender su comportamiento previo a la **baja**"
   ]
  },
  {
   "cell_type": "code",
   "execution_count": 4,
   "metadata": {
    "executionInfo": {
     "elapsed": 411,
     "status": "ok",
     "timestamp": 1756861655755,
     "user": {
      "displayName": "Alejandro Bolaños",
      "userId": "15513030842131101305"
     },
     "user_tz": 180
    },
    "id": "MNZ1Vrg4k9r8"
   },
   "outputs": [],
   "source": [
    "df_train = df_train[df_train['foto_mes']==202103]"
   ]
  },
  {
   "cell_type": "markdown",
   "metadata": {
    "id": "yR9XFSG4t5We"
   },
   "source": [
    "A su vez, nos concentraremos en el fenómeno de la **baja**. No importa si es en un mes o si es en dos."
   ]
  },
  {
   "cell_type": "code",
   "execution_count": 5,
   "metadata": {
    "executionInfo": {
     "elapsed": 167,
     "status": "ok",
     "timestamp": 1756861655925,
     "user": {
      "displayName": "Alejandro Bolaños",
      "userId": "15513030842131101305"
     },
     "user_tz": 180
    },
    "id": "sXUD6rxyk7VJ"
   },
   "outputs": [],
   "source": [
    "Xtrain = df_train\n",
    "ytrain = Xtrain[\"clase_ternaria\"].map(lambda x: 0 if x == \"CONTINUA\" else 1)\n",
    "Xtrain = Xtrain.drop(\"clase_ternaria\", axis=1)\n",
    "\n",
    "del(df_train)"
   ]
  },
  {
   "cell_type": "markdown",
   "metadata": {
    "id": "5FR1cavzuEaB"
   },
   "source": [
    "Lo primero que necesitamos es saber cuando un cliente es parecido a otro. Todos los clientes que son parecidos los juntaremos en un **segmento** y sobre esos segmentos haremos perfilados o profiles para entender que los caracteriza.\n",
    "\n",
    "Saber cuando un cliente es parecido a otro no es algo tan simple en un problema de alta dimensionalidad, lo que se suele llamar **curse of dimensionality**. Las cosas no son lo mismo más allá de nuestras 3 escasas dimensiones. Para muestra, un botón: https://www.youtube.com/watch?v=mceaM2_zQd8\n",
    "\n",
    "Por esto, es conveniente usar herramientas que nos ayuden a no tener que hacer distancias euclídeas.\n",
    "\n",
    "Empecemos con una ayuda con nos dan nuestros amigos, los **rf** con una original matriz de distancias (https://en.wikipedia.org/wiki/Distance_matrix)"
   ]
  },
  {
   "cell_type": "markdown",
   "metadata": {
    "id": "r3_HXJFymRN3"
   },
   "source": [
    "La **Random Forest Distance** es una matriz derivada del algoritmo Random Forest,\n",
    "\n",
    "+ Se utiliza para medir la similitud entre pares de puntos de datos. Esta métrica se basa en la idea de cuántas veces dos puntos de datos terminan en la misma hoja de un árbol en un **rf**, entre los múltiples árboles que se generan.\n",
    "\n",
    "+ Cómo se Calcula?\n",
    "\n",
    " 1. Se entrena un **rf**.\n",
    " 2. Para cada par de clientes $c_i$ y $c_j$, se observa cuántas veces caen en la misma hoja a través de todos los árboles del bosque. Luego se agrega en la posición $i$, $j$ de una matriz el número de veces que coincidieron esos dos clientes en un nodo terminal.\n",
    " 3. Se calcula la matriz de distancia como **1 - proporción de veces que caen en la misma hoja**. Ejemplo: Si caen en la misma hoja el 90% de las veces, su distancia será 0.1. Si nunca caen en la misma hoja, la distancia es 1.\n",
    "\n",
    "Veamoslo aplicado en nuestro caso"
   ]
  },
  {
   "cell_type": "markdown",
   "metadata": {
    "id": "G9omJU4KnsVE"
   },
   "source": [
    "Para trabajar con este algoritmo no vamos a trabajar con todos los datos. Usted decida con cuantos trabajar. En este caso, tomaremos todos los **baja** y unos 2000 **continua**, ya que queremos como interactuan los segmentos de clientes que se van con los que se quedan.\n"
   ]
  },
  {
   "cell_type": "code",
   "execution_count": 6,
   "metadata": {
    "executionInfo": {
     "elapsed": 56,
     "status": "ok",
     "timestamp": 1756861655984,
     "user": {
      "displayName": "Alejandro Bolaños",
      "userId": "15513030842131101305"
     },
     "user_tz": 180
    },
    "id": "4aqKBvj2nnrM"
   },
   "outputs": [],
   "source": [
    "np.random.seed(17)\n",
    "continua_sample = ytrain[ytrain == 0].sample(2000).index\n",
    "bajas_1_2 = ytrain[ytrain == 1].index\n",
    "rf_index = continua_sample.union(bajas_1_2)\n",
    "\n",
    "Xtrain_rf = Xtrain.loc[rf_index]\n",
    "ytrain_rf = ytrain.loc[rf_index]"
   ]
  },
  {
   "cell_type": "markdown",
   "metadata": {
    "id": "CFTvRro4yv2C"
   },
   "source": [
    "Entrenamos un simple **rf**, despliegue sus herramientas aprendidas para contar con un buen modelo\n"
   ]
  },
  {
   "cell_type": "code",
   "execution_count": 7,
   "metadata": {},
   "outputs": [],
   "source": [
    "imp_mean = SimpleImputer(missing_values=np.nan, strategy='median')\n",
    "Xtrain_rf_imp = imp_mean.fit_transform(Xtrain_rf)"
   ]
  },
  {
   "cell_type": "code",
   "execution_count": 8,
   "metadata": {
    "colab": {
     "base_uri": "https://localhost:8080/",
     "height": 80
    },
    "executionInfo": {
     "elapsed": 840,
     "status": "ok",
     "timestamp": 1756861656823,
     "user": {
      "displayName": "Alejandro Bolaños",
      "userId": "15513030842131101305"
     },
     "user_tz": 180
    },
    "id": "FQ1pNFwmzOc5",
    "outputId": "6b417200-b6a6-4f77-8f76-ae973b13fea6"
   },
   "outputs": [
    {
     "data": {
      "text/html": [
       "<style>#sk-container-id-1 {\n",
       "  /* Definition of color scheme common for light and dark mode */\n",
       "  --sklearn-color-text: #000;\n",
       "  --sklearn-color-text-muted: #666;\n",
       "  --sklearn-color-line: gray;\n",
       "  /* Definition of color scheme for unfitted estimators */\n",
       "  --sklearn-color-unfitted-level-0: #fff5e6;\n",
       "  --sklearn-color-unfitted-level-1: #f6e4d2;\n",
       "  --sklearn-color-unfitted-level-2: #ffe0b3;\n",
       "  --sklearn-color-unfitted-level-3: chocolate;\n",
       "  /* Definition of color scheme for fitted estimators */\n",
       "  --sklearn-color-fitted-level-0: #f0f8ff;\n",
       "  --sklearn-color-fitted-level-1: #d4ebff;\n",
       "  --sklearn-color-fitted-level-2: #b3dbfd;\n",
       "  --sklearn-color-fitted-level-3: cornflowerblue;\n",
       "\n",
       "  /* Specific color for light theme */\n",
       "  --sklearn-color-text-on-default-background: var(--sg-text-color, var(--theme-code-foreground, var(--jp-content-font-color1, black)));\n",
       "  --sklearn-color-background: var(--sg-background-color, var(--theme-background, var(--jp-layout-color0, white)));\n",
       "  --sklearn-color-border-box: var(--sg-text-color, var(--theme-code-foreground, var(--jp-content-font-color1, black)));\n",
       "  --sklearn-color-icon: #696969;\n",
       "\n",
       "  @media (prefers-color-scheme: dark) {\n",
       "    /* Redefinition of color scheme for dark theme */\n",
       "    --sklearn-color-text-on-default-background: var(--sg-text-color, var(--theme-code-foreground, var(--jp-content-font-color1, white)));\n",
       "    --sklearn-color-background: var(--sg-background-color, var(--theme-background, var(--jp-layout-color0, #111)));\n",
       "    --sklearn-color-border-box: var(--sg-text-color, var(--theme-code-foreground, var(--jp-content-font-color1, white)));\n",
       "    --sklearn-color-icon: #878787;\n",
       "  }\n",
       "}\n",
       "\n",
       "#sk-container-id-1 {\n",
       "  color: var(--sklearn-color-text);\n",
       "}\n",
       "\n",
       "#sk-container-id-1 pre {\n",
       "  padding: 0;\n",
       "}\n",
       "\n",
       "#sk-container-id-1 input.sk-hidden--visually {\n",
       "  border: 0;\n",
       "  clip: rect(1px 1px 1px 1px);\n",
       "  clip: rect(1px, 1px, 1px, 1px);\n",
       "  height: 1px;\n",
       "  margin: -1px;\n",
       "  overflow: hidden;\n",
       "  padding: 0;\n",
       "  position: absolute;\n",
       "  width: 1px;\n",
       "}\n",
       "\n",
       "#sk-container-id-1 div.sk-dashed-wrapped {\n",
       "  border: 1px dashed var(--sklearn-color-line);\n",
       "  margin: 0 0.4em 0.5em 0.4em;\n",
       "  box-sizing: border-box;\n",
       "  padding-bottom: 0.4em;\n",
       "  background-color: var(--sklearn-color-background);\n",
       "}\n",
       "\n",
       "#sk-container-id-1 div.sk-container {\n",
       "  /* jupyter's `normalize.less` sets `[hidden] { display: none; }`\n",
       "     but bootstrap.min.css set `[hidden] { display: none !important; }`\n",
       "     so we also need the `!important` here to be able to override the\n",
       "     default hidden behavior on the sphinx rendered scikit-learn.org.\n",
       "     See: https://github.com/scikit-learn/scikit-learn/issues/21755 */\n",
       "  display: inline-block !important;\n",
       "  position: relative;\n",
       "}\n",
       "\n",
       "#sk-container-id-1 div.sk-text-repr-fallback {\n",
       "  display: none;\n",
       "}\n",
       "\n",
       "div.sk-parallel-item,\n",
       "div.sk-serial,\n",
       "div.sk-item {\n",
       "  /* draw centered vertical line to link estimators */\n",
       "  background-image: linear-gradient(var(--sklearn-color-text-on-default-background), var(--sklearn-color-text-on-default-background));\n",
       "  background-size: 2px 100%;\n",
       "  background-repeat: no-repeat;\n",
       "  background-position: center center;\n",
       "}\n",
       "\n",
       "/* Parallel-specific style estimator block */\n",
       "\n",
       "#sk-container-id-1 div.sk-parallel-item::after {\n",
       "  content: \"\";\n",
       "  width: 100%;\n",
       "  border-bottom: 2px solid var(--sklearn-color-text-on-default-background);\n",
       "  flex-grow: 1;\n",
       "}\n",
       "\n",
       "#sk-container-id-1 div.sk-parallel {\n",
       "  display: flex;\n",
       "  align-items: stretch;\n",
       "  justify-content: center;\n",
       "  background-color: var(--sklearn-color-background);\n",
       "  position: relative;\n",
       "}\n",
       "\n",
       "#sk-container-id-1 div.sk-parallel-item {\n",
       "  display: flex;\n",
       "  flex-direction: column;\n",
       "}\n",
       "\n",
       "#sk-container-id-1 div.sk-parallel-item:first-child::after {\n",
       "  align-self: flex-end;\n",
       "  width: 50%;\n",
       "}\n",
       "\n",
       "#sk-container-id-1 div.sk-parallel-item:last-child::after {\n",
       "  align-self: flex-start;\n",
       "  width: 50%;\n",
       "}\n",
       "\n",
       "#sk-container-id-1 div.sk-parallel-item:only-child::after {\n",
       "  width: 0;\n",
       "}\n",
       "\n",
       "/* Serial-specific style estimator block */\n",
       "\n",
       "#sk-container-id-1 div.sk-serial {\n",
       "  display: flex;\n",
       "  flex-direction: column;\n",
       "  align-items: center;\n",
       "  background-color: var(--sklearn-color-background);\n",
       "  padding-right: 1em;\n",
       "  padding-left: 1em;\n",
       "}\n",
       "\n",
       "\n",
       "/* Toggleable style: style used for estimator/Pipeline/ColumnTransformer box that is\n",
       "clickable and can be expanded/collapsed.\n",
       "- Pipeline and ColumnTransformer use this feature and define the default style\n",
       "- Estimators will overwrite some part of the style using the `sk-estimator` class\n",
       "*/\n",
       "\n",
       "/* Pipeline and ColumnTransformer style (default) */\n",
       "\n",
       "#sk-container-id-1 div.sk-toggleable {\n",
       "  /* Default theme specific background. It is overwritten whether we have a\n",
       "  specific estimator or a Pipeline/ColumnTransformer */\n",
       "  background-color: var(--sklearn-color-background);\n",
       "}\n",
       "\n",
       "/* Toggleable label */\n",
       "#sk-container-id-1 label.sk-toggleable__label {\n",
       "  cursor: pointer;\n",
       "  display: flex;\n",
       "  width: 100%;\n",
       "  margin-bottom: 0;\n",
       "  padding: 0.5em;\n",
       "  box-sizing: border-box;\n",
       "  text-align: center;\n",
       "  align-items: start;\n",
       "  justify-content: space-between;\n",
       "  gap: 0.5em;\n",
       "}\n",
       "\n",
       "#sk-container-id-1 label.sk-toggleable__label .caption {\n",
       "  font-size: 0.6rem;\n",
       "  font-weight: lighter;\n",
       "  color: var(--sklearn-color-text-muted);\n",
       "}\n",
       "\n",
       "#sk-container-id-1 label.sk-toggleable__label-arrow:before {\n",
       "  /* Arrow on the left of the label */\n",
       "  content: \"▸\";\n",
       "  float: left;\n",
       "  margin-right: 0.25em;\n",
       "  color: var(--sklearn-color-icon);\n",
       "}\n",
       "\n",
       "#sk-container-id-1 label.sk-toggleable__label-arrow:hover:before {\n",
       "  color: var(--sklearn-color-text);\n",
       "}\n",
       "\n",
       "/* Toggleable content - dropdown */\n",
       "\n",
       "#sk-container-id-1 div.sk-toggleable__content {\n",
       "  display: none;\n",
       "  text-align: left;\n",
       "  /* unfitted */\n",
       "  background-color: var(--sklearn-color-unfitted-level-0);\n",
       "}\n",
       "\n",
       "#sk-container-id-1 div.sk-toggleable__content.fitted {\n",
       "  /* fitted */\n",
       "  background-color: var(--sklearn-color-fitted-level-0);\n",
       "}\n",
       "\n",
       "#sk-container-id-1 div.sk-toggleable__content pre {\n",
       "  margin: 0.2em;\n",
       "  border-radius: 0.25em;\n",
       "  color: var(--sklearn-color-text);\n",
       "  /* unfitted */\n",
       "  background-color: var(--sklearn-color-unfitted-level-0);\n",
       "}\n",
       "\n",
       "#sk-container-id-1 div.sk-toggleable__content.fitted pre {\n",
       "  /* unfitted */\n",
       "  background-color: var(--sklearn-color-fitted-level-0);\n",
       "}\n",
       "\n",
       "#sk-container-id-1 input.sk-toggleable__control:checked~div.sk-toggleable__content {\n",
       "  /* Expand drop-down */\n",
       "  display: block;\n",
       "  width: 100%;\n",
       "  overflow: visible;\n",
       "}\n",
       "\n",
       "#sk-container-id-1 input.sk-toggleable__control:checked~label.sk-toggleable__label-arrow:before {\n",
       "  content: \"▾\";\n",
       "}\n",
       "\n",
       "/* Pipeline/ColumnTransformer-specific style */\n",
       "\n",
       "#sk-container-id-1 div.sk-label input.sk-toggleable__control:checked~label.sk-toggleable__label {\n",
       "  color: var(--sklearn-color-text);\n",
       "  background-color: var(--sklearn-color-unfitted-level-2);\n",
       "}\n",
       "\n",
       "#sk-container-id-1 div.sk-label.fitted input.sk-toggleable__control:checked~label.sk-toggleable__label {\n",
       "  background-color: var(--sklearn-color-fitted-level-2);\n",
       "}\n",
       "\n",
       "/* Estimator-specific style */\n",
       "\n",
       "/* Colorize estimator box */\n",
       "#sk-container-id-1 div.sk-estimator input.sk-toggleable__control:checked~label.sk-toggleable__label {\n",
       "  /* unfitted */\n",
       "  background-color: var(--sklearn-color-unfitted-level-2);\n",
       "}\n",
       "\n",
       "#sk-container-id-1 div.sk-estimator.fitted input.sk-toggleable__control:checked~label.sk-toggleable__label {\n",
       "  /* fitted */\n",
       "  background-color: var(--sklearn-color-fitted-level-2);\n",
       "}\n",
       "\n",
       "#sk-container-id-1 div.sk-label label.sk-toggleable__label,\n",
       "#sk-container-id-1 div.sk-label label {\n",
       "  /* The background is the default theme color */\n",
       "  color: var(--sklearn-color-text-on-default-background);\n",
       "}\n",
       "\n",
       "/* On hover, darken the color of the background */\n",
       "#sk-container-id-1 div.sk-label:hover label.sk-toggleable__label {\n",
       "  color: var(--sklearn-color-text);\n",
       "  background-color: var(--sklearn-color-unfitted-level-2);\n",
       "}\n",
       "\n",
       "/* Label box, darken color on hover, fitted */\n",
       "#sk-container-id-1 div.sk-label.fitted:hover label.sk-toggleable__label.fitted {\n",
       "  color: var(--sklearn-color-text);\n",
       "  background-color: var(--sklearn-color-fitted-level-2);\n",
       "}\n",
       "\n",
       "/* Estimator label */\n",
       "\n",
       "#sk-container-id-1 div.sk-label label {\n",
       "  font-family: monospace;\n",
       "  font-weight: bold;\n",
       "  display: inline-block;\n",
       "  line-height: 1.2em;\n",
       "}\n",
       "\n",
       "#sk-container-id-1 div.sk-label-container {\n",
       "  text-align: center;\n",
       "}\n",
       "\n",
       "/* Estimator-specific */\n",
       "#sk-container-id-1 div.sk-estimator {\n",
       "  font-family: monospace;\n",
       "  border: 1px dotted var(--sklearn-color-border-box);\n",
       "  border-radius: 0.25em;\n",
       "  box-sizing: border-box;\n",
       "  margin-bottom: 0.5em;\n",
       "  /* unfitted */\n",
       "  background-color: var(--sklearn-color-unfitted-level-0);\n",
       "}\n",
       "\n",
       "#sk-container-id-1 div.sk-estimator.fitted {\n",
       "  /* fitted */\n",
       "  background-color: var(--sklearn-color-fitted-level-0);\n",
       "}\n",
       "\n",
       "/* on hover */\n",
       "#sk-container-id-1 div.sk-estimator:hover {\n",
       "  /* unfitted */\n",
       "  background-color: var(--sklearn-color-unfitted-level-2);\n",
       "}\n",
       "\n",
       "#sk-container-id-1 div.sk-estimator.fitted:hover {\n",
       "  /* fitted */\n",
       "  background-color: var(--sklearn-color-fitted-level-2);\n",
       "}\n",
       "\n",
       "/* Specification for estimator info (e.g. \"i\" and \"?\") */\n",
       "\n",
       "/* Common style for \"i\" and \"?\" */\n",
       "\n",
       ".sk-estimator-doc-link,\n",
       "a:link.sk-estimator-doc-link,\n",
       "a:visited.sk-estimator-doc-link {\n",
       "  float: right;\n",
       "  font-size: smaller;\n",
       "  line-height: 1em;\n",
       "  font-family: monospace;\n",
       "  background-color: var(--sklearn-color-background);\n",
       "  border-radius: 1em;\n",
       "  height: 1em;\n",
       "  width: 1em;\n",
       "  text-decoration: none !important;\n",
       "  margin-left: 0.5em;\n",
       "  text-align: center;\n",
       "  /* unfitted */\n",
       "  border: var(--sklearn-color-unfitted-level-1) 1pt solid;\n",
       "  color: var(--sklearn-color-unfitted-level-1);\n",
       "}\n",
       "\n",
       ".sk-estimator-doc-link.fitted,\n",
       "a:link.sk-estimator-doc-link.fitted,\n",
       "a:visited.sk-estimator-doc-link.fitted {\n",
       "  /* fitted */\n",
       "  border: var(--sklearn-color-fitted-level-1) 1pt solid;\n",
       "  color: var(--sklearn-color-fitted-level-1);\n",
       "}\n",
       "\n",
       "/* On hover */\n",
       "div.sk-estimator:hover .sk-estimator-doc-link:hover,\n",
       ".sk-estimator-doc-link:hover,\n",
       "div.sk-label-container:hover .sk-estimator-doc-link:hover,\n",
       ".sk-estimator-doc-link:hover {\n",
       "  /* unfitted */\n",
       "  background-color: var(--sklearn-color-unfitted-level-3);\n",
       "  color: var(--sklearn-color-background);\n",
       "  text-decoration: none;\n",
       "}\n",
       "\n",
       "div.sk-estimator.fitted:hover .sk-estimator-doc-link.fitted:hover,\n",
       ".sk-estimator-doc-link.fitted:hover,\n",
       "div.sk-label-container:hover .sk-estimator-doc-link.fitted:hover,\n",
       ".sk-estimator-doc-link.fitted:hover {\n",
       "  /* fitted */\n",
       "  background-color: var(--sklearn-color-fitted-level-3);\n",
       "  color: var(--sklearn-color-background);\n",
       "  text-decoration: none;\n",
       "}\n",
       "\n",
       "/* Span, style for the box shown on hovering the info icon */\n",
       ".sk-estimator-doc-link span {\n",
       "  display: none;\n",
       "  z-index: 9999;\n",
       "  position: relative;\n",
       "  font-weight: normal;\n",
       "  right: .2ex;\n",
       "  padding: .5ex;\n",
       "  margin: .5ex;\n",
       "  width: min-content;\n",
       "  min-width: 20ex;\n",
       "  max-width: 50ex;\n",
       "  color: var(--sklearn-color-text);\n",
       "  box-shadow: 2pt 2pt 4pt #999;\n",
       "  /* unfitted */\n",
       "  background: var(--sklearn-color-unfitted-level-0);\n",
       "  border: .5pt solid var(--sklearn-color-unfitted-level-3);\n",
       "}\n",
       "\n",
       ".sk-estimator-doc-link.fitted span {\n",
       "  /* fitted */\n",
       "  background: var(--sklearn-color-fitted-level-0);\n",
       "  border: var(--sklearn-color-fitted-level-3);\n",
       "}\n",
       "\n",
       ".sk-estimator-doc-link:hover span {\n",
       "  display: block;\n",
       "}\n",
       "\n",
       "/* \"?\"-specific style due to the `<a>` HTML tag */\n",
       "\n",
       "#sk-container-id-1 a.estimator_doc_link {\n",
       "  float: right;\n",
       "  font-size: 1rem;\n",
       "  line-height: 1em;\n",
       "  font-family: monospace;\n",
       "  background-color: var(--sklearn-color-background);\n",
       "  border-radius: 1rem;\n",
       "  height: 1rem;\n",
       "  width: 1rem;\n",
       "  text-decoration: none;\n",
       "  /* unfitted */\n",
       "  color: var(--sklearn-color-unfitted-level-1);\n",
       "  border: var(--sklearn-color-unfitted-level-1) 1pt solid;\n",
       "}\n",
       "\n",
       "#sk-container-id-1 a.estimator_doc_link.fitted {\n",
       "  /* fitted */\n",
       "  border: var(--sklearn-color-fitted-level-1) 1pt solid;\n",
       "  color: var(--sklearn-color-fitted-level-1);\n",
       "}\n",
       "\n",
       "/* On hover */\n",
       "#sk-container-id-1 a.estimator_doc_link:hover {\n",
       "  /* unfitted */\n",
       "  background-color: var(--sklearn-color-unfitted-level-3);\n",
       "  color: var(--sklearn-color-background);\n",
       "  text-decoration: none;\n",
       "}\n",
       "\n",
       "#sk-container-id-1 a.estimator_doc_link.fitted:hover {\n",
       "  /* fitted */\n",
       "  background-color: var(--sklearn-color-fitted-level-3);\n",
       "}\n",
       "\n",
       ".estimator-table summary {\n",
       "    padding: .5rem;\n",
       "    font-family: monospace;\n",
       "    cursor: pointer;\n",
       "}\n",
       "\n",
       ".estimator-table details[open] {\n",
       "    padding-left: 0.1rem;\n",
       "    padding-right: 0.1rem;\n",
       "    padding-bottom: 0.3rem;\n",
       "}\n",
       "\n",
       ".estimator-table .parameters-table {\n",
       "    margin-left: auto !important;\n",
       "    margin-right: auto !important;\n",
       "}\n",
       "\n",
       ".estimator-table .parameters-table tr:nth-child(odd) {\n",
       "    background-color: #fff;\n",
       "}\n",
       "\n",
       ".estimator-table .parameters-table tr:nth-child(even) {\n",
       "    background-color: #f6f6f6;\n",
       "}\n",
       "\n",
       ".estimator-table .parameters-table tr:hover {\n",
       "    background-color: #e0e0e0;\n",
       "}\n",
       "\n",
       ".estimator-table table td {\n",
       "    border: 1px solid rgba(106, 105, 104, 0.232);\n",
       "}\n",
       "\n",
       ".user-set td {\n",
       "    color:rgb(255, 94, 0);\n",
       "    text-align: left;\n",
       "}\n",
       "\n",
       ".user-set td.value pre {\n",
       "    color:rgb(255, 94, 0) !important;\n",
       "    background-color: transparent !important;\n",
       "}\n",
       "\n",
       ".default td {\n",
       "    color: black;\n",
       "    text-align: left;\n",
       "}\n",
       "\n",
       ".user-set td i,\n",
       ".default td i {\n",
       "    color: black;\n",
       "}\n",
       "\n",
       ".copy-paste-icon {\n",
       "    background-image: url(data:image/svg+xml;base64,PHN2ZyB4bWxucz0iaHR0cDovL3d3dy53My5vcmcvMjAwMC9zdmciIHZpZXdCb3g9IjAgMCA0NDggNTEyIj48IS0tIUZvbnQgQXdlc29tZSBGcmVlIDYuNy4yIGJ5IEBmb250YXdlc29tZSAtIGh0dHBzOi8vZm9udGF3ZXNvbWUuY29tIExpY2Vuc2UgLSBodHRwczovL2ZvbnRhd2Vzb21lLmNvbS9saWNlbnNlL2ZyZWUgQ29weXJpZ2h0IDIwMjUgRm9udGljb25zLCBJbmMuLS0+PHBhdGggZD0iTTIwOCAwTDMzMi4xIDBjMTIuNyAwIDI0LjkgNS4xIDMzLjkgMTQuMWw2Ny45IDY3LjljOSA5IDE0LjEgMjEuMiAxNC4xIDMzLjlMNDQ4IDMzNmMwIDI2LjUtMjEuNSA0OC00OCA0OGwtMTkyIDBjLTI2LjUgMC00OC0yMS41LTQ4LTQ4bDAtMjg4YzAtMjYuNSAyMS41LTQ4IDQ4LTQ4ek00OCAxMjhsODAgMCAwIDY0LTY0IDAgMCAyNTYgMTkyIDAgMC0zMiA2NCAwIDAgNDhjMCAyNi41LTIxLjUgNDgtNDggNDhMNDggNTEyYy0yNi41IDAtNDgtMjEuNS00OC00OEwwIDE3NmMwLTI2LjUgMjEuNS00OCA0OC00OHoiLz48L3N2Zz4=);\n",
       "    background-repeat: no-repeat;\n",
       "    background-size: 14px 14px;\n",
       "    background-position: 0;\n",
       "    display: inline-block;\n",
       "    width: 14px;\n",
       "    height: 14px;\n",
       "    cursor: pointer;\n",
       "}\n",
       "</style><body><div id=\"sk-container-id-1\" class=\"sk-top-container\"><div class=\"sk-text-repr-fallback\"><pre>RandomForestClassifier(max_features=20, min_samples_leaf=400, random_state=17)</pre><b>In a Jupyter environment, please rerun this cell to show the HTML representation or trust the notebook. <br />On GitHub, the HTML representation is unable to render, please try loading this page with nbviewer.org.</b></div><div class=\"sk-container\" hidden><div class=\"sk-item\"><div class=\"sk-estimator fitted sk-toggleable\"><input class=\"sk-toggleable__control sk-hidden--visually\" id=\"sk-estimator-id-1\" type=\"checkbox\" checked><label for=\"sk-estimator-id-1\" class=\"sk-toggleable__label fitted sk-toggleable__label-arrow\"><div><div>RandomForestClassifier</div></div><div><a class=\"sk-estimator-doc-link fitted\" rel=\"noreferrer\" target=\"_blank\" href=\"https://scikit-learn.org/1.7/modules/generated/sklearn.ensemble.RandomForestClassifier.html\">?<span>Documentation for RandomForestClassifier</span></a><span class=\"sk-estimator-doc-link fitted\">i<span>Fitted</span></span></div></label><div class=\"sk-toggleable__content fitted\" data-param-prefix=\"\">\n",
       "        <div class=\"estimator-table\">\n",
       "            <details>\n",
       "                <summary>Parameters</summary>\n",
       "                <table class=\"parameters-table\">\n",
       "                  <tbody>\n",
       "                    \n",
       "        <tr class=\"default\">\n",
       "            <td><i class=\"copy-paste-icon\"\n",
       "                 onclick=\"copyToClipboard('n_estimators',\n",
       "                          this.parentElement.nextElementSibling)\"\n",
       "            ></i></td>\n",
       "            <td class=\"param\">n_estimators&nbsp;</td>\n",
       "            <td class=\"value\">100</td>\n",
       "        </tr>\n",
       "    \n",
       "\n",
       "        <tr class=\"default\">\n",
       "            <td><i class=\"copy-paste-icon\"\n",
       "                 onclick=\"copyToClipboard('criterion',\n",
       "                          this.parentElement.nextElementSibling)\"\n",
       "            ></i></td>\n",
       "            <td class=\"param\">criterion&nbsp;</td>\n",
       "            <td class=\"value\">&#x27;gini&#x27;</td>\n",
       "        </tr>\n",
       "    \n",
       "\n",
       "        <tr class=\"default\">\n",
       "            <td><i class=\"copy-paste-icon\"\n",
       "                 onclick=\"copyToClipboard('max_depth',\n",
       "                          this.parentElement.nextElementSibling)\"\n",
       "            ></i></td>\n",
       "            <td class=\"param\">max_depth&nbsp;</td>\n",
       "            <td class=\"value\">None</td>\n",
       "        </tr>\n",
       "    \n",
       "\n",
       "        <tr class=\"default\">\n",
       "            <td><i class=\"copy-paste-icon\"\n",
       "                 onclick=\"copyToClipboard('min_samples_split',\n",
       "                          this.parentElement.nextElementSibling)\"\n",
       "            ></i></td>\n",
       "            <td class=\"param\">min_samples_split&nbsp;</td>\n",
       "            <td class=\"value\">2</td>\n",
       "        </tr>\n",
       "    \n",
       "\n",
       "        <tr class=\"user-set\">\n",
       "            <td><i class=\"copy-paste-icon\"\n",
       "                 onclick=\"copyToClipboard('min_samples_leaf',\n",
       "                          this.parentElement.nextElementSibling)\"\n",
       "            ></i></td>\n",
       "            <td class=\"param\">min_samples_leaf&nbsp;</td>\n",
       "            <td class=\"value\">400</td>\n",
       "        </tr>\n",
       "    \n",
       "\n",
       "        <tr class=\"default\">\n",
       "            <td><i class=\"copy-paste-icon\"\n",
       "                 onclick=\"copyToClipboard('min_weight_fraction_leaf',\n",
       "                          this.parentElement.nextElementSibling)\"\n",
       "            ></i></td>\n",
       "            <td class=\"param\">min_weight_fraction_leaf&nbsp;</td>\n",
       "            <td class=\"value\">0.0</td>\n",
       "        </tr>\n",
       "    \n",
       "\n",
       "        <tr class=\"user-set\">\n",
       "            <td><i class=\"copy-paste-icon\"\n",
       "                 onclick=\"copyToClipboard('max_features',\n",
       "                          this.parentElement.nextElementSibling)\"\n",
       "            ></i></td>\n",
       "            <td class=\"param\">max_features&nbsp;</td>\n",
       "            <td class=\"value\">20</td>\n",
       "        </tr>\n",
       "    \n",
       "\n",
       "        <tr class=\"default\">\n",
       "            <td><i class=\"copy-paste-icon\"\n",
       "                 onclick=\"copyToClipboard('max_leaf_nodes',\n",
       "                          this.parentElement.nextElementSibling)\"\n",
       "            ></i></td>\n",
       "            <td class=\"param\">max_leaf_nodes&nbsp;</td>\n",
       "            <td class=\"value\">None</td>\n",
       "        </tr>\n",
       "    \n",
       "\n",
       "        <tr class=\"default\">\n",
       "            <td><i class=\"copy-paste-icon\"\n",
       "                 onclick=\"copyToClipboard('min_impurity_decrease',\n",
       "                          this.parentElement.nextElementSibling)\"\n",
       "            ></i></td>\n",
       "            <td class=\"param\">min_impurity_decrease&nbsp;</td>\n",
       "            <td class=\"value\">0.0</td>\n",
       "        </tr>\n",
       "    \n",
       "\n",
       "        <tr class=\"default\">\n",
       "            <td><i class=\"copy-paste-icon\"\n",
       "                 onclick=\"copyToClipboard('bootstrap',\n",
       "                          this.parentElement.nextElementSibling)\"\n",
       "            ></i></td>\n",
       "            <td class=\"param\">bootstrap&nbsp;</td>\n",
       "            <td class=\"value\">True</td>\n",
       "        </tr>\n",
       "    \n",
       "\n",
       "        <tr class=\"default\">\n",
       "            <td><i class=\"copy-paste-icon\"\n",
       "                 onclick=\"copyToClipboard('oob_score',\n",
       "                          this.parentElement.nextElementSibling)\"\n",
       "            ></i></td>\n",
       "            <td class=\"param\">oob_score&nbsp;</td>\n",
       "            <td class=\"value\">False</td>\n",
       "        </tr>\n",
       "    \n",
       "\n",
       "        <tr class=\"default\">\n",
       "            <td><i class=\"copy-paste-icon\"\n",
       "                 onclick=\"copyToClipboard('n_jobs',\n",
       "                          this.parentElement.nextElementSibling)\"\n",
       "            ></i></td>\n",
       "            <td class=\"param\">n_jobs&nbsp;</td>\n",
       "            <td class=\"value\">None</td>\n",
       "        </tr>\n",
       "    \n",
       "\n",
       "        <tr class=\"user-set\">\n",
       "            <td><i class=\"copy-paste-icon\"\n",
       "                 onclick=\"copyToClipboard('random_state',\n",
       "                          this.parentElement.nextElementSibling)\"\n",
       "            ></i></td>\n",
       "            <td class=\"param\">random_state&nbsp;</td>\n",
       "            <td class=\"value\">17</td>\n",
       "        </tr>\n",
       "    \n",
       "\n",
       "        <tr class=\"default\">\n",
       "            <td><i class=\"copy-paste-icon\"\n",
       "                 onclick=\"copyToClipboard('verbose',\n",
       "                          this.parentElement.nextElementSibling)\"\n",
       "            ></i></td>\n",
       "            <td class=\"param\">verbose&nbsp;</td>\n",
       "            <td class=\"value\">0</td>\n",
       "        </tr>\n",
       "    \n",
       "\n",
       "        <tr class=\"default\">\n",
       "            <td><i class=\"copy-paste-icon\"\n",
       "                 onclick=\"copyToClipboard('warm_start',\n",
       "                          this.parentElement.nextElementSibling)\"\n",
       "            ></i></td>\n",
       "            <td class=\"param\">warm_start&nbsp;</td>\n",
       "            <td class=\"value\">False</td>\n",
       "        </tr>\n",
       "    \n",
       "\n",
       "        <tr class=\"default\">\n",
       "            <td><i class=\"copy-paste-icon\"\n",
       "                 onclick=\"copyToClipboard('class_weight',\n",
       "                          this.parentElement.nextElementSibling)\"\n",
       "            ></i></td>\n",
       "            <td class=\"param\">class_weight&nbsp;</td>\n",
       "            <td class=\"value\">None</td>\n",
       "        </tr>\n",
       "    \n",
       "\n",
       "        <tr class=\"default\">\n",
       "            <td><i class=\"copy-paste-icon\"\n",
       "                 onclick=\"copyToClipboard('ccp_alpha',\n",
       "                          this.parentElement.nextElementSibling)\"\n",
       "            ></i></td>\n",
       "            <td class=\"param\">ccp_alpha&nbsp;</td>\n",
       "            <td class=\"value\">0.0</td>\n",
       "        </tr>\n",
       "    \n",
       "\n",
       "        <tr class=\"default\">\n",
       "            <td><i class=\"copy-paste-icon\"\n",
       "                 onclick=\"copyToClipboard('max_samples',\n",
       "                          this.parentElement.nextElementSibling)\"\n",
       "            ></i></td>\n",
       "            <td class=\"param\">max_samples&nbsp;</td>\n",
       "            <td class=\"value\">None</td>\n",
       "        </tr>\n",
       "    \n",
       "\n",
       "        <tr class=\"default\">\n",
       "            <td><i class=\"copy-paste-icon\"\n",
       "                 onclick=\"copyToClipboard('monotonic_cst',\n",
       "                          this.parentElement.nextElementSibling)\"\n",
       "            ></i></td>\n",
       "            <td class=\"param\">monotonic_cst&nbsp;</td>\n",
       "            <td class=\"value\">None</td>\n",
       "        </tr>\n",
       "    \n",
       "                  </tbody>\n",
       "                </table>\n",
       "            </details>\n",
       "        </div>\n",
       "    </div></div></div></div></div><script>function copyToClipboard(text, element) {\n",
       "    // Get the parameter prefix from the closest toggleable content\n",
       "    const toggleableContent = element.closest('.sk-toggleable__content');\n",
       "    const paramPrefix = toggleableContent ? toggleableContent.dataset.paramPrefix : '';\n",
       "    const fullParamName = paramPrefix ? `${paramPrefix}${text}` : text;\n",
       "\n",
       "    const originalStyle = element.style;\n",
       "    const computedStyle = window.getComputedStyle(element);\n",
       "    const originalWidth = computedStyle.width;\n",
       "    const originalHTML = element.innerHTML.replace('Copied!', '');\n",
       "\n",
       "    navigator.clipboard.writeText(fullParamName)\n",
       "        .then(() => {\n",
       "            element.style.width = originalWidth;\n",
       "            element.style.color = 'green';\n",
       "            element.innerHTML = \"Copied!\";\n",
       "\n",
       "            setTimeout(() => {\n",
       "                element.innerHTML = originalHTML;\n",
       "                element.style = originalStyle;\n",
       "            }, 2000);\n",
       "        })\n",
       "        .catch(err => {\n",
       "            console.error('Failed to copy:', err);\n",
       "            element.style.color = 'red';\n",
       "            element.innerHTML = \"Failed!\";\n",
       "            setTimeout(() => {\n",
       "                element.innerHTML = originalHTML;\n",
       "                element.style = originalStyle;\n",
       "            }, 2000);\n",
       "        });\n",
       "    return false;\n",
       "}\n",
       "\n",
       "document.querySelectorAll('.fa-regular.fa-copy').forEach(function(element) {\n",
       "    const toggleableContent = element.closest('.sk-toggleable__content');\n",
       "    const paramPrefix = toggleableContent ? toggleableContent.dataset.paramPrefix : '';\n",
       "    const paramName = element.parentElement.nextElementSibling.textContent.trim();\n",
       "    const fullParamName = paramPrefix ? `${paramPrefix}${paramName}` : paramName;\n",
       "\n",
       "    element.setAttribute('title', fullParamName);\n",
       "});\n",
       "</script></body>"
      ],
      "text/plain": [
       "RandomForestClassifier(max_features=20, min_samples_leaf=400, random_state=17)"
      ]
     },
     "execution_count": 8,
     "metadata": {},
     "output_type": "execute_result"
    }
   ],
   "source": [
    "model = RandomForestClassifier(n_estimators=100, max_features=20, min_samples_leaf=400, random_state=17 )\n",
    "model.fit(Xtrain_rf_imp, ytrain_rf)"
   ]
  },
  {
   "cell_type": "markdown",
   "metadata": {
    "id": "3WkehiTNzRrL"
   },
   "source": [
    "Armamos (copiamos de internet) una función que nos calcule la matriz de distancias"
   ]
  },
  {
   "cell_type": "code",
   "execution_count": 9,
   "metadata": {
    "executionInfo": {
     "elapsed": 12206,
     "status": "ok",
     "timestamp": 1756861669027,
     "user": {
      "displayName": "Alejandro Bolaños",
      "userId": "15513030842131101305"
     },
     "user_tz": 180
    },
    "id": "Ab0UY9VAo1mj"
   },
   "outputs": [],
   "source": [
    "def distanceMatrix(model, X):\n",
    "\n",
    "    terminals = model.apply(X)\n",
    "    nTrees = terminals.shape[1]\n",
    "\n",
    "    a = terminals[:,0]\n",
    "    proxMat = 1*np.equal.outer(a, a)\n",
    "\n",
    "    for i in range(1, nTrees):\n",
    "        a = terminals[:,i]\n",
    "        proxMat += 1*np.equal.outer(a, a)\n",
    "\n",
    "    proxMat = proxMat / nTrees\n",
    "\n",
    "    return proxMat.max() - proxMat\n",
    "\n",
    "md = distanceMatrix(model, Xtrain_rf_imp)"
   ]
  },
  {
   "cell_type": "markdown",
   "metadata": {
    "id": "uBIZpRv4zfCu"
   },
   "source": [
    "Veamos como se ve. Recuerde que significa que un número esté cerca de 0 o que esté cerca de 1."
   ]
  },
  {
   "cell_type": "code",
   "execution_count": 10,
   "metadata": {
    "colab": {
     "base_uri": "https://localhost:8080/"
    },
    "executionInfo": {
     "elapsed": 22,
     "status": "ok",
     "timestamp": 1756861669046,
     "user": {
      "displayName": "Alejandro Bolaños",
      "userId": "15513030842131101305"
     },
     "user_tz": 180
    },
    "id": "jM0crgSQqC5x",
    "outputId": "14658565-68a1-4832-9502-c48fdbe99383"
   },
   "outputs": [
    {
     "data": {
      "text/plain": [
       "array([[0.  , 0.99, 0.7 , ..., 0.95, 0.97, 0.99],\n",
       "       [0.99, 0.  , 0.79, ..., 0.43, 0.16, 0.28],\n",
       "       [0.7 , 0.79, 0.  , ..., 0.77, 0.84, 0.82],\n",
       "       ...,\n",
       "       [0.95, 0.43, 0.77, ..., 0.  , 0.48, 0.49],\n",
       "       [0.97, 0.16, 0.84, ..., 0.48, 0.  , 0.3 ],\n",
       "       [0.99, 0.28, 0.82, ..., 0.49, 0.3 , 0.  ]], shape=(3987, 3987))"
      ]
     },
     "execution_count": 10,
     "metadata": {},
     "output_type": "execute_result"
    }
   ],
   "source": [
    "md"
   ]
  },
  {
   "cell_type": "markdown",
   "metadata": {
    "id": "xrhE0O2nzodC"
   },
   "source": [
    "Para poder visualizar la matriz, utilizaremos un embedding. Los *embeddings* son representaciones vectoriales de datos en un espacio de menor dimensión\n",
    "\n",
    "Podría utilizar un **PCA** con ese fin, pero en los últimos años hay mejores algoritmos como **t-sne** o **umap**.\n",
    "\n",
    "UMAP (Uniform Manifold Approximation and Projection) es una técnica avanzada para la reducción de dimensionalidad y visualización de datos en espacios de menor dimensión, que busca mantener al máximo la estructura de los datos en alta dimensión.\n",
    "\n",
    "1. **Preservación de la Estructura Global y Local**:\n",
    "   - Intenta preservar tanto la estructura local (relaciones cercanas) como la global (estructura general) de los datos al proyectarlos en un espacio de menor dimensión.\n",
    "\n",
    "2. **Basado en Manifold Learning**:\n",
    "   - UMAP asume que los datos de alta dimensión se encuentran en un espacio de menor dimensión (un \"manifold\") y busca proyectar esos datos de manera que se mantenga esa estructura subyacente.\n",
    "\n",
    "3. **Velocidad y Escalabilidad**:\n",
    "   - UMAP es más rápido y escalable en comparación con técnicas similares como t-SNE, especialmente en conjuntos de datos grandes.\n",
    "\n",
    "4. **Control sobre la Estructura**:\n",
    "   - UMAP permite al usuario ajustar parámetros que controlan la preservación de la estructura local y global, como el número de vecinos cercanos (n_neighbors) y la distancia mínima entre puntos (min_dist).\n",
    "\n",
    "Una característica adicional, es que cuenta con la posibilidad de recibir de entrada una matriz de distancia.\n",
    "\n",
    "Veamos los datos por primera vez:"
   ]
  },
  {
   "cell_type": "code",
   "execution_count": 11,
   "metadata": {
    "colab": {
     "base_uri": "https://localhost:8080/",
     "height": 539
    },
    "executionInfo": {
     "elapsed": 10078,
     "status": "ok",
     "timestamp": 1756861679125,
     "user": {
      "displayName": "Alejandro Bolaños",
      "userId": "15513030842131101305"
     },
     "user_tz": 180
    },
    "id": "5LRYIYv-rBb6",
    "outputId": "e75c6f54-40e0-4169-db53-6d4f0b47f654"
   },
   "outputs": [
    {
     "name": "stderr",
     "output_type": "stream",
     "text": [
      "d:\\Steven\\Facultad\\MAESTRIA\\DMEyF\\segmentacion\\.venv\\Lib\\site-packages\\umap\\umap_.py:1865: UserWarning: using precomputed metric; inverse_transform will be unavailable\n",
      "  warn(\"using precomputed metric; inverse_transform will be unavailable\")\n",
      "d:\\Steven\\Facultad\\MAESTRIA\\DMEyF\\segmentacion\\.venv\\Lib\\site-packages\\umap\\umap_.py:1952: UserWarning: n_jobs value 1 overridden to 1 by setting random_state. Use no seed for parallelism.\n",
      "  warn(\n"
     ]
    },
    {
     "data": {
      "text/plain": [
       "<matplotlib.collections.PathCollection at 0x20b82185690>"
      ]
     },
     "execution_count": 11,
     "metadata": {},
     "output_type": "execute_result"
    },
    {
     "data": {
      "image/png": "[encoded data removed]",
      "text/plain": [
       "<Figure size 640x480 with 1 Axes>"
      ]
     },
     "metadata": {},
     "output_type": "display_data"
    }
   ],
   "source": [
    "embedding_rf = UMAP(\n",
    "  n_components=2,\n",
    "  n_neighbors=20,\n",
    "  min_dist=0.77,\n",
    "  learning_rate=0.05,\n",
    "  metric=\"precomputed\",\n",
    "  random_state=17,\n",
    ").fit_transform(md)\n",
    "\n",
    "plt.scatter(embedding_rf[:,0], embedding_rf[:,1])"
   ]
  },
  {
   "cell_type": "code",
   "execution_count": 12,
   "metadata": {},
   "outputs": [
    {
     "data": {
      "image/png": "[encoded data removed]",
      "text/plain": [
       "<Figure size 640x480 with 2 Axes>"
      ]
     },
     "metadata": {},
     "output_type": "display_data"
    }
   ],
   "source": [
    "plt.scatter(\n",
    "    embedding_rf[:, 0],\n",
    "    embedding_rf[:, 1],\n",
    "    c=ytrain_rf.values,\n",
    "    cmap='viridis',\n",
    "    s=1,\n",
    "    alpha=0.6\n",
    ")\n",
    "plt.colorbar(label='Clase Ternaria')\n",
    "plt.title('UMAP Projection (Colored by Target)')\n",
    "plt.show()"
   ]
  },
  {
   "cell_type": "markdown",
   "metadata": {
    "id": "r2StQEZK3Guh"
   },
   "source": [
    "Agreguemos la dimensión de la probabilidad de salida, para ver donde cree el modelo que se encuentran los **bajas**."
   ]
  },
  {
   "cell_type": "code",
   "execution_count": 13,
   "metadata": {
    "colab": {
     "base_uri": "https://localhost:8080/",
     "height": 430
    },
    "executionInfo": {
     "elapsed": 397,
     "status": "ok",
     "timestamp": 1756861679524,
     "user": {
      "displayName": "Alejandro Bolaños",
      "userId": "15513030842131101305"
     },
     "user_tz": 180
    },
    "id": "A1Rfhj7CTeLt",
    "outputId": "0b54671b-c11e-47e1-d21f-bc87b646b4ee"
   },
   "outputs": [
    {
     "data": {
      "image/png": "[encoded data removed]",
      "text/plain": [
       "<Figure size 640x480 with 2 Axes>"
      ]
     },
     "metadata": {},
     "output_type": "display_data"
    }
   ],
   "source": [
    "class_index = np.where(model.classes_ == 1)[0]\n",
    "prob_baja = model.predict_proba(Xtrain_rf_imp)[:,class_index]\n",
    "\n",
    "plt.scatter(embedding_rf[:,0], embedding_rf[:,1], c=prob_baja)\n",
    "plt.colorbar()\n",
    "plt.show()"
   ]
  },
  {
   "cell_type": "markdown",
   "metadata": {
    "id": "xpthaD3P3d4C"
   },
   "source": [
    "Vamos a partir de este embedding para segmentar a los clientes. Puede utilizar cualquier técnica, los datos ya son simples para cualquier algoritmo. Utilizaremos uno bastante estandar"
   ]
  },
  {
   "cell_type": "code",
   "execution_count": 14,
   "metadata": {
    "colab": {
     "base_uri": "https://localhost:8080/",
     "height": 682
    },
    "executionInfo": {
     "elapsed": 520,
     "status": "ok",
     "timestamp": 1756861680046,
     "user": {
      "displayName": "Alejandro Bolaños",
      "userId": "15513030842131101305"
     },
     "user_tz": 180
    },
    "id": "oEnFch8IenmK",
    "outputId": "6a8c73b8-9b2b-440f-fbe8-d59ccb201004"
   },
   "outputs": [
    {
     "data": {
      "image/png": "[encoded data removed]",
      "text/plain": [
       "<Figure size 1000x800 with 2 Axes>"
      ]
     },
     "metadata": {},
     "output_type": "display_data"
    }
   ],
   "source": [
    "from sklearn.cluster import KMeans\n",
    "\n",
    "kmeans = KMeans(n_clusters=15, random_state=17, n_init=10)\n",
    "clusters = kmeans.fit_predict(embedding_rf)\n",
    "\n",
    "\n",
    "plt.figure(figsize=(10, 8))\n",
    "plt.scatter(embedding_rf[:, 0], embedding_rf[:, 1], c=clusters, cmap='viridis')\n",
    "plt.colorbar(label='Cluster')\n",
    "\n",
    "for cluster_label in sorted(np.unique(clusters)):\n",
    "    cluster_points = embedding_rf[clusters == cluster_label]\n",
    "    centroid = cluster_points.mean(axis=0)\n",
    "    plt.text(centroid[0], centroid[1], str(cluster_label), fontsize=12, ha='center', va='center', color='black',\n",
    "             bbox=dict(boxstyle='round,pad=0.3', fc='white', alpha=0.5))\n",
    "\n",
    "plt.show()"
   ]
  },
  {
   "cell_type": "markdown",
   "metadata": {
    "id": "YbeNi254iwgG"
   },
   "source": [
    "Veamos cuales de los clientes de cada cluster son **bajas** y cuales **continuan** y la proba promedio del cluster"
   ]
  },
  {
   "cell_type": "code",
   "execution_count": 15,
   "metadata": {
    "colab": {
     "base_uri": "https://localhost:8080/"
    },
    "executionInfo": {
     "elapsed": 6,
     "status": "ok",
     "timestamp": 1756861680054,
     "user": {
      "displayName": "Alejandro Bolaños",
      "userId": "15513030842131101305"
     },
     "user_tz": 180
    },
    "id": "_4A1_JyuhlFi",
    "outputId": "fcbff7c7-5c49-45f3-f67f-e22e4c1e125e"
   },
   "outputs": [
    {
     "name": "stdout",
     "output_type": "stream",
     "text": [
      "Number of cases per class and average churn probability per cluster:\n",
      "original_class    0    1  average_prob_baja\n",
      "cluster                                    \n",
      "0               255  104           0.332613\n",
      "1                28  211           0.798933\n",
      "2               223   22           0.218522\n",
      "3                34  255           0.718491\n",
      "4               192   42           0.376630\n",
      "5               174   96           0.422101\n",
      "6                69  191           0.649520\n",
      "7               150  174           0.454290\n",
      "8               226    5           0.149411\n",
      "9                14  188           0.852838\n",
      "10               15  265           0.842139\n",
      "11              100  196           0.595295\n",
      "12               41  217           0.760469\n",
      "13              248    7           0.131659\n",
      "14              231   14           0.214946\n"
     ]
    }
   ],
   "source": [
    "cluster_class_df = pd.DataFrame({'cluster': clusters, 'original_class': ytrain_rf})\n",
    "\n",
    "class_distribution_by_cluster = cluster_class_df.groupby('cluster')['original_class'].value_counts().unstack(fill_value=0)\n",
    "cluster_prob_df = pd.DataFrame({'cluster': clusters, 'prob_baja': prob_baja.flatten()})\n",
    "average_prob_baja_by_cluster = cluster_prob_df.groupby('cluster')['prob_baja'].mean()\n",
    "class_distribution_by_cluster['average_prob_baja'] = average_prob_baja_by_cluster\n",
    "\n",
    "print(\"Number of cases per class and average churn probability per cluster:\")\n",
    "print(class_distribution_by_cluster)"
   ]
  },
  {
   "cell_type": "markdown",
   "metadata": {
    "id": "O4kSLegC4wXT"
   },
   "source": [
    "Por último necesitamos alguna forma de saber que hace a cada cluster distinto del otro. Para esto utilizaremos modelos (**rf**) que buscan separar los cluster uno a uno del resto de los datos.\n",
    "\n",
    "Por cada modelo, miraremos cuales son las variables más importantes que separan los datos para luego caracterizarlos:\n",
    "\n",
    "Manos a la obra:"
   ]
  },
  {
   "cell_type": "markdown",
   "metadata": {
    "id": "y7Mz0fa35llh"
   },
   "source": [
    "Y exploramos las diferencias entre los clusters usando las **n** variables más importantes, usando en este caso la mediana\n"
   ]
  },
  {
   "cell_type": "code",
   "execution_count": 16,
   "metadata": {
    "colab": {
     "base_uri": "https://localhost:8080/",
     "height": 400
    },
    "executionInfo": {
     "elapsed": 1496,
     "status": "ok",
     "timestamp": 1756861681551,
     "user": {
      "displayName": "Alejandro Bolaños",
      "userId": "15513030842131101305"
     },
     "user_tz": 180
    },
    "id": "lFWgNYFzlDog",
    "outputId": "9b17a564-3ee1-4f67-c3aa-354b4c601c43"
   },
   "outputs": [
    {
     "data": {
      "application/vnd.microsoft.datawrangler.viewer.v0+json": {
       "columns": [
        {
         "name": "index",
         "rawType": "object",
         "type": "string"
        },
        {
         "name": "Cluster 0",
         "rawType": "float64",
         "type": "float"
        },
        {
         "name": "Cluster 1",
         "rawType": "float64",
         "type": "float"
        },
        {
         "name": "Cluster 2",
         "rawType": "float64",
         "type": "float"
        },
        {
         "name": "Cluster 3",
         "rawType": "float64",
         "type": "float"
        },
        {
         "name": "Cluster 4",
         "rawType": "float64",
         "type": "float"
        },
        {
         "name": "Cluster 5",
         "rawType": "float64",
         "type": "float"
        },
        {
         "name": "Cluster 6",
         "rawType": "float64",
         "type": "float"
        },
        {
         "name": "Cluster 7",
         "rawType": "float64",
         "type": "float"
        },
        {
         "name": "Cluster 8",
         "rawType": "float64",
         "type": "float"
        },
        {
         "name": "Cluster 9",
         "rawType": "float64",
         "type": "float"
        },
        {
         "name": "Cluster 10",
         "rawType": "float64",
         "type": "float"
        },
        {
         "name": "Cluster 11",
         "rawType": "float64",
         "type": "float"
        },
        {
         "name": "Cluster 12",
         "rawType": "float64",
         "type": "float"
        },
        {
         "name": "Cluster 13",
         "rawType": "float64",
         "type": "float"
        },
        {
         "name": "Cluster 14",
         "rawType": "float64",
         "type": "float"
        }
       ],
       "ref": "9401dc43-2fe5-4c04-a6c2-9aa80ee4e938",
       "rows": [
        [
         "ctrx_quarter",
         "141.0",
         "7.0",
         "101.0",
         "25.0",
         "69.5",
         "89.5",
         "38.5",
         "92.0",
         "158.0",
         "3.0",
         "6.0",
         "29.0",
         "9.0",
         "160.0",
         "113.0"
        ],
        [
         "mpasivos_margen",
         "1037.63",
         "15.0",
         "819.64",
         "53.45",
         "114.115",
         "754.23",
         "64.85",
         "312.695",
         "1109.62",
         "0.91",
         "0.04",
         "440.985",
         "13.39",
         "1815.9",
         "501.75"
        ],
        [
         "cpayroll_trx",
         "0.0",
         "0.0",
         "1.0",
         "0.0",
         "1.0",
         "0.0",
         "0.0",
         "0.0",
         "1.0",
         "0.0",
         "0.0",
         "0.0",
         "0.0",
         "1.0",
         "1.0"
        ],
        [
         "mpayroll",
         "0.0",
         "0.0",
         "93935.01",
         "0.0",
         "75648.28",
         "0.0",
         "0.0",
         "0.0",
         "112709.41",
         "0.0",
         "0.0",
         "0.0",
         "0.0",
         "144044.9",
         "81272.81"
        ],
        [
         "mcaja_ahorro",
         "35238.87",
         "0.0",
         "48507.8",
         "328.99",
         "8683.855",
         "9762.310000000001",
         "1255.02",
         "12840.045",
         "39968.84",
         "0.0",
         "0.0",
         "14340.57",
         "68.21000000000001",
         "88062.1",
         "18355.5"
        ],
        [
         "mautoservicio",
         "14502.29",
         "0.0",
         "21139.04",
         "0.0",
         "4860.46",
         "0.0",
         "0.0",
         "7294.76",
         "22383.3",
         "0.0",
         "0.0",
         "0.0",
         "0.0",
         "27568.6",
         "5397.95"
        ],
        [
         "ctarjeta_debito_transacciones",
         "7.0",
         "0.0",
         "11.0",
         "0.0",
         "3.0",
         "0.0",
         "0.0",
         "5.0",
         "10.0",
         "0.0",
         "0.0",
         "0.0",
         "0.0",
         "14.0",
         "3.0"
        ],
        [
         "mtarjeta_visa_consumo",
         "34155.2",
         "0.0",
         "4637.2",
         "3844.15",
         "527.165",
         "40760.15",
         "1486.78",
         "5153.655000000001",
         "36815.2",
         "0.0",
         "0.0",
         "6475.805",
         "0.0",
         "31628.86",
         "25375.7"
        ],
        [
         "Visa_msaldopesos",
         "37047.04",
         "0.0",
         "4983.835",
         "7535.8",
         "3997.53",
         "45319.56",
         "5812.66",
         "6126.125",
         "41931.04",
         "0.0",
         "0.0",
         "8682.18",
         "0.0",
         "31170.48",
         "28031.95"
        ],
        [
         "mtransferencias_emitidas",
         "23694.6",
         "0.0",
         "14662.5",
         "0.0",
         "3812.25",
         "0.0",
         "0.0",
         "12688.925",
         "30673.95",
         "0.0",
         "0.0",
         "0.0",
         "0.0",
         "23694.6",
         "7683.15"
        ]
       ],
       "shape": {
        "columns": 15,
        "rows": 10
       }
      },
      "text/html": [
       "<div>\n",
       "<style scoped>\n",
       "    .dataframe tbody tr th:only-of-type {\n",
       "        vertical-align: middle;\n",
       "    }\n",
       "\n",
       "    .dataframe tbody tr th {\n",
       "        vertical-align: top;\n",
       "    }\n",
       "\n",
       "    .dataframe thead th {\n",
       "        text-align: right;\n",
       "    }\n",
       "</style>\n",
       "<table border=\"1\" class=\"dataframe\">\n",
       "  <thead>\n",
       "    <tr style=\"text-align: right;\">\n",
       "      <th></th>\n",
       "      <th>Cluster 0</th>\n",
       "      <th>Cluster 1</th>\n",
       "      <th>Cluster 2</th>\n",
       "      <th>Cluster 3</th>\n",
       "      <th>Cluster 4</th>\n",
       "      <th>Cluster 5</th>\n",
       "      <th>Cluster 6</th>\n",
       "      <th>Cluster 7</th>\n",
       "      <th>Cluster 8</th>\n",
       "      <th>Cluster 9</th>\n",
       "      <th>Cluster 10</th>\n",
       "      <th>Cluster 11</th>\n",
       "      <th>Cluster 12</th>\n",
       "      <th>Cluster 13</th>\n",
       "      <th>Cluster 14</th>\n",
       "    </tr>\n",
       "  </thead>\n",
       "  <tbody>\n",
       "    <tr>\n",
       "      <th>ctrx_quarter</th>\n",
       "      <td>141.00</td>\n",
       "      <td>7.0</td>\n",
       "      <td>101.000</td>\n",
       "      <td>25.00</td>\n",
       "      <td>69.500</td>\n",
       "      <td>89.50</td>\n",
       "      <td>38.50</td>\n",
       "      <td>92.000</td>\n",
       "      <td>158.00</td>\n",
       "      <td>3.00</td>\n",
       "      <td>6.00</td>\n",
       "      <td>29.000</td>\n",
       "      <td>9.00</td>\n",
       "      <td>160.00</td>\n",
       "      <td>113.00</td>\n",
       "    </tr>\n",
       "    <tr>\n",
       "      <th>mpasivos_margen</th>\n",
       "      <td>1037.63</td>\n",
       "      <td>15.0</td>\n",
       "      <td>819.640</td>\n",
       "      <td>53.45</td>\n",
       "      <td>114.115</td>\n",
       "      <td>754.23</td>\n",
       "      <td>64.85</td>\n",
       "      <td>312.695</td>\n",
       "      <td>1109.62</td>\n",
       "      <td>0.91</td>\n",
       "      <td>0.04</td>\n",
       "      <td>440.985</td>\n",
       "      <td>13.39</td>\n",
       "      <td>1815.90</td>\n",
       "      <td>501.75</td>\n",
       "    </tr>\n",
       "    <tr>\n",
       "      <th>cpayroll_trx</th>\n",
       "      <td>0.00</td>\n",
       "      <td>0.0</td>\n",
       "      <td>1.000</td>\n",
       "      <td>0.00</td>\n",
       "      <td>1.000</td>\n",
       "      <td>0.00</td>\n",
       "      <td>0.00</td>\n",
       "      <td>0.000</td>\n",
       "      <td>1.00</td>\n",
       "      <td>0.00</td>\n",
       "      <td>0.00</td>\n",
       "      <td>0.000</td>\n",
       "      <td>0.00</td>\n",
       "      <td>1.00</td>\n",
       "      <td>1.00</td>\n",
       "    </tr>\n",
       "    <tr>\n",
       "      <th>mpayroll</th>\n",
       "      <td>0.00</td>\n",
       "      <td>0.0</td>\n",
       "      <td>93935.010</td>\n",
       "      <td>0.00</td>\n",
       "      <td>75648.280</td>\n",
       "      <td>0.00</td>\n",
       "      <td>0.00</td>\n",
       "      <td>0.000</td>\n",
       "      <td>112709.41</td>\n",
       "      <td>0.00</td>\n",
       "      <td>0.00</td>\n",
       "      <td>0.000</td>\n",
       "      <td>0.00</td>\n",
       "      <td>144044.90</td>\n",
       "      <td>81272.81</td>\n",
       "    </tr>\n",
       "    <tr>\n",
       "      <th>mcaja_ahorro</th>\n",
       "      <td>35238.87</td>\n",
       "      <td>0.0</td>\n",
       "      <td>48507.800</td>\n",
       "      <td>328.99</td>\n",
       "      <td>8683.855</td>\n",
       "      <td>9762.31</td>\n",
       "      <td>1255.02</td>\n",
       "      <td>12840.045</td>\n",
       "      <td>39968.84</td>\n",
       "      <td>0.00</td>\n",
       "      <td>0.00</td>\n",
       "      <td>14340.570</td>\n",
       "      <td>68.21</td>\n",
       "      <td>88062.10</td>\n",
       "      <td>18355.50</td>\n",
       "    </tr>\n",
       "    <tr>\n",
       "      <th>mautoservicio</th>\n",
       "      <td>14502.29</td>\n",
       "      <td>0.0</td>\n",
       "      <td>21139.040</td>\n",
       "      <td>0.00</td>\n",
       "      <td>4860.460</td>\n",
       "      <td>0.00</td>\n",
       "      <td>0.00</td>\n",
       "      <td>7294.760</td>\n",
       "      <td>22383.30</td>\n",
       "      <td>0.00</td>\n",
       "      <td>0.00</td>\n",
       "      <td>0.000</td>\n",
       "      <td>0.00</td>\n",
       "      <td>27568.60</td>\n",
       "      <td>5397.95</td>\n",
       "    </tr>\n",
       "    <tr>\n",
       "      <th>ctarjeta_debito_transacciones</th>\n",
       "      <td>7.00</td>\n",
       "      <td>0.0</td>\n",
       "      <td>11.000</td>\n",
       "      <td>0.00</td>\n",
       "      <td>3.000</td>\n",
       "      <td>0.00</td>\n",
       "      <td>0.00</td>\n",
       "      <td>5.000</td>\n",
       "      <td>10.00</td>\n",
       "      <td>0.00</td>\n",
       "      <td>0.00</td>\n",
       "      <td>0.000</td>\n",
       "      <td>0.00</td>\n",
       "      <td>14.00</td>\n",
       "      <td>3.00</td>\n",
       "    </tr>\n",
       "    <tr>\n",
       "      <th>mtarjeta_visa_consumo</th>\n",
       "      <td>34155.20</td>\n",
       "      <td>0.0</td>\n",
       "      <td>4637.200</td>\n",
       "      <td>3844.15</td>\n",
       "      <td>527.165</td>\n",
       "      <td>40760.15</td>\n",
       "      <td>1486.78</td>\n",
       "      <td>5153.655</td>\n",
       "      <td>36815.20</td>\n",
       "      <td>0.00</td>\n",
       "      <td>0.00</td>\n",
       "      <td>6475.805</td>\n",
       "      <td>0.00</td>\n",
       "      <td>31628.86</td>\n",
       "      <td>25375.70</td>\n",
       "    </tr>\n",
       "    <tr>\n",
       "      <th>Visa_msaldopesos</th>\n",
       "      <td>37047.04</td>\n",
       "      <td>0.0</td>\n",
       "      <td>4983.835</td>\n",
       "      <td>7535.80</td>\n",
       "      <td>3997.530</td>\n",
       "      <td>45319.56</td>\n",
       "      <td>5812.66</td>\n",
       "      <td>6126.125</td>\n",
       "      <td>41931.04</td>\n",
       "      <td>0.00</td>\n",
       "      <td>0.00</td>\n",
       "      <td>8682.180</td>\n",
       "      <td>0.00</td>\n",
       "      <td>31170.48</td>\n",
       "      <td>28031.95</td>\n",
       "    </tr>\n",
       "    <tr>\n",
       "      <th>mtransferencias_emitidas</th>\n",
       "      <td>23694.60</td>\n",
       "      <td>0.0</td>\n",
       "      <td>14662.500</td>\n",
       "      <td>0.00</td>\n",
       "      <td>3812.250</td>\n",
       "      <td>0.00</td>\n",
       "      <td>0.00</td>\n",
       "      <td>12688.925</td>\n",
       "      <td>30673.95</td>\n",
       "      <td>0.00</td>\n",
       "      <td>0.00</td>\n",
       "      <td>0.000</td>\n",
       "      <td>0.00</td>\n",
       "      <td>23694.60</td>\n",
       "      <td>7683.15</td>\n",
       "    </tr>\n",
       "  </tbody>\n",
       "</table>\n",
       "</div>"
      ],
      "text/plain": [
       "                               Cluster 0  Cluster 1  Cluster 2  Cluster 3  \\\n",
       "ctrx_quarter                      141.00        7.0    101.000      25.00   \n",
       "mpasivos_margen                  1037.63       15.0    819.640      53.45   \n",
       "cpayroll_trx                        0.00        0.0      1.000       0.00   \n",
       "mpayroll                            0.00        0.0  93935.010       0.00   \n",
       "mcaja_ahorro                    35238.87        0.0  48507.800     328.99   \n",
       "mautoservicio                   14502.29        0.0  21139.040       0.00   \n",
       "ctarjeta_debito_transacciones       7.00        0.0     11.000       0.00   \n",
       "mtarjeta_visa_consumo           34155.20        0.0   4637.200    3844.15   \n",
       "Visa_msaldopesos                37047.04        0.0   4983.835    7535.80   \n",
       "mtransferencias_emitidas        23694.60        0.0  14662.500       0.00   \n",
       "\n",
       "                               Cluster 4  Cluster 5  Cluster 6  Cluster 7  \\\n",
       "ctrx_quarter                      69.500      89.50      38.50     92.000   \n",
       "mpasivos_margen                  114.115     754.23      64.85    312.695   \n",
       "cpayroll_trx                       1.000       0.00       0.00      0.000   \n",
       "mpayroll                       75648.280       0.00       0.00      0.000   \n",
       "mcaja_ahorro                    8683.855    9762.31    1255.02  12840.045   \n",
       "mautoservicio                   4860.460       0.00       0.00   7294.760   \n",
       "ctarjeta_debito_transacciones      3.000       0.00       0.00      5.000   \n",
       "mtarjeta_visa_consumo            527.165   40760.15    1486.78   5153.655   \n",
       "Visa_msaldopesos                3997.530   45319.56    5812.66   6126.125   \n",
       "mtransferencias_emitidas        3812.250       0.00       0.00  12688.925   \n",
       "\n",
       "                               Cluster 8  Cluster 9  Cluster 10  Cluster 11  \\\n",
       "ctrx_quarter                      158.00       3.00        6.00      29.000   \n",
       "mpasivos_margen                  1109.62       0.91        0.04     440.985   \n",
       "cpayroll_trx                        1.00       0.00        0.00       0.000   \n",
       "mpayroll                       112709.41       0.00        0.00       0.000   \n",
       "mcaja_ahorro                    39968.84       0.00        0.00   14340.570   \n",
       "mautoservicio                   22383.30       0.00        0.00       0.000   \n",
       "ctarjeta_debito_transacciones      10.00       0.00        0.00       0.000   \n",
       "mtarjeta_visa_consumo           36815.20       0.00        0.00    6475.805   \n",
       "Visa_msaldopesos                41931.04       0.00        0.00    8682.180   \n",
       "mtransferencias_emitidas        30673.95       0.00        0.00       0.000   \n",
       "\n",
       "                               Cluster 12  Cluster 13  Cluster 14  \n",
       "ctrx_quarter                         9.00      160.00      113.00  \n",
       "mpasivos_margen                     13.39     1815.90      501.75  \n",
       "cpayroll_trx                         0.00        1.00        1.00  \n",
       "mpayroll                             0.00   144044.90    81272.81  \n",
       "mcaja_ahorro                        68.21    88062.10    18355.50  \n",
       "mautoservicio                        0.00    27568.60     5397.95  \n",
       "ctarjeta_debito_transacciones        0.00       14.00        3.00  \n",
       "mtarjeta_visa_consumo                0.00    31628.86    25375.70  \n",
       "Visa_msaldopesos                     0.00    31170.48    28031.95  \n",
       "mtransferencias_emitidas             0.00    23694.60     7683.15  "
      ]
     },
     "metadata": {},
     "output_type": "display_data"
    }
   ],
   "source": [
    "# sacar las features más importantes\n",
    "importances = model.feature_importances_\n",
    "feature_names = Xtrain_rf.columns\n",
    "feature_importance_series = pd.Series(importances, index=feature_names)\n",
    "\n",
    "feature_selected = feature_importance_series.sort_values(ascending=False)\n",
    "\n",
    "n_top = 10 # cantidad de variables a evaluar.\n",
    "top_overall_features = feature_selected.head(n_top).index.tolist()\n",
    "\n",
    "cluster_series_aligned = pd.Series(clusters, index=Xtrain_rf.index)\n",
    "\n",
    "cluster_median_values = {}\n",
    "\n",
    "for cluster in sorted(np.unique(clusters)):\n",
    "    cluster_indices = cluster_series_aligned[cluster_series_aligned == cluster].index\n",
    "    cluster_data = Xtrain_rf.loc[cluster_indices, top_overall_features]\n",
    "\n",
    "    # Usar el estadístico de su preferencia\n",
    "    values = cluster_data.median()\n",
    "    cluster_median_values[f'Cluster {cluster}'] = values\n",
    "\n",
    "top_overall_features_df = pd.DataFrame(cluster_median_values)\n",
    "display(top_overall_features_df)"
   ]
  },
  {
   "cell_type": "code",
   "execution_count": 17,
   "metadata": {
    "colab": {
     "base_uri": "https://localhost:8080/",
     "height": 444
    },
    "executionInfo": {
     "elapsed": 32,
     "status": "ok",
     "timestamp": 1756861681586,
     "user": {
      "displayName": "Alejandro Bolaños",
      "userId": "15513030842131101305"
     },
     "user_tz": 180
    },
    "id": "pRlHmcCuGNJV",
    "outputId": "28a0cc33-ef1b-419d-f403-2f017cbd2d7d"
   },
   "outputs": [
    {
     "data": {
      "application/vnd.microsoft.datawrangler.viewer.v0+json": {
       "columns": [
        {
         "name": "index",
         "rawType": "int64",
         "type": "integer"
        },
        {
         "name": "ctrx_quarter",
         "rawType": "int64",
         "type": "integer"
        },
        {
         "name": "mpasivos_margen",
         "rawType": "float64",
         "type": "float"
        },
        {
         "name": "cpayroll_trx",
         "rawType": "int64",
         "type": "integer"
        },
        {
         "name": "mpayroll",
         "rawType": "float64",
         "type": "float"
        },
        {
         "name": "mcaja_ahorro",
         "rawType": "float64",
         "type": "float"
        },
        {
         "name": "mautoservicio",
         "rawType": "float64",
         "type": "float"
        },
        {
         "name": "ctarjeta_debito_transacciones",
         "rawType": "int64",
         "type": "integer"
        },
        {
         "name": "mtarjeta_visa_consumo",
         "rawType": "float64",
         "type": "float"
        },
        {
         "name": "Visa_msaldopesos",
         "rawType": "float64",
         "type": "float"
        },
        {
         "name": "mtransferencias_emitidas",
         "rawType": "float64",
         "type": "float"
        }
       ],
       "ref": "cbc37fed-46e2-4678-b17d-8407431600fc",
       "rows": [
        [
         "1692",
         "205",
         "720.66",
         "1",
         "117999.1",
         "20215.92",
         "21911.78",
         "18",
         "33775.36",
         "34176.44",
         "15812.04"
        ],
        [
         "5133",
         "43",
         "458.44",
         "1",
         "15347.53",
         "23819.43",
         "0.0",
         "0",
         "11881.04",
         "12023.62",
         "7683.15"
        ],
        [
         "11481",
         "176",
         "1391.75",
         "1",
         "126845.87",
         "39968.5",
         "0.0",
         "0",
         "93858.4",
         "94228.12",
         "118195.17"
        ],
        [
         "12994",
         "125",
         "1914.85",
         "2",
         "371600.69",
         "82728.27",
         "0.0",
         "0",
         "9356.3",
         "9164.77",
         "105915.38"
        ],
        [
         "16895",
         "58",
         "5228.27",
         "1",
         "53813.5",
         "358944.0",
         "0.0",
         "0",
         "27609.62",
         "27940.94",
         "75094.04"
        ],
        [
         "17562",
         "182",
         "935.19",
         "1",
         "23504.82",
         "41099.77",
         "0.0",
         "0",
         "50217.2",
         "50819.81",
         "23874.06"
        ],
        [
         "19016",
         "109",
         "3737.92",
         "3",
         "449325.86",
         "211910.41",
         "0.0",
         "0",
         "121389.74",
         "122416.18",
         "5915.43"
        ],
        [
         "19370",
         "220",
         "1798.58",
         "2",
         "171466.66",
         "38659.65",
         "0.0",
         "0",
         "183997.38",
         "186082.53",
         "21868.29"
        ],
        [
         "23545",
         "76",
         "197.11",
         "1",
         "69720.77",
         "16725.7",
         "1330.34",
         "2",
         "16815.89",
         "16568.51",
         "0.0"
        ],
        [
         "24365",
         "195",
         "273.94",
         "1",
         "77816.82",
         "9236.78",
         "12857.6",
         "12",
         "14392.76",
         "49084.8",
         "38583.13"
        ],
        [
         "31734",
         "269",
         "6291.0",
         "1",
         "147258.78",
         "333161.91",
         "0.0",
         "0",
         "448377.93",
         "444822.67",
         "532776.6"
        ],
        [
         "33015",
         "41",
         "1637.71",
         "1",
         "144136.69",
         "95505.94",
         "0.0",
         "0",
         "8257.92",
         "8357.01",
         "46920.0"
        ],
        [
         "34493",
         "124",
         "564.97",
         "1",
         "521953.32",
         "54729.63",
         "47613.86",
         "10",
         "28136.57",
         "28031.95",
         "703.8"
        ],
        [
         "36907",
         "68",
         "305.08",
         "1",
         "73255.02",
         "10961.86",
         "4516.17",
         "2",
         "21120.46",
         "21373.91",
         "914.94"
        ],
        [
         "39539",
         "61",
         "1010.06",
         "1",
         "189850.12",
         "65198.01",
         "0.0",
         "0",
         "16446.19",
         "16643.55",
         "141827.43"
        ],
        [
         "57314",
         "100",
         "501.75",
         "1",
         "104114.3",
         "15800.5",
         "0.0",
         "0",
         "30022.16",
         "30380.04",
         "50439.0"
        ],
        [
         "66313",
         "192",
         "1793.71",
         "1",
         "211310.51",
         "77265.35",
         "0.0",
         "0",
         "52727.13",
         "52773.36",
         "115844.51"
        ],
        [
         "72710",
         "40",
         "571.75",
         "2",
         "36363.0",
         "9349.26",
         "4805.11",
         "3",
         "22279.22",
         "22962.04",
         "0.0"
        ],
        [
         "73594",
         "63",
         "1235.19",
         "2",
         "92920.2",
         "82183.01",
         "0.0",
         "0",
         "20799.06",
         "21464.12",
         "0.0"
        ],
        [
         "79942",
         "93",
         "528.53",
         "1",
         "95537.33",
         "33881.84",
         "14771.63",
         "7",
         "9613.69",
         "109062.71",
         "0.0"
        ],
        [
         "91827",
         "233",
         "1205.99",
         "1",
         "477137.69",
         "26063.33",
         "67808.18",
         "28",
         "78991.02",
         "79011.45",
         "11964.6"
        ],
        [
         "98656",
         "135",
         "532.71",
         "1",
         "34476.81",
         "26934.01",
         "2497.31",
         "2",
         "56000.31",
         "56175.06",
         "16949.85"
        ],
        [
         "103553",
         "93",
         "280.13",
         "2",
         "3894.36",
         "10273.27",
         "703.8",
         "1",
         "25540.43",
         "24925.93",
         "26626.88"
        ],
        [
         "103896",
         "150",
         "385.71",
         "5",
         "81445.41",
         "24615.89",
         "10281.86",
         "10",
         "38749.04",
         "38608.28",
         "1554.22"
        ],
        [
         "110244",
         "138",
         "3799.18",
         "1",
         "175899.56",
         "279046.33",
         "0.0",
         "0",
         "16428.69",
         "16699.34",
         "211140.0"
        ],
        [
         "116783",
         "114",
         "546.06",
         "1",
         "64121.08",
         "12953.69",
         "24918.67",
         "6",
         "23830.1",
         "66791.65",
         "20468.85"
        ],
        [
         "127270",
         "149",
         "534.61",
         "2",
         "48383.9",
         "25078.59",
         "42229.56",
         "20",
         "30904.16",
         "37742.7",
         "3519.0"
        ],
        [
         "136215",
         "85",
         "2001.06",
         "1",
         "182693.57",
         "76580.5",
         "0.0",
         "0",
         "188819.6",
         "186682.36",
         "18264.21"
        ],
        [
         "136581",
         "75",
         "484.1",
         "1",
         "11730.0",
         "18586.79",
         "0.0",
         "0",
         "20750.28",
         "20691.74",
         "0.0"
        ],
        [
         "142070",
         "90",
         "662.14",
         "2",
         "119783.24",
         "28118.46",
         "12859.55",
         "5",
         "31226.87",
         "31601.6",
         "0.0"
        ],
        [
         "151196",
         "43",
         "2267.69",
         "1",
         "234600.0",
         "121924.3",
         "0.0",
         "0",
         "12900.91",
         "13018.21",
         "19684.11"
        ],
        [
         "152458",
         "159",
         "988.03",
         "2",
         "49438.99",
         "954.96",
         "0.0",
         "0",
         "84964.7",
         "92255.17",
         "17917.57"
        ],
        [
         "160411",
         "257",
         "8112.27",
         "1",
         "1756624.97",
         "284204.91",
         "0.0",
         "0",
         "470247.52",
         "471443.16",
         "58650.0"
        ],
        [
         "168486",
         "144",
         "508.79",
         "2",
         "107792.83",
         "18912.83",
         "63845.58",
         "17",
         "44230.82",
         "69830.95",
         "0.0"
        ],
        [
         "178465",
         "109",
         "345.44",
         "3",
         "214198.7",
         "23812.9",
         "26970.47",
         "16",
         "26941.51",
         "27370.4",
         "54802.56"
        ],
        [
         "181803",
         "115",
         "191.29",
         "1",
         "36448.62",
         "10231.93",
         "6691.36",
         "8",
         "16114.58",
         "16307.96",
         "26603.64"
        ],
        [
         "191974",
         "114",
         "311.3",
         "1",
         "49322.69",
         "13833.03",
         "8814.68",
         "3",
         "13283.94",
         "160008.03",
         "0.0"
        ],
        [
         "199596",
         "255",
         "903.23",
         "1",
         "105853.86",
         "32355.93",
         "29275.55",
         "8",
         "94641.14",
         "66964.85",
         "0.0"
        ],
        [
         "202975",
         "63",
         "315.7",
         "7",
         "490314.0",
         "21872.57",
         "0.0",
         "0",
         "0.0",
         "0.0",
         "0.0"
        ],
        [
         "205725",
         "88",
         "403.86",
         "2",
         "123779.51",
         "12016.38",
         "10274.72",
         "2",
         "22151.64",
         "22483.92",
         "47330.55"
        ],
        [
         "207986",
         "71",
         "685.42",
         "1",
         "97499.76",
         "51271.07",
         "14346.61",
         "6",
         "19611.31",
         "19748.59",
         "0.0"
        ],
        [
         "211469",
         "55",
         "2410.01",
         "2",
         "77287.79",
         "184769.98",
         "0.0",
         "0",
         "0.0",
         "0.0",
         "0.0"
        ],
        [
         "215049",
         "120",
         "265.67",
         "4",
         "97900.92",
         "8695.15",
         "4644.77",
         "2",
         "28716.6",
         "29061.2",
         "0.0"
        ],
        [
         "222906",
         "121",
         "463.95",
         "3",
         "64290.95",
         "8663.5",
         "828.13",
         "1",
         "34522.56",
         "67189.92",
         "0.0"
        ],
        [
         "226131",
         "75",
         "6720.03",
         "5",
         "214921.14",
         "446849.51",
         "0.0",
         "0",
         "81964.52",
         "82200.13",
         "288558.0"
        ],
        [
         "227361",
         "97",
         "674.53",
         "3",
         "154319.51",
         "43782.9",
         "76032.24",
         "11",
         "15378.48",
         "14917.87",
         "0.0"
        ],
        [
         "236379",
         "219",
         "723.1",
         "1",
         "65028.77",
         "18068.44",
         "24750.82",
         "12",
         "43204.29",
         "68733.22",
         "39627.22"
        ],
        [
         "238589",
         "237",
         "589.76",
         "1",
         "238501.58",
         "33885.65",
         "54769.11",
         "29",
         "24525.71",
         "68391.58",
         "38202.26"
        ],
        [
         "241953",
         "54",
         "867.86",
         "1",
         "81748.71",
         "33637.17",
         "0.0",
         "0",
         "10177.19",
         "10177.19",
         "29442.3"
        ],
        [
         "251489",
         "35",
         "239.15",
         "1",
         "19941.0",
         "9219.78",
         "5153.76",
         "2",
         "12107.64",
         "12252.93",
         "2697.9"
        ]
       ],
       "shape": {
        "columns": 10,
        "rows": 245
       }
      },
      "text/html": [
       "<div>\n",
       "<style scoped>\n",
       "    .dataframe tbody tr th:only-of-type {\n",
       "        vertical-align: middle;\n",
       "    }\n",
       "\n",
       "    .dataframe tbody tr th {\n",
       "        vertical-align: top;\n",
       "    }\n",
       "\n",
       "    .dataframe thead th {\n",
       "        text-align: right;\n",
       "    }\n",
       "</style>\n",
       "<table border=\"1\" class=\"dataframe\">\n",
       "  <thead>\n",
       "    <tr style=\"text-align: right;\">\n",
       "      <th></th>\n",
       "      <th>ctrx_quarter</th>\n",
       "      <th>mpasivos_margen</th>\n",
       "      <th>cpayroll_trx</th>\n",
       "      <th>mpayroll</th>\n",
       "      <th>mcaja_ahorro</th>\n",
       "      <th>mautoservicio</th>\n",
       "      <th>ctarjeta_debito_transacciones</th>\n",
       "      <th>mtarjeta_visa_consumo</th>\n",
       "      <th>Visa_msaldopesos</th>\n",
       "      <th>mtransferencias_emitidas</th>\n",
       "    </tr>\n",
       "  </thead>\n",
       "  <tbody>\n",
       "    <tr>\n",
       "      <th>1692</th>\n",
       "      <td>205</td>\n",
       "      <td>720.66</td>\n",
       "      <td>1</td>\n",
       "      <td>117999.10</td>\n",
       "      <td>20215.92</td>\n",
       "      <td>21911.78</td>\n",
       "      <td>18</td>\n",
       "      <td>33775.36</td>\n",
       "      <td>34176.44</td>\n",
       "      <td>15812.04</td>\n",
       "    </tr>\n",
       "    <tr>\n",
       "      <th>5133</th>\n",
       "      <td>43</td>\n",
       "      <td>458.44</td>\n",
       "      <td>1</td>\n",
       "      <td>15347.53</td>\n",
       "      <td>23819.43</td>\n",
       "      <td>0.00</td>\n",
       "      <td>0</td>\n",
       "      <td>11881.04</td>\n",
       "      <td>12023.62</td>\n",
       "      <td>7683.15</td>\n",
       "    </tr>\n",
       "    <tr>\n",
       "      <th>11481</th>\n",
       "      <td>176</td>\n",
       "      <td>1391.75</td>\n",
       "      <td>1</td>\n",
       "      <td>126845.87</td>\n",
       "      <td>39968.50</td>\n",
       "      <td>0.00</td>\n",
       "      <td>0</td>\n",
       "      <td>93858.40</td>\n",
       "      <td>94228.12</td>\n",
       "      <td>118195.17</td>\n",
       "    </tr>\n",
       "    <tr>\n",
       "      <th>12994</th>\n",
       "      <td>125</td>\n",
       "      <td>1914.85</td>\n",
       "      <td>2</td>\n",
       "      <td>371600.69</td>\n",
       "      <td>82728.27</td>\n",
       "      <td>0.00</td>\n",
       "      <td>0</td>\n",
       "      <td>9356.30</td>\n",
       "      <td>9164.77</td>\n",
       "      <td>105915.38</td>\n",
       "    </tr>\n",
       "    <tr>\n",
       "      <th>16895</th>\n",
       "      <td>58</td>\n",
       "      <td>5228.27</td>\n",
       "      <td>1</td>\n",
       "      <td>53813.50</td>\n",
       "      <td>358944.00</td>\n",
       "      <td>0.00</td>\n",
       "      <td>0</td>\n",
       "      <td>27609.62</td>\n",
       "      <td>27940.94</td>\n",
       "      <td>75094.04</td>\n",
       "    </tr>\n",
       "    <tr>\n",
       "      <th>...</th>\n",
       "      <td>...</td>\n",
       "      <td>...</td>\n",
       "      <td>...</td>\n",
       "      <td>...</td>\n",
       "      <td>...</td>\n",
       "      <td>...</td>\n",
       "      <td>...</td>\n",
       "      <td>...</td>\n",
       "      <td>...</td>\n",
       "      <td>...</td>\n",
       "    </tr>\n",
       "    <tr>\n",
       "      <th>961595</th>\n",
       "      <td>104</td>\n",
       "      <td>351.95</td>\n",
       "      <td>4</td>\n",
       "      <td>128382.50</td>\n",
       "      <td>26982.38</td>\n",
       "      <td>61496.00</td>\n",
       "      <td>21</td>\n",
       "      <td>14787.20</td>\n",
       "      <td>13989.18</td>\n",
       "      <td>19530.45</td>\n",
       "    </tr>\n",
       "    <tr>\n",
       "      <th>965887</th>\n",
       "      <td>80</td>\n",
       "      <td>209.69</td>\n",
       "      <td>3</td>\n",
       "      <td>133447.51</td>\n",
       "      <td>13040.69</td>\n",
       "      <td>0.00</td>\n",
       "      <td>0</td>\n",
       "      <td>5289.87</td>\n",
       "      <td>5293.67</td>\n",
       "      <td>586.50</td>\n",
       "    </tr>\n",
       "    <tr>\n",
       "      <th>966077</th>\n",
       "      <td>46</td>\n",
       "      <td>474.99</td>\n",
       "      <td>1</td>\n",
       "      <td>80777.48</td>\n",
       "      <td>26926.41</td>\n",
       "      <td>3274.55</td>\n",
       "      <td>2</td>\n",
       "      <td>14978.90</td>\n",
       "      <td>15158.65</td>\n",
       "      <td>914.94</td>\n",
       "    </tr>\n",
       "    <tr>\n",
       "      <th>971118</th>\n",
       "      <td>58</td>\n",
       "      <td>255.96</td>\n",
       "      <td>2</td>\n",
       "      <td>92408.94</td>\n",
       "      <td>9852.66</td>\n",
       "      <td>5196.39</td>\n",
       "      <td>4</td>\n",
       "      <td>18168.85</td>\n",
       "      <td>17892.98</td>\n",
       "      <td>7636.01</td>\n",
       "    </tr>\n",
       "    <tr>\n",
       "      <th>976944</th>\n",
       "      <td>43</td>\n",
       "      <td>1000.20</td>\n",
       "      <td>1</td>\n",
       "      <td>167051.62</td>\n",
       "      <td>31790.22</td>\n",
       "      <td>18056.14</td>\n",
       "      <td>6</td>\n",
       "      <td>39555.08</td>\n",
       "      <td>40028.73</td>\n",
       "      <td>0.00</td>\n",
       "    </tr>\n",
       "  </tbody>\n",
       "</table>\n",
       "<p>245 rows × 10 columns</p>\n",
       "</div>"
      ],
      "text/plain": [
       "        ctrx_quarter  mpasivos_margen  cpayroll_trx   mpayroll  mcaja_ahorro  \\\n",
       "1692             205           720.66             1  117999.10      20215.92   \n",
       "5133              43           458.44             1   15347.53      23819.43   \n",
       "11481            176          1391.75             1  126845.87      39968.50   \n",
       "12994            125          1914.85             2  371600.69      82728.27   \n",
       "16895             58          5228.27             1   53813.50     358944.00   \n",
       "...              ...              ...           ...        ...           ...   \n",
       "961595           104           351.95             4  128382.50      26982.38   \n",
       "965887            80           209.69             3  133447.51      13040.69   \n",
       "966077            46           474.99             1   80777.48      26926.41   \n",
       "971118            58           255.96             2   92408.94       9852.66   \n",
       "976944            43          1000.20             1  167051.62      31790.22   \n",
       "\n",
       "        mautoservicio  ctarjeta_debito_transacciones  mtarjeta_visa_consumo  \\\n",
       "1692         21911.78                             18               33775.36   \n",
       "5133             0.00                              0               11881.04   \n",
       "11481            0.00                              0               93858.40   \n",
       "12994            0.00                              0                9356.30   \n",
       "16895            0.00                              0               27609.62   \n",
       "...               ...                            ...                    ...   \n",
       "961595       61496.00                             21               14787.20   \n",
       "965887           0.00                              0                5289.87   \n",
       "966077        3274.55                              2               14978.90   \n",
       "971118        5196.39                              4               18168.85   \n",
       "976944       18056.14                              6               39555.08   \n",
       "\n",
       "        Visa_msaldopesos  mtransferencias_emitidas  \n",
       "1692            34176.44                  15812.04  \n",
       "5133            12023.62                   7683.15  \n",
       "11481           94228.12                 118195.17  \n",
       "12994            9164.77                 105915.38  \n",
       "16895           27940.94                  75094.04  \n",
       "...                  ...                       ...  \n",
       "961595          13989.18                  19530.45  \n",
       "965887           5293.67                    586.50  \n",
       "966077          15158.65                    914.94  \n",
       "971118          17892.98                   7636.01  \n",
       "976944          40028.73                      0.00  \n",
       "\n",
       "[245 rows x 10 columns]"
      ]
     },
     "execution_count": 17,
     "metadata": {},
     "output_type": "execute_result"
    }
   ],
   "source": [
    "cluster_data"
   ]
  },
  {
   "cell_type": "markdown",
   "metadata": {
    "id": "nBiE6leAptAS"
   },
   "source": [
    "Otra de forma de explorar es graficar uno contra todos"
   ]
  },
  {
   "cell_type": "code",
   "execution_count": 18,
   "metadata": {
    "colab": {
     "base_uri": "https://localhost:8080/",
     "height": 381
    },
    "executionInfo": {
     "elapsed": 33,
     "status": "ok",
     "timestamp": 1756861681618,
     "user": {
      "displayName": "Alejandro Bolaños",
      "userId": "15513030842131101305"
     },
     "user_tz": 180
    },
    "id": "InKni1zsqwTE",
    "outputId": "e3a8f5d2-8d6d-49b9-d874-0a4969b06b0c"
   },
   "outputs": [
    {
     "name": "stdout",
     "output_type": "stream",
     "text": [
      "'mcaja_ahorro' - Cluster 0 vs. Rest\n"
     ]
    },
    {
     "data": {
      "application/vnd.microsoft.datawrangler.viewer.v0+json": {
       "columns": [
        {
         "name": "index",
         "rawType": "object",
         "type": "string"
        },
        {
         "name": "Cluster 0",
         "rawType": "float64",
         "type": "float"
        },
        {
         "name": "Rest of Clusters",
         "rawType": "float64",
         "type": "float"
        }
       ],
       "ref": "0e016a1a-a9be-4cee-a74e-28b6204f6619",
       "rows": [
        [
         "count",
         "359.0",
         "3628.0"
        ],
        [
         "mean",
         "105891.81710306404",
         "42479.47915931643"
        ],
        [
         "std",
         "276805.6420908267",
         "173564.00901059614"
        ],
        [
         "min",
         "0.0",
         "0.0"
        ],
        [
         "25%",
         "14252.779999999999",
         "9.205"
        ],
        [
         "50%",
         "35238.87",
         "4729.61"
        ],
        [
         "75%",
         "83907.685",
         "30157.3575"
        ],
        [
         "max",
         "2782365.82",
         "4787508.07"
        ],
        [
         "unique",
         "354.0",
         "2782.0"
        ],
        [
         "missing",
         "0.0",
         "0.0"
        ]
       ],
       "shape": {
        "columns": 2,
        "rows": 10
       }
      },
      "text/html": [
       "<div>\n",
       "<style scoped>\n",
       "    .dataframe tbody tr th:only-of-type {\n",
       "        vertical-align: middle;\n",
       "    }\n",
       "\n",
       "    .dataframe tbody tr th {\n",
       "        vertical-align: top;\n",
       "    }\n",
       "\n",
       "    .dataframe thead th {\n",
       "        text-align: right;\n",
       "    }\n",
       "</style>\n",
       "<table border=\"1\" class=\"dataframe\">\n",
       "  <thead>\n",
       "    <tr style=\"text-align: right;\">\n",
       "      <th></th>\n",
       "      <th>Cluster 0</th>\n",
       "      <th>Rest of Clusters</th>\n",
       "    </tr>\n",
       "  </thead>\n",
       "  <tbody>\n",
       "    <tr>\n",
       "      <th>count</th>\n",
       "      <td>3.590000e+02</td>\n",
       "      <td>3.628000e+03</td>\n",
       "    </tr>\n",
       "    <tr>\n",
       "      <th>mean</th>\n",
       "      <td>1.058918e+05</td>\n",
       "      <td>4.247948e+04</td>\n",
       "    </tr>\n",
       "    <tr>\n",
       "      <th>std</th>\n",
       "      <td>2.768056e+05</td>\n",
       "      <td>1.735640e+05</td>\n",
       "    </tr>\n",
       "    <tr>\n",
       "      <th>min</th>\n",
       "      <td>0.000000e+00</td>\n",
       "      <td>0.000000e+00</td>\n",
       "    </tr>\n",
       "    <tr>\n",
       "      <th>25%</th>\n",
       "      <td>1.425278e+04</td>\n",
       "      <td>9.205000e+00</td>\n",
       "    </tr>\n",
       "    <tr>\n",
       "      <th>50%</th>\n",
       "      <td>3.523887e+04</td>\n",
       "      <td>4.729610e+03</td>\n",
       "    </tr>\n",
       "    <tr>\n",
       "      <th>75%</th>\n",
       "      <td>8.390768e+04</td>\n",
       "      <td>3.015736e+04</td>\n",
       "    </tr>\n",
       "    <tr>\n",
       "      <th>max</th>\n",
       "      <td>2.782366e+06</td>\n",
       "      <td>4.787508e+06</td>\n",
       "    </tr>\n",
       "    <tr>\n",
       "      <th>unique</th>\n",
       "      <td>3.540000e+02</td>\n",
       "      <td>2.782000e+03</td>\n",
       "    </tr>\n",
       "    <tr>\n",
       "      <th>missing</th>\n",
       "      <td>0.000000e+00</td>\n",
       "      <td>0.000000e+00</td>\n",
       "    </tr>\n",
       "  </tbody>\n",
       "</table>\n",
       "</div>"
      ],
      "text/plain": [
       "            Cluster 0  Rest of Clusters\n",
       "count    3.590000e+02      3.628000e+03\n",
       "mean     1.058918e+05      4.247948e+04\n",
       "std      2.768056e+05      1.735640e+05\n",
       "min      0.000000e+00      0.000000e+00\n",
       "25%      1.425278e+04      9.205000e+00\n",
       "50%      3.523887e+04      4.729610e+03\n",
       "75%      8.390768e+04      3.015736e+04\n",
       "max      2.782366e+06      4.787508e+06\n",
       "unique   3.540000e+02      2.782000e+03\n",
       "missing  0.000000e+00      0.000000e+00"
      ]
     },
     "execution_count": 18,
     "metadata": {},
     "output_type": "execute_result"
    }
   ],
   "source": [
    "def compare_cluster_stats(data, clusters, variable_name, target_cluster):\n",
    "\n",
    "    cluster_series_aligned = pd.Series(clusters, index=data.index)\n",
    "\n",
    "    variable_data = data[variable_name]\n",
    "\n",
    "    target_cluster_indices = cluster_series_aligned[cluster_series_aligned == target_cluster].index\n",
    "    target_cluster_data = variable_data.loc[target_cluster_indices] # Keep NaNs for counting\n",
    "\n",
    "    rest_indices = cluster_series_aligned[cluster_series_aligned != target_cluster].index\n",
    "    rest_data = variable_data.loc[rest_indices] # Keep NaNs for counting\n",
    "\n",
    "    target_cluster_desc = target_cluster_data.dropna().describe()\n",
    "    rest_desc = rest_data.dropna().describe()\n",
    "\n",
    "    summary_df = pd.DataFrame({\n",
    "        f'Cluster {target_cluster}': target_cluster_desc,\n",
    "        f'Rest of Clusters': rest_desc\n",
    "    })\n",
    "\n",
    "    summary_df.loc['unique'] = [target_cluster_data.nunique(), rest_data.nunique()]\n",
    "    summary_df.loc['missing'] = [target_cluster_data.isnull().sum(), rest_data.isnull().sum()]\n",
    "\n",
    "    return summary_df\n",
    "\n",
    "print(f\"'mcaja_ahorro' - Cluster 0 vs. Rest\")\n",
    "compare_cluster_stats(Xtrain_rf, clusters, 'mcaja_ahorro', 0)"
   ]
  },
  {
   "cell_type": "markdown",
   "metadata": {
    "id": "eOc6CyrruMSK"
   },
   "source": [
    "Muy interesante... pero no hay una brújula que nos ayude a ver que variables comparar?\n",
    "\n",
    "Acá un salvavidas: Crea un modelo que busca separar los clusters del resto de los datos y nos devuelven las variables más importantes de esa separación"
   ]
  },
  {
   "cell_type": "code",
   "execution_count": 19,
   "metadata": {
    "colab": {
     "base_uri": "https://localhost:8080/"
    },
    "executionInfo": {
     "elapsed": 16129,
     "status": "ok",
     "timestamp": 1756861697755,
     "user": {
      "displayName": "Alejandro Bolaños",
      "userId": "15513030842131101305"
     },
     "user_tz": 180
    },
    "id": "1rtEi1B_uLG3",
    "outputId": "52734b9a-8a73-479b-9f14-c9d3f69d8123"
   },
   "outputs": [
    {
     "name": "stdout",
     "output_type": "stream",
     "text": [
      "Training model for Cluster 0 vs. Rest...\n",
      "Training model for Cluster 1 vs. Rest...\n",
      "Training model for Cluster 2 vs. Rest...\n",
      "Training model for Cluster 3 vs. Rest...\n",
      "Training model for Cluster 4 vs. Rest...\n",
      "Training model for Cluster 5 vs. Rest...\n",
      "Training model for Cluster 6 vs. Rest...\n",
      "Training model for Cluster 7 vs. Rest...\n",
      "Training model for Cluster 8 vs. Rest...\n",
      "Training model for Cluster 9 vs. Rest...\n",
      "Training model for Cluster 10 vs. Rest...\n",
      "Training model for Cluster 11 vs. Rest...\n",
      "Training model for Cluster 12 vs. Rest...\n",
      "Training model for Cluster 13 vs. Rest...\n",
      "Training model for Cluster 14 vs. Rest...\n"
     ]
    }
   ],
   "source": [
    "important_features_by_cluster = {}\n",
    "\n",
    "for cluster in sorted(np.unique(clusters)):\n",
    "    print(f\"Training model for Cluster {cluster} vs. Rest...\")\n",
    "    y_binary = (cluster_series_aligned == cluster).astype(int)\n",
    "\n",
    "    model = RandomForestClassifier(n_estimators=100, random_state=17, class_weight='balanced') # Added class_weight for imbalanced data\n",
    "    model.fit(Xtrain_rf_imp, y_binary)\n",
    "\n",
    "    importances = model.feature_importances_\n",
    "    feature_names = Xtrain_rf.columns\n",
    "\n",
    "    indices = np.argsort(importances)[::-1]\n",
    "\n",
    "    important_features_by_cluster[cluster] = [feature_names[i] for i in indices]\n"
   ]
  },
  {
   "cell_type": "markdown",
   "metadata": {
    "id": "uA4_gFQzu3AG"
   },
   "source": [
    "Vemos las más importantes para un cluster"
   ]
  },
  {
   "cell_type": "code",
   "execution_count": 20,
   "metadata": {
    "colab": {
     "base_uri": "https://localhost:8080/"
    },
    "executionInfo": {
     "elapsed": 12,
     "status": "ok",
     "timestamp": 1756861697770,
     "user": {
      "displayName": "Alejandro Bolaños",
      "userId": "15513030842131101305"
     },
     "user_tz": 180
    },
    "id": "P6V5T2f8u2NC",
    "outputId": "3d3ecdb5-212f-4930-a12b-060e1db5c45f"
   },
   "outputs": [
    {
     "name": "stdout",
     "output_type": "stream",
     "text": [
      "['mpayroll', 'cpayroll_trx', 'mautoservicio', 'mpasivos_margen', 'ctarjeta_debito_transacciones', 'ctrx_quarter', 'Visa_msaldototal', 'mtarjeta_visa_consumo', 'Visa_msaldopesos', 'Visa_mpagospesos', 'ctarjeta_visa_transacciones', 'Visa_mconsumototal', 'Visa_mpagominimo', 'ccomisiones_otras', 'Visa_cconsumos', 'mcaja_ahorro', 'mactivos_margen', 'mcomisiones_otras', 'Visa_mconsumospesos', 'ctransferencias_recibidas', 'mtransferencias_recibidas', 'mtransferencias_emitidas', 'mcomisiones', 'ctransferencias_emitidas', 'chomebanking_transacciones', 'ccomisiones_mantenimiento', 'mcomisiones_mantenimiento', 'mttarjeta_visa_debitos_automaticos', 'mcuentas_saldo', 'mrentabilidad_annual', 'mpagomiscuentas', 'mcuenta_corriente', 'mcuenta_debitos_automaticos', 'cliente_edad', 'cpagomiscuentas', 'numero_de_cliente', 'Visa_fechaalta', 'mrentabilidad', 'Visa_Fvencimiento', 'mcaja_ahorro_dolares', 'Master_Fvencimiento', 'cliente_antiguedad', 'ctarjeta_visa_debitos_automaticos', 'mextraccion_autoservicio', 'Master_fechaalta', 'matm', 'cextraccion_autoservicio', 'Master_mpagominimo', 'Master_msaldototal', 'mprestamos_personales', 'Visa_mlimitecompra', 'Master_mconsumototal', 'Master_mlimitecompra', 'ccuenta_debitos_automaticos', 'Visa_mfinanciacion_limite', 'cproductos', 'Visa_mconsumosdolares', 'Master_mfinanciacion_limite', 'cprestamos_personales', 'ctarjeta_visa', 'mtarjeta_master_consumo', 'matm_other', 'Master_mconsumospesos', 'Master_msaldopesos', 'catm_trx', 'Master_mpagospesos', 'Master_cconsumos', 'Visa_mpagado', 'ctarjeta_master_transacciones', 'Visa_msaldodolares', 'mttarjeta_master_debitos_automaticos', 'ctarjeta_debito', 'ctarjeta_master_debitos_automaticos', 'ccallcenter_transacciones', 'catm_trx_other', 'mtarjeta_visa_descuentos', 'mplazo_fijo_dolares', 'Master_mpagado', 'mcheques_emitidos', 'Master_fultimo_cierre', 'ctarjeta_visa_descuentos', 'mcaja_ahorro_adicional', 'cplazo_fijo', 'ccheques_emitidos', 'ccajeros_propios_descuentos', 'ccaja_ahorro', 'mcheques_depositados', 'minversion2', 'cseguro_vida', 'ccheques_depositados', 'Visa_fultimo_cierre', 'cmobile_app_trx', 'cseguro_accidentes_personales', 'ctarjeta_master_descuentos', 'tmobile_app', 'ccajas_extracciones', 'ccajas_consultas', 'ccajas_depositos', 'cforex', 'Visa_mpagosdolares', 'ccaja_seguridad', 'Master_msaldodolares', 'cprestamos_hipotecarios', 'thomebanking', 'ctarjeta_master', 'Master_mconsumosdolares', 'cseguro_vivienda', 'tcallcenter', 'cseguro_auto', 'mforex_buy', 'Visa_status', 'cinversion2', 'cprestamos_prendarios', 'cforex_sell', 'minversion1_pesos', 'mforex_sell', 'ccajas_otras', 'Master_mpagosdolares', 'ccajas_transacciones', 'mcajeros_propios_descuentos', 'mtarjeta_master_descuentos', 'Master_status', 'cpagodeservicios', 'mprestamos_hipotecarios', 'mprestamos_prendarios', 'internet', 'mpagodeservicios', 'Master_cadelantosefectivo', 'Visa_Finiciomora', 'Master_Finiciomora', 'mcuenta_corriente_adicional', 'Master_madelantopesos', 'cliente_vip', 'cinversion1', 'minversion1_dolares', 'Master_delinquency', 'Visa_delinquency', 'cforex_buy', 'mplazo_fijo_pesos', 'Visa_cadelantosefectivo', 'cdescubierto_preacordado', 'mcheques_depositados_rechazados', 'tcuentas', 'active_quarter', 'ccheques_depositados_rechazados', 'Visa_madelantodolares', 'Visa_madelantopesos', 'mcheques_emitidos_rechazados', 'Master_madelantodolares', 'ccheques_emitidos_rechazados', 'mpayroll2', 'cpayroll2_trx', 'ccuenta_corriente', 'foto_mes']\n"
     ]
    }
   ],
   "source": [
    "print(important_features_by_cluster[0])"
   ]
  },
  {
   "cell_type": "markdown",
   "metadata": {
    "id": "GApcw8q4u9FK"
   },
   "source": [
    "Y luego miramos los estadísticos"
   ]
  },
  {
   "cell_type": "code",
   "execution_count": 21,
   "metadata": {
    "colab": {
     "base_uri": "https://localhost:8080/",
     "height": 363
    },
    "executionInfo": {
     "elapsed": 37,
     "status": "ok",
     "timestamp": 1756861697808,
     "user": {
      "displayName": "Alejandro Bolaños",
      "userId": "15513030842131101305"
     },
     "user_tz": 180
    },
    "id": "3bFNVTOkvBLq",
    "outputId": "ddefad09-f601-44b7-d798-8225c5a74582"
   },
   "outputs": [
    {
     "data": {
      "application/vnd.microsoft.datawrangler.viewer.v0+json": {
       "columns": [
        {
         "name": "index",
         "rawType": "object",
         "type": "string"
        },
        {
         "name": "Cluster 1",
         "rawType": "float64",
         "type": "float"
        },
        {
         "name": "Rest of Clusters",
         "rawType": "float64",
         "type": "float"
        }
       ],
       "ref": "644f94f3-07d8-4956-9e34-7cceebd1fcff",
       "rows": [
        [
         "count",
         "239.0",
         "3748.0"
        ],
        [
         "mean",
         "34.090711297071124",
         "1053.8869690501601"
        ],
        [
         "std",
         "44.749935072441495",
         "2957.5373852059483"
        ],
        [
         "min",
         "-115.53",
         "-4004.3"
        ],
        [
         "25%",
         "0.36",
         "39.5775"
        ],
        [
         "50%",
         "15.0",
         "313.16999999999996"
        ],
        [
         "75%",
         "57.144999999999996",
         "996.4300000000001"
        ],
        [
         "max",
         "176.21",
         "62444.94"
        ],
        [
         "unique",
         "191.0",
         "3378.0"
        ],
        [
         "missing",
         "0.0",
         "0.0"
        ]
       ],
       "shape": {
        "columns": 2,
        "rows": 10
       }
      },
      "text/html": [
       "<div>\n",
       "<style scoped>\n",
       "    .dataframe tbody tr th:only-of-type {\n",
       "        vertical-align: middle;\n",
       "    }\n",
       "\n",
       "    .dataframe tbody tr th {\n",
       "        vertical-align: top;\n",
       "    }\n",
       "\n",
       "    .dataframe thead th {\n",
       "        text-align: right;\n",
       "    }\n",
       "</style>\n",
       "<table border=\"1\" class=\"dataframe\">\n",
       "  <thead>\n",
       "    <tr style=\"text-align: right;\">\n",
       "      <th></th>\n",
       "      <th>Cluster 1</th>\n",
       "      <th>Rest of Clusters</th>\n",
       "    </tr>\n",
       "  </thead>\n",
       "  <tbody>\n",
       "    <tr>\n",
       "      <th>count</th>\n",
       "      <td>239.000000</td>\n",
       "      <td>3748.000000</td>\n",
       "    </tr>\n",
       "    <tr>\n",
       "      <th>mean</th>\n",
       "      <td>34.090711</td>\n",
       "      <td>1053.886969</td>\n",
       "    </tr>\n",
       "    <tr>\n",
       "      <th>std</th>\n",
       "      <td>44.749935</td>\n",
       "      <td>2957.537385</td>\n",
       "    </tr>\n",
       "    <tr>\n",
       "      <th>min</th>\n",
       "      <td>-115.530000</td>\n",
       "      <td>-4004.300000</td>\n",
       "    </tr>\n",
       "    <tr>\n",
       "      <th>25%</th>\n",
       "      <td>0.360000</td>\n",
       "      <td>39.577500</td>\n",
       "    </tr>\n",
       "    <tr>\n",
       "      <th>50%</th>\n",
       "      <td>15.000000</td>\n",
       "      <td>313.170000</td>\n",
       "    </tr>\n",
       "    <tr>\n",
       "      <th>75%</th>\n",
       "      <td>57.145000</td>\n",
       "      <td>996.430000</td>\n",
       "    </tr>\n",
       "    <tr>\n",
       "      <th>max</th>\n",
       "      <td>176.210000</td>\n",
       "      <td>62444.940000</td>\n",
       "    </tr>\n",
       "    <tr>\n",
       "      <th>unique</th>\n",
       "      <td>191.000000</td>\n",
       "      <td>3378.000000</td>\n",
       "    </tr>\n",
       "    <tr>\n",
       "      <th>missing</th>\n",
       "      <td>0.000000</td>\n",
       "      <td>0.000000</td>\n",
       "    </tr>\n",
       "  </tbody>\n",
       "</table>\n",
       "</div>"
      ],
      "text/plain": [
       "          Cluster 1  Rest of Clusters\n",
       "count    239.000000       3748.000000\n",
       "mean      34.090711       1053.886969\n",
       "std       44.749935       2957.537385\n",
       "min     -115.530000      -4004.300000\n",
       "25%        0.360000         39.577500\n",
       "50%       15.000000        313.170000\n",
       "75%       57.145000        996.430000\n",
       "max      176.210000      62444.940000\n",
       "unique   191.000000       3378.000000\n",
       "missing    0.000000          0.000000"
      ]
     },
     "execution_count": 21,
     "metadata": {},
     "output_type": "execute_result"
    }
   ],
   "source": [
    "compare_cluster_stats(Xtrain_rf, clusters, 'mpasivos_margen', 1)"
   ]
  },
  {
   "cell_type": "markdown",
   "metadata": {
    "id": "boaeupnAvETq"
   },
   "source": [
    "Es perfecto? **NO** pero es orientativo"
   ]
  },
  {
   "cell_type": "markdown",
   "metadata": {
    "id": "h5WHCJDw53Pa"
   },
   "source": [
    "Luego resta, analizar los estadísticos de los datos de cada cluster para las variables importantes, comparar sus distribuciones con histogramas, boxplots, pivot tables, etc.\n"
   ]
  },
  {
   "cell_type": "markdown",
   "metadata": {
    "id": "Th9-1pcqMZeG"
   },
   "source": [
    "Junto con el diccionaro de datos, de sentido a lo que ve a través del análisis multivariado de datos.\n",
    "\n",
    "Obviamente, esto es apenas mas que una semilla. Agregue las variables históricas, juegue con los **rf** y genere una segmentación pro, que encante a Miranda\n"
   ]
  }
 ],
 "metadata": {
  "colab": {
   "authorship_tag": "ABX9TyOdDpVsewlavVF3ocYSlANq",
   "mount_file_id": "1vLX5GJBVvYumKwJY4yjLt2eststrUBy6",
   "provenance": []
  },
  "kernelspec": {
   "display_name": "segmentacion",
   "language": "python",
   "name": "python3"
  },
  "language_info": {
   "codemirror_mode": {
    "name": "ipython",
    "version": 3
   },
   "file_extension": ".py",
   "mimetype": "text/x-python",
   "name": "python",
   "nbconvert_exporter": "python",
   "pygments_lexer": "ipython3",
   "version": "3.11.13"
  }
 },
 "nbformat": 4,
 "nbformat_minor": 0
}
